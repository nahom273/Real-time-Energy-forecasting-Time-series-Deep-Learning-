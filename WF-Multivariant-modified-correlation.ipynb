{
 "cells": [
  {
   "cell_type": "code",
   "execution_count": 2,
   "id": "34bcb352",
   "metadata": {},
   "outputs": [],
   "source": [
    "import tensorflow as tf\n",
    "import os\n",
    "import pandas as pd\n",
    "import numpy as np\n",
    "import matplotlib as plt\n",
    "from sklearn.metrics import mean_squared_error as mse\n",
    "from sklearn.preprocessing import MinMaxScaler\n",
    "import warnings\n",
    "import matplotlib.pyplot as plt\n",
    "warnings.filterwarnings('ignore')\n",
    "%matplotlib inline"
   ]
  },
  {
   "cell_type": "code",
   "execution_count": 3,
   "id": "8de1d777",
   "metadata": {},
   "outputs": [],
   "source": [
    "df = pd.read_csv('timeseries.csv')\n"
   ]
  },
  {
   "cell_type": "code",
   "execution_count": 4,
   "id": "4aafd42e",
   "metadata": {},
   "outputs": [
    {
     "data": {
      "text/plain": [
       "96418                                        20201231:1007\n",
       "96419                                        20201231:1107\n",
       "96420                                        20201231:1207\n",
       "96421                                        20201231:1307\n",
       "96422                                        20201231:1407\n",
       "96423                                        20201231:1507\n",
       "96424                                        20201231:1607\n",
       "96425                                        20201231:1707\n",
       "96426                                        20201231:1807\n",
       "96427                                        20201231:1907\n",
       "96428                                        20201231:2007\n",
       "96429                                        20201231:2107\n",
       "96430                                        20201231:2207\n",
       "96431                                        20201231:2307\n",
       "96433    G(i): Global irradiance on the inclined plane ...\n",
       "96434                           H_sun: Sun height (degree)\n",
       "96435            T2m: 2-m air temperature (degree Celsius)\n",
       "96436                   WS10m: 10-m total wind speed (m/s)\n",
       "96437    Int: 1 means solar radiation values are recons...\n",
       "96441                             PVGIS (c) European Union\n",
       "Name: time, dtype: object"
      ]
     },
     "execution_count": 4,
     "metadata": {},
     "output_type": "execute_result"
    }
   ],
   "source": [
    "df = df.dropna(subset=['time']) \n",
    "df['time'].tail(20)\n",
    "# df['time'][78886]"
   ]
  },
  {
   "cell_type": "code",
   "execution_count": 5,
   "id": "e031791d",
   "metadata": {
    "scrolled": true
   },
   "outputs": [
    {
     "name": "stdout",
     "output_type": "stream",
     "text": [
      "       H_sun    T2m  WS10m\n",
      "96421   24.3  28.01   3.72\n",
      "96422   11.9  26.94   3.59\n",
      "96423    0.0  24.97   2.55\n",
      "96424    0.0  23.19   1.86\n",
      "96425    0.0  20.98   1.45\n",
      "96426    0.0  19.31   1.38\n",
      "96427    0.0  17.90   1.45\n",
      "96428    0.0  16.52   1.52\n",
      "96429    0.0  15.39   1.59\n",
      "96430    0.0  14.28   1.59\n",
      "H_sun    float64\n",
      "T2m      float64\n",
      "WS10m    float64\n",
      "dtype: object\n"
     ]
    }
   ],
   "source": [
    "df = df[:96431:]\n",
    "df_multi = df.iloc[:,2:5] # removing the time column \n",
    "df.tail(30)\n",
    "print(df_multi.tail(10))\n",
    "print(df_multi.dtypes)\n",
    "# y = [x for x in df['Int'] if x == 0.0]\n",
    "# print(y)b\n",
    "# type(df_multi)\n"
   ]
  },
  {
   "cell_type": "code",
   "execution_count": 8,
   "id": "028a46da",
   "metadata": {},
   "outputs": [
    {
     "name": "stdout",
     "output_type": "stream",
     "text": [
      "(96431, 3)\n",
      "[[0.         0.15526224 0.26194399]\n",
      " [0.         0.13581105 0.29489292]\n",
      " [0.         0.12782216 0.30642504]\n",
      " [0.03197405 0.12400139 0.31795717]\n",
      " [0.18153383 0.18339701 0.28336079]\n",
      " [0.32228916 0.32025009 0.28336079]\n",
      " [0.44775255 0.44911428 0.28336079]\n",
      " [0.54622335 0.51684613 0.27347611]\n",
      " [0.59905005 0.55331712 0.20428336]]\n"
     ]
    }
   ],
   "source": [
    "# Initialize the Min-Max Scaler\n",
    "\n",
    "scaler = MinMaxScaler(feature_range=(0, 1))\n",
    "\n",
    "# Fit and transform the data\n",
    "scaled_data = scaler.fit_transform(df_multi)\n",
    "print(scaled_data.shape)\n",
    "print(scaled_data[1:10,:])"
   ]
  },
  {
   "cell_type": "code",
   "execution_count": 9,
   "id": "545c72b0",
   "metadata": {},
   "outputs": [],
   "source": [
    "df_orignal_scaled = scaled_data\n",
    "df_orignal = df_multi\n",
    "df_scaled = scaled_data[:78888:]"
   ]
  },
  {
   "cell_type": "code",
   "execution_count": 10,
   "id": "5bdc65e8",
   "metadata": {},
   "outputs": [
    {
     "name": "stdout",
     "output_type": "stream",
     "text": [
      "[[0.         0.17262939 0.26194399]\n",
      " [0.         0.15526224 0.26194399]\n",
      " [0.         0.13581105 0.29489292]\n",
      " [0.         0.12782216 0.30642504]\n",
      " [0.03197405 0.12400139 0.31795717]]\n",
      "[0.18153383 0.18339701 0.28336079]\n"
     ]
    }
   ],
   "source": [
    "\n",
    "print(df_scaled[0:5,:]) # this it the input\n",
    "print(df_scaled[5,:]) # this is the output"
   ]
  },
  {
   "cell_type": "code",
   "execution_count": 11,
   "id": "3de6a076",
   "metadata": {},
   "outputs": [],
   "source": [
    "def df_to_X_y(df_as_np, window_size=5):\n",
    "#   df_as_np = df.to_numpy()\n",
    "  X = []\n",
    "  y = []\n",
    "  for i in range(len(df_as_np)-window_size):\n",
    "    row = [a for a in df_as_np[i:i+window_size,:]]\n",
    "    X.append(row)\n",
    "    label = df_as_np[i+window_size,:]\n",
    "    y.append(label)\n",
    "  return np.array(X), np.array(y)"
   ]
  },
  {
   "cell_type": "code",
   "execution_count": 12,
   "id": "0ea1be1c",
   "metadata": {},
   "outputs": [
    {
     "name": "stdout",
     "output_type": "stream",
     "text": [
      "[[0.         0.15526224 0.26194399]\n",
      " [0.         0.13581105 0.29489292]\n",
      " [0.         0.12782216 0.30642504]\n",
      " [0.03197405 0.12400139 0.31795717]\n",
      " [0.18153383 0.18339701 0.28336079]]\n",
      "slfejlksdjlfkjdslkjfjlk\n",
      "[0.32228916 0.32025009 0.28336079]\n"
     ]
    },
    {
     "data": {
      "text/plain": [
       "((78883, 5, 3), (78883, 3))"
      ]
     },
     "execution_count": 12,
     "metadata": {},
     "output_type": "execute_result"
    }
   ],
   "source": [
    "WINDOW_SIZE = 5\n",
    "X1, y1 = df_to_X_y(df_scaled, WINDOW_SIZE)\n",
    "print(X1[1])\n",
    "print(\"slfejlksdjlfkjdslkjfjlk\")\n",
    "print(y1[1])\n",
    "X1.shape, y1.shape"
   ]
  },
  {
   "cell_type": "code",
   "execution_count": 13,
   "id": "8d26efb8",
   "metadata": {},
   "outputs": [
    {
     "data": {
      "text/plain": [
       "((61367, 5, 3), (61367, 3), (8760, 5, 3), (8760, 3), (8755, 5, 3), (8755, 3))"
      ]
     },
     "execution_count": 13,
     "metadata": {},
     "output_type": "execute_result"
    }
   ],
   "source": [
    "X_train1, y_train1 = X1[:61367], y1[:61367]\n",
    "X_val1, y_val1 = X1[61367:70127], y1[61367:70127] # 1 year for validation [61,367 , 70127]\n",
    "X_test1, y_test1 = X1[70128:], y1[70128:] #  1 year testing [70,128 , 78887]\n",
    "X_train1.shape, y_train1.shape, X_val1.shape, y_val1.shape, X_test1.shape, y_test1.shape\n"
   ]
  },
  {
   "cell_type": "code",
   "execution_count": 16,
   "id": "890206a4",
   "metadata": {},
   "outputs": [
    {
     "name": "stdout",
     "output_type": "stream",
     "text": [
      "Model: \"sequential_2\"\n",
      "_________________________________________________________________\n",
      " Layer (type)                Output Shape              Param #   \n",
      "=================================================================\n",
      " lstm_2 (LSTM)               (None, 64)                17408     \n",
      "                                                                 \n",
      " dense_4 (Dense)             (None, 8)                 520       \n",
      "                                                                 \n",
      " dense_5 (Dense)             (None, 3)                 27        \n",
      "                                                                 \n",
      "=================================================================\n",
      "Total params: 17,955\n",
      "Trainable params: 17,955\n",
      "Non-trainable params: 0\n",
      "_________________________________________________________________\n"
     ]
    }
   ],
   "source": [
    "from tensorflow.keras.models import Sequential\n",
    "from tensorflow.keras.layers import *\n",
    "from tensorflow.keras.callbacks import ModelCheckpoint\n",
    "from tensorflow.keras.losses import MeanSquaredError\n",
    "from tensorflow.keras.metrics import RootMeanSquaredError\n",
    "from tensorflow.keras.optimizers import Adam\n",
    "\n",
    "model1 = Sequential()\n",
    "model1.add(InputLayer((5, 3)))\n",
    "model1.add(LSTM(64))\n",
    "model1.add(Dense(8, 'relu'))\n",
    "model1.add(Dense(3, 'linear'))\n",
    "\n",
    "model1.summary()"
   ]
  },
  {
   "cell_type": "code",
   "execution_count": 17,
   "id": "19972ed9",
   "metadata": {},
   "outputs": [],
   "source": [
    "from tensorflow.keras.callbacks import EarlyStopping"
   ]
  },
  {
   "cell_type": "code",
   "execution_count": 18,
   "id": "7addce40",
   "metadata": {},
   "outputs": [],
   "source": [
    "early_stopping = EarlyStopping(monitor='val_loss', min_delta=0.01, patience=6, verbose=1, mode='min')"
   ]
  },
  {
   "cell_type": "code",
   "execution_count": 19,
   "id": "d8219317",
   "metadata": {},
   "outputs": [],
   "source": [
    "cp1 = ModelCheckpoint('model_correlation/', save_best_only=True)\n",
    "# metrics , learning rate, loss  can be changed \n",
    "model1.compile(loss=MeanSquaredError(), optimizer=Adam(learning_rate=0.001), metrics=[RootMeanSquaredError()])"
   ]
  },
  {
   "cell_type": "code",
   "execution_count": 20,
   "id": "dc237de2",
   "metadata": {
    "scrolled": true
   },
   "outputs": [
    {
     "name": "stdout",
     "output_type": "stream",
     "text": [
      "Epoch 1/100\n",
      "1913/1918 [============================>.] - ETA: 0s - loss: 0.0075 - root_mean_squared_error: 0.0869"
     ]
    },
    {
     "name": "stderr",
     "output_type": "stream",
     "text": [
      "WARNING:absl:Found untraced functions such as lstm_cell_2_layer_call_fn, lstm_cell_2_layer_call_and_return_conditional_losses while saving (showing 2 of 2). These functions will not be directly callable after loading.\n"
     ]
    },
    {
     "name": "stdout",
     "output_type": "stream",
     "text": [
      "INFO:tensorflow:Assets written to: model_correlation\\assets\n"
     ]
    },
    {
     "name": "stderr",
     "output_type": "stream",
     "text": [
      "INFO:tensorflow:Assets written to: model_correlation\\assets\n"
     ]
    },
    {
     "name": "stdout",
     "output_type": "stream",
     "text": [
      "1918/1918 [==============================] - 18s 8ms/step - loss: 0.0075 - root_mean_squared_error: 0.0868 - val_loss: 0.0028 - val_root_mean_squared_error: 0.0524\n",
      "Epoch 2/100\n",
      "1907/1918 [============================>.] - ETA: 0s - loss: 0.0022 - root_mean_squared_error: 0.0468"
     ]
    },
    {
     "name": "stderr",
     "output_type": "stream",
     "text": [
      "WARNING:absl:Found untraced functions such as lstm_cell_2_layer_call_fn, lstm_cell_2_layer_call_and_return_conditional_losses while saving (showing 2 of 2). These functions will not be directly callable after loading.\n"
     ]
    },
    {
     "name": "stdout",
     "output_type": "stream",
     "text": [
      "INFO:tensorflow:Assets written to: model_correlation\\assets\n"
     ]
    },
    {
     "name": "stderr",
     "output_type": "stream",
     "text": [
      "INFO:tensorflow:Assets written to: model_correlation\\assets\n"
     ]
    },
    {
     "name": "stdout",
     "output_type": "stream",
     "text": [
      "1918/1918 [==============================] - 16s 8ms/step - loss: 0.0022 - root_mean_squared_error: 0.0468 - val_loss: 0.0024 - val_root_mean_squared_error: 0.0493\n",
      "Epoch 3/100\n",
      "1913/1918 [============================>.] - ETA: 0s - loss: 0.0019 - root_mean_squared_error: 0.0440"
     ]
    },
    {
     "name": "stderr",
     "output_type": "stream",
     "text": [
      "WARNING:absl:Found untraced functions such as lstm_cell_2_layer_call_fn, lstm_cell_2_layer_call_and_return_conditional_losses while saving (showing 2 of 2). These functions will not be directly callable after loading.\n"
     ]
    },
    {
     "name": "stdout",
     "output_type": "stream",
     "text": [
      "INFO:tensorflow:Assets written to: model_correlation\\assets\n"
     ]
    },
    {
     "name": "stderr",
     "output_type": "stream",
     "text": [
      "INFO:tensorflow:Assets written to: model_correlation\\assets\n"
     ]
    },
    {
     "name": "stdout",
     "output_type": "stream",
     "text": [
      "1918/1918 [==============================] - 16s 8ms/step - loss: 0.0019 - root_mean_squared_error: 0.0440 - val_loss: 0.0023 - val_root_mean_squared_error: 0.0476\n",
      "Epoch 4/100\n",
      "1917/1918 [============================>.] - ETA: 0s - loss: 0.0018 - root_mean_squared_error: 0.0423"
     ]
    },
    {
     "name": "stderr",
     "output_type": "stream",
     "text": [
      "WARNING:absl:Found untraced functions such as lstm_cell_2_layer_call_fn, lstm_cell_2_layer_call_and_return_conditional_losses while saving (showing 2 of 2). These functions will not be directly callable after loading.\n"
     ]
    },
    {
     "name": "stdout",
     "output_type": "stream",
     "text": [
      "INFO:tensorflow:Assets written to: model_correlation\\assets\n"
     ]
    },
    {
     "name": "stderr",
     "output_type": "stream",
     "text": [
      "INFO:tensorflow:Assets written to: model_correlation\\assets\n"
     ]
    },
    {
     "name": "stdout",
     "output_type": "stream",
     "text": [
      "1918/1918 [==============================] - 16s 8ms/step - loss: 0.0018 - root_mean_squared_error: 0.0423 - val_loss: 0.0021 - val_root_mean_squared_error: 0.0460\n",
      "Epoch 5/100\n",
      "1910/1918 [============================>.] - ETA: 0s - loss: 0.0017 - root_mean_squared_error: 0.0410"
     ]
    },
    {
     "name": "stderr",
     "output_type": "stream",
     "text": [
      "WARNING:absl:Found untraced functions such as lstm_cell_2_layer_call_fn, lstm_cell_2_layer_call_and_return_conditional_losses while saving (showing 2 of 2). These functions will not be directly callable after loading.\n"
     ]
    },
    {
     "name": "stdout",
     "output_type": "stream",
     "text": [
      "INFO:tensorflow:Assets written to: model_correlation\\assets\n"
     ]
    },
    {
     "name": "stderr",
     "output_type": "stream",
     "text": [
      "INFO:tensorflow:Assets written to: model_correlation\\assets\n"
     ]
    },
    {
     "name": "stdout",
     "output_type": "stream",
     "text": [
      "1918/1918 [==============================] - 17s 9ms/step - loss: 0.0017 - root_mean_squared_error: 0.0409 - val_loss: 0.0019 - val_root_mean_squared_error: 0.0440\n",
      "Epoch 6/100\n",
      "1918/1918 [==============================] - ETA: 0s - loss: 0.0016 - root_mean_squared_error: 0.0398"
     ]
    },
    {
     "name": "stderr",
     "output_type": "stream",
     "text": [
      "WARNING:absl:Found untraced functions such as lstm_cell_2_layer_call_fn, lstm_cell_2_layer_call_and_return_conditional_losses while saving (showing 2 of 2). These functions will not be directly callable after loading.\n"
     ]
    },
    {
     "name": "stdout",
     "output_type": "stream",
     "text": [
      "INFO:tensorflow:Assets written to: model_correlation\\assets\n"
     ]
    },
    {
     "name": "stderr",
     "output_type": "stream",
     "text": [
      "INFO:tensorflow:Assets written to: model_correlation\\assets\n"
     ]
    },
    {
     "name": "stdout",
     "output_type": "stream",
     "text": [
      "1918/1918 [==============================] - 17s 9ms/step - loss: 0.0016 - root_mean_squared_error: 0.0398 - val_loss: 0.0019 - val_root_mean_squared_error: 0.0436\n",
      "Epoch 7/100\n",
      "1918/1918 [==============================] - ETA: 0s - loss: 0.0015 - root_mean_squared_error: 0.0389"
     ]
    },
    {
     "name": "stderr",
     "output_type": "stream",
     "text": [
      "WARNING:absl:Found untraced functions such as lstm_cell_2_layer_call_fn, lstm_cell_2_layer_call_and_return_conditional_losses while saving (showing 2 of 2). These functions will not be directly callable after loading.\n"
     ]
    },
    {
     "name": "stdout",
     "output_type": "stream",
     "text": [
      "INFO:tensorflow:Assets written to: model_correlation\\assets\n"
     ]
    },
    {
     "name": "stderr",
     "output_type": "stream",
     "text": [
      "INFO:tensorflow:Assets written to: model_correlation\\assets\n"
     ]
    },
    {
     "name": "stdout",
     "output_type": "stream",
     "text": [
      "1918/1918 [==============================] - 18s 9ms/step - loss: 0.0015 - root_mean_squared_error: 0.0389 - val_loss: 0.0018 - val_root_mean_squared_error: 0.0419\n",
      "Epoch 7: early stopping\n"
     ]
    },
    {
     "data": {
      "text/plain": [
       "<keras.callbacks.History at 0x21330559d30>"
      ]
     },
     "execution_count": 20,
     "metadata": {},
     "output_type": "execute_result"
    }
   ],
   "source": [
    "model1.fit(X_train1, y_train1, validation_data=(X_val1, y_val1), epochs=100, callbacks=[cp1,early_stopping])"
   ]
  },
  {
   "cell_type": "code",
   "execution_count": 21,
   "id": "a454c7f1",
   "metadata": {},
   "outputs": [],
   "source": [
    "from tensorflow.keras.models import load_model\n",
    "model1 = load_model('model_correlation/')"
   ]
  },
  {
   "cell_type": "code",
   "execution_count": 22,
   "id": "bdda30eb",
   "metadata": {},
   "outputs": [
    {
     "name": "stdout",
     "output_type": "stream",
     "text": [
      "1918/1918 [==============================] - 4s 2ms/step\n"
     ]
    },
    {
     "data": {
      "text/html": [
       "<div>\n",
       "<style scoped>\n",
       "    .dataframe tbody tr th:only-of-type {\n",
       "        vertical-align: middle;\n",
       "    }\n",
       "\n",
       "    .dataframe tbody tr th {\n",
       "        vertical-align: top;\n",
       "    }\n",
       "\n",
       "    .dataframe thead th {\n",
       "        text-align: right;\n",
       "    }\n",
       "</style>\n",
       "<table border=\"1\" class=\"dataframe\">\n",
       "  <thead>\n",
       "    <tr style=\"text-align: right;\">\n",
       "      <th></th>\n",
       "      <th>Train Predictions</th>\n",
       "      <th>Actuals</th>\n",
       "    </tr>\n",
       "  </thead>\n",
       "  <tbody>\n",
       "    <tr>\n",
       "      <th>0</th>\n",
       "      <td>0.133397</td>\n",
       "      <td>0.181534</td>\n",
       "    </tr>\n",
       "    <tr>\n",
       "      <th>1</th>\n",
       "      <td>0.185051</td>\n",
       "      <td>0.183397</td>\n",
       "    </tr>\n",
       "    <tr>\n",
       "      <th>2</th>\n",
       "      <td>0.279414</td>\n",
       "      <td>0.283361</td>\n",
       "    </tr>\n",
       "    <tr>\n",
       "      <th>3</th>\n",
       "      <td>0.361901</td>\n",
       "      <td>0.322289</td>\n",
       "    </tr>\n",
       "    <tr>\n",
       "      <th>4</th>\n",
       "      <td>0.351845</td>\n",
       "      <td>0.320250</td>\n",
       "    </tr>\n",
       "    <tr>\n",
       "      <th>5</th>\n",
       "      <td>0.233927</td>\n",
       "      <td>0.283361</td>\n",
       "    </tr>\n",
       "    <tr>\n",
       "      <th>6</th>\n",
       "      <td>0.469905</td>\n",
       "      <td>0.447753</td>\n",
       "    </tr>\n",
       "    <tr>\n",
       "      <th>7</th>\n",
       "      <td>0.430605</td>\n",
       "      <td>0.449114</td>\n",
       "    </tr>\n",
       "    <tr>\n",
       "      <th>8</th>\n",
       "      <td>0.280709</td>\n",
       "      <td>0.283361</td>\n",
       "    </tr>\n",
       "    <tr>\n",
       "      <th>9</th>\n",
       "      <td>0.557098</td>\n",
       "      <td>0.546223</td>\n",
       "    </tr>\n",
       "    <tr>\n",
       "      <th>10</th>\n",
       "      <td>0.525685</td>\n",
       "      <td>0.516846</td>\n",
       "    </tr>\n",
       "    <tr>\n",
       "      <th>11</th>\n",
       "      <td>0.254763</td>\n",
       "      <td>0.273476</td>\n",
       "    </tr>\n",
       "    <tr>\n",
       "      <th>12</th>\n",
       "      <td>0.619269</td>\n",
       "      <td>0.599050</td>\n",
       "    </tr>\n",
       "    <tr>\n",
       "      <th>13</th>\n",
       "      <td>0.568974</td>\n",
       "      <td>0.553317</td>\n",
       "    </tr>\n",
       "    <tr>\n",
       "      <th>14</th>\n",
       "      <td>0.235423</td>\n",
       "      <td>0.204283</td>\n",
       "    </tr>\n",
       "    <tr>\n",
       "      <th>15</th>\n",
       "      <td>0.619807</td>\n",
       "      <td>0.589782</td>\n",
       "    </tr>\n",
       "    <tr>\n",
       "      <th>16</th>\n",
       "      <td>0.596014</td>\n",
       "      <td>0.595693</td>\n",
       "    </tr>\n",
       "    <tr>\n",
       "      <th>17</th>\n",
       "      <td>0.197952</td>\n",
       "      <td>0.125206</td>\n",
       "    </tr>\n",
       "    <tr>\n",
       "      <th>18</th>\n",
       "      <td>0.534420</td>\n",
       "      <td>0.522011</td>\n",
       "    </tr>\n",
       "    <tr>\n",
       "      <th>19</th>\n",
       "      <td>0.631527</td>\n",
       "      <td>0.616534</td>\n",
       "    </tr>\n",
       "    <tr>\n",
       "      <th>20</th>\n",
       "      <td>0.146839</td>\n",
       "      <td>0.046129</td>\n",
       "    </tr>\n",
       "    <tr>\n",
       "      <th>21</th>\n",
       "      <td>0.422848</td>\n",
       "      <td>0.414157</td>\n",
       "    </tr>\n",
       "    <tr>\n",
       "      <th>22</th>\n",
       "      <td>0.636676</td>\n",
       "      <td>0.623480</td>\n",
       "    </tr>\n",
       "    <tr>\n",
       "      <th>23</th>\n",
       "      <td>0.081223</td>\n",
       "      <td>0.034596</td>\n",
       "    </tr>\n",
       "    <tr>\n",
       "      <th>24</th>\n",
       "      <td>0.299012</td>\n",
       "      <td>0.283480</td>\n",
       "    </tr>\n",
       "    <tr>\n",
       "      <th>25</th>\n",
       "      <td>0.628946</td>\n",
       "      <td>0.613407</td>\n",
       "    </tr>\n",
       "    <tr>\n",
       "      <th>26</th>\n",
       "      <td>0.106314</td>\n",
       "      <td>0.079077</td>\n",
       "    </tr>\n",
       "    <tr>\n",
       "      <th>27</th>\n",
       "      <td>0.164961</td>\n",
       "      <td>0.139713</td>\n",
       "    </tr>\n",
       "    <tr>\n",
       "      <th>28</th>\n",
       "      <td>0.597248</td>\n",
       "      <td>0.589788</td>\n",
       "    </tr>\n",
       "    <tr>\n",
       "      <th>29</th>\n",
       "      <td>0.146174</td>\n",
       "      <td>0.102142</td>\n",
       "    </tr>\n",
       "  </tbody>\n",
       "</table>\n",
       "</div>"
      ],
      "text/plain": [
       "    Train Predictions   Actuals\n",
       "0            0.133397  0.181534\n",
       "1            0.185051  0.183397\n",
       "2            0.279414  0.283361\n",
       "3            0.361901  0.322289\n",
       "4            0.351845  0.320250\n",
       "5            0.233927  0.283361\n",
       "6            0.469905  0.447753\n",
       "7            0.430605  0.449114\n",
       "8            0.280709  0.283361\n",
       "9            0.557098  0.546223\n",
       "10           0.525685  0.516846\n",
       "11           0.254763  0.273476\n",
       "12           0.619269  0.599050\n",
       "13           0.568974  0.553317\n",
       "14           0.235423  0.204283\n",
       "15           0.619807  0.589782\n",
       "16           0.596014  0.595693\n",
       "17           0.197952  0.125206\n",
       "18           0.534420  0.522011\n",
       "19           0.631527  0.616534\n",
       "20           0.146839  0.046129\n",
       "21           0.422848  0.414157\n",
       "22           0.636676  0.623480\n",
       "23           0.081223  0.034596\n",
       "24           0.299012  0.283480\n",
       "25           0.628946  0.613407\n",
       "26           0.106314  0.079077\n",
       "27           0.164961  0.139713\n",
       "28           0.597248  0.589788\n",
       "29           0.146174  0.102142"
      ]
     },
     "execution_count": 22,
     "metadata": {},
     "output_type": "execute_result"
    }
   ],
   "source": [
    "train_predictions = model1.predict(X_train1).flatten()\n",
    "train_results = pd.DataFrame(data={'Train Predictions':train_predictions, 'Actuals':y_train1.flatten()})\n",
    "train_results.head(30)"
   ]
  },
  {
   "cell_type": "code",
   "execution_count": 28,
   "id": "50fdd92d",
   "metadata": {},
   "outputs": [
    {
     "data": {
      "text/plain": [
       "[<matplotlib.lines.Line2D at 0x21333dda040>]"
      ]
     },
     "execution_count": 28,
     "metadata": {},
     "output_type": "execute_result"
    },
    {
     "data": {
      "image/png": "[encoded data removed]",
      "text/plain": [
       "<Figure size 640x480 with 1 Axes>"
      ]
     },
     "metadata": {},
     "output_type": "display_data"
    }
   ],
   "source": [
    "%matplotlib inline\n",
    "\n",
    "import matplotlib.pyplot as plt\n",
    "plt.plot(train_results['Train Predictions'][1:400:3])\n",
    "plt.plot(train_results['Actuals'][1:400:3])"
   ]
  },
  {
   "cell_type": "code",
   "execution_count": 29,
   "id": "479e2029",
   "metadata": {},
   "outputs": [
    {
     "name": "stdout",
     "output_type": "stream",
     "text": [
      "274/274 [==============================] - 0s 2ms/step\n"
     ]
    },
    {
     "data": {
      "text/html": [
       "<div>\n",
       "<style scoped>\n",
       "    .dataframe tbody tr th:only-of-type {\n",
       "        vertical-align: middle;\n",
       "    }\n",
       "\n",
       "    .dataframe tbody tr th {\n",
       "        vertical-align: top;\n",
       "    }\n",
       "\n",
       "    .dataframe thead th {\n",
       "        text-align: right;\n",
       "    }\n",
       "</style>\n",
       "<table border=\"1\" class=\"dataframe\">\n",
       "  <thead>\n",
       "    <tr style=\"text-align: right;\">\n",
       "      <th></th>\n",
       "      <th>Val Predictions</th>\n",
       "      <th>Actuals</th>\n",
       "    </tr>\n",
       "  </thead>\n",
       "  <tbody>\n",
       "    <tr>\n",
       "      <th>0</th>\n",
       "      <td>0.051349</td>\n",
       "      <td>0.031974</td>\n",
       "    </tr>\n",
       "    <tr>\n",
       "      <th>1</th>\n",
       "      <td>0.147935</td>\n",
       "      <td>0.113234</td>\n",
       "    </tr>\n",
       "    <tr>\n",
       "      <th>2</th>\n",
       "      <td>0.437441</td>\n",
       "      <td>0.489292</td>\n",
       "    </tr>\n",
       "    <tr>\n",
       "      <th>3</th>\n",
       "      <td>0.117947</td>\n",
       "      <td>0.181534</td>\n",
       "    </tr>\n",
       "    <tr>\n",
       "      <th>4</th>\n",
       "      <td>0.183925</td>\n",
       "      <td>0.191386</td>\n",
       "    </tr>\n",
       "    <tr>\n",
       "      <th>...</th>\n",
       "      <td>...</td>\n",
       "      <td>...</td>\n",
       "    </tr>\n",
       "    <tr>\n",
       "      <th>26275</th>\n",
       "      <td>0.180246</td>\n",
       "      <td>0.150747</td>\n",
       "    </tr>\n",
       "    <tr>\n",
       "      <th>26276</th>\n",
       "      <td>0.285394</td>\n",
       "      <td>0.294893</td>\n",
       "    </tr>\n",
       "    <tr>\n",
       "      <th>26277</th>\n",
       "      <td>0.059204</td>\n",
       "      <td>0.000000</td>\n",
       "    </tr>\n",
       "    <tr>\n",
       "      <th>26278</th>\n",
       "      <td>0.168128</td>\n",
       "      <td>0.129559</td>\n",
       "    </tr>\n",
       "    <tr>\n",
       "      <th>26279</th>\n",
       "      <td>0.266655</td>\n",
       "      <td>0.273476</td>\n",
       "    </tr>\n",
       "  </tbody>\n",
       "</table>\n",
       "<p>26280 rows × 2 columns</p>\n",
       "</div>"
      ],
      "text/plain": [
       "       Val Predictions   Actuals\n",
       "0             0.051349  0.031974\n",
       "1             0.147935  0.113234\n",
       "2             0.437441  0.489292\n",
       "3             0.117947  0.181534\n",
       "4             0.183925  0.191386\n",
       "...                ...       ...\n",
       "26275         0.180246  0.150747\n",
       "26276         0.285394  0.294893\n",
       "26277         0.059204  0.000000\n",
       "26278         0.168128  0.129559\n",
       "26279         0.266655  0.273476\n",
       "\n",
       "[26280 rows x 2 columns]"
      ]
     },
     "execution_count": 29,
     "metadata": {},
     "output_type": "execute_result"
    }
   ],
   "source": [
    "\n",
    "val_predictions = model1.predict(X_val1).flatten()\n",
    "val_results = pd.DataFrame(data={'Val Predictions':val_predictions, 'Actuals':y_val1.flatten()})\n",
    "val_results"
   ]
  },
  {
   "cell_type": "code",
   "execution_count": 30,
   "id": "f535c6a7",
   "metadata": {},
   "outputs": [
    {
     "data": {
      "text/plain": [
       "[<matplotlib.lines.Line2D at 0x2133f0e1490>]"
      ]
     },
     "execution_count": 30,
     "metadata": {},
     "output_type": "execute_result"
    },
    {
     "data": {
      "image/png": "[encoded data removed]",
      "text/plain": [
       "<Figure size 640x480 with 1 Axes>"
      ]
     },
     "metadata": {},
     "output_type": "display_data"
    }
   ],
   "source": [
    "plt.plot(val_results['Val Predictions'][1:200:3])\n",
    "plt.plot(val_results['Actuals'][1:200:3])"
   ]
  },
  {
   "cell_type": "code",
   "execution_count": 31,
   "id": "d68a14e7",
   "metadata": {},
   "outputs": [
    {
     "name": "stdout",
     "output_type": "stream",
     "text": [
      "274/274 [==============================] - 0s 2ms/step\n"
     ]
    },
    {
     "data": {
      "text/html": [
       "<div>\n",
       "<style scoped>\n",
       "    .dataframe tbody tr th:only-of-type {\n",
       "        vertical-align: middle;\n",
       "    }\n",
       "\n",
       "    .dataframe tbody tr th {\n",
       "        vertical-align: top;\n",
       "    }\n",
       "\n",
       "    .dataframe thead th {\n",
       "        text-align: right;\n",
       "    }\n",
       "</style>\n",
       "<table border=\"1\" class=\"dataframe\">\n",
       "  <thead>\n",
       "    <tr style=\"text-align: right;\">\n",
       "      <th></th>\n",
       "      <th>Test Predictions</th>\n",
       "      <th>Actuals</th>\n",
       "    </tr>\n",
       "  </thead>\n",
       "  <tbody>\n",
       "    <tr>\n",
       "      <th>0</th>\n",
       "      <td>0.129237</td>\n",
       "      <td>0.181534</td>\n",
       "    </tr>\n",
       "    <tr>\n",
       "      <th>1</th>\n",
       "      <td>0.174137</td>\n",
       "      <td>0.213963</td>\n",
       "    </tr>\n",
       "    <tr>\n",
       "      <th>2</th>\n",
       "      <td>0.233124</td>\n",
       "      <td>0.181219</td>\n",
       "    </tr>\n",
       "    <tr>\n",
       "      <th>3</th>\n",
       "      <td>0.351367</td>\n",
       "      <td>0.322289</td>\n",
       "    </tr>\n",
       "    <tr>\n",
       "      <th>4</th>\n",
       "      <td>0.381907</td>\n",
       "      <td>0.435568</td>\n",
       "    </tr>\n",
       "    <tr>\n",
       "      <th>...</th>\n",
       "      <td>...</td>\n",
       "      <td>...</td>\n",
       "    </tr>\n",
       "    <tr>\n",
       "      <th>26260</th>\n",
       "      <td>0.321500</td>\n",
       "      <td>0.308093</td>\n",
       "    </tr>\n",
       "    <tr>\n",
       "      <th>26261</th>\n",
       "      <td>0.382365</td>\n",
       "      <td>0.375618</td>\n",
       "    </tr>\n",
       "    <tr>\n",
       "      <th>26262</th>\n",
       "      <td>0.012810</td>\n",
       "      <td>0.000000</td>\n",
       "    </tr>\n",
       "    <tr>\n",
       "      <th>26263</th>\n",
       "      <td>0.283247</td>\n",
       "      <td>0.278569</td>\n",
       "    </tr>\n",
       "    <tr>\n",
       "      <th>26264</th>\n",
       "      <td>0.388759</td>\n",
       "      <td>0.385502</td>\n",
       "    </tr>\n",
       "  </tbody>\n",
       "</table>\n",
       "<p>26265 rows × 2 columns</p>\n",
       "</div>"
      ],
      "text/plain": [
       "       Test Predictions   Actuals\n",
       "0              0.129237  0.181534\n",
       "1              0.174137  0.213963\n",
       "2              0.233124  0.181219\n",
       "3              0.351367  0.322289\n",
       "4              0.381907  0.435568\n",
       "...                 ...       ...\n",
       "26260          0.321500  0.308093\n",
       "26261          0.382365  0.375618\n",
       "26262          0.012810  0.000000\n",
       "26263          0.283247  0.278569\n",
       "26264          0.388759  0.385502\n",
       "\n",
       "[26265 rows x 2 columns]"
      ]
     },
     "execution_count": 31,
     "metadata": {},
     "output_type": "execute_result"
    }
   ],
   "source": [
    "test_predictions = model1.predict(X_test1).flatten()\n",
    "test_results = pd.DataFrame(data={'Test Predictions':test_predictions, 'Actuals':y_test1.flatten()})\n",
    "test_results"
   ]
  },
  {
   "cell_type": "code",
   "execution_count": 33,
   "id": "91a07b9d",
   "metadata": {},
   "outputs": [],
   "source": [
    "from sklearn.metrics import mean_squared_error as mse\n",
    "\n",
    "def plot_predictions1(model, X, y, start=1, end=400):\n",
    "  predictions = model.predict(X).flatten()\n",
    "  df = pd.DataFrame(data={'Predictions': predictions, 'Actuals':y})\n",
    "  plt.plot(df['Predictions'][start:end:3])\n",
    "  plt.plot(df['Actuals'][start:end:3])\n",
    "  return df, mse(predictions, y)"
   ]
  },
  {
   "cell_type": "code",
   "execution_count": 34,
   "id": "86df6333",
   "metadata": {},
   "outputs": [
    {
     "name": "stdout",
     "output_type": "stream",
     "text": [
      "274/274 [==============================] - 0s 2ms/step\n"
     ]
    },
    {
     "data": {
      "text/plain": [
       "(       Predictions   Actuals\n",
       " 0         0.129237  0.181534\n",
       " 1         0.174137  0.213963\n",
       " 2         0.233124  0.181219\n",
       " 3         0.351367  0.322289\n",
       " 4         0.381907  0.435568\n",
       " ...            ...       ...\n",
       " 26260     0.321500  0.308093\n",
       " 26261     0.382365  0.375618\n",
       " 26262     0.012810  0.000000\n",
       " 26263     0.283247  0.278569\n",
       " 26264     0.388759  0.385502\n",
       " \n",
       " [26265 rows x 2 columns],\n",
       " 0.0012666674492636362)"
      ]
     },
     "execution_count": 34,
     "metadata": {},
     "output_type": "execute_result"
    },
    {
     "data": {
      "image/png": "[encoded data removed]",
      "text/plain": [
       "<Figure size 640x480 with 1 Axes>"
      ]
     },
     "metadata": {},
     "output_type": "display_data"
    }
   ],
   "source": [
    "plot_predictions1(model1, X_test1, y_test1.flatten())"
   ]
  },
  {
   "cell_type": "code",
   "execution_count": 35,
   "id": "05d10996",
   "metadata": {},
   "outputs": [
    {
     "name": "stdout",
     "output_type": "stream",
     "text": [
      "<class 'numpy.ndarray'>\n",
      "(5, 3)\n",
      "[[[0.         0.25946509 0.3970346 ]\n",
      "  [0.         0.24175061 0.3970346 ]\n",
      "  [0.         0.22681487 0.3970346 ]\n",
      "  [0.         0.21048975 0.40856672]\n",
      "  [0.03197405 0.19590135 0.40856672]]]\n",
      "1/1 [==============================] - 0s 33ms/step\n",
      "[[0.10878997 0.24005796 0.41485357]]\n",
      "[[ 9.39075   13.111269   2.5181613]]\n"
     ]
    }
   ],
   "source": [
    "kkk = df_orignal_scaled[78888:78893,:]\n",
    "print(type(kkk))\n",
    "print(kkk.shape)\n",
    "reshaped_array = np.reshape(kkk, (1, 5, 3))\n",
    "print(reshaped_array)\n",
    "predictions = model1.predict(reshaped_array)\n",
    "print(predictions)\n",
    " \n",
    "original= scaler.inverse_transform(predictions)\n",
    "print(original)\n",
    "# predictions\n",
    "# inverse_data = np.zeros((len(predictions), scaler.shape[1]))"
   ]
  },
  {
   "cell_type": "code",
   "execution_count": 36,
   "id": "8d388065",
   "metadata": {},
   "outputs": [
    {
     "name": "stdout",
     "output_type": "stream",
     "text": [
      "1/1 [==============================] - 0s 19ms/step\n",
      "1/1 [==============================] - 0s 19ms/step\n",
      "1/1 [==============================] - 0s 16ms/step\n",
      "1/1 [==============================] - 0s 20ms/step\n",
      "1/1 [==============================] - 0s 17ms/step\n",
      "1/1 [==============================] - 0s 21ms/step\n",
      "1/1 [==============================] - 0s 21ms/step\n",
      "1/1 [==============================] - 0s 21ms/step\n",
      "1/1 [==============================] - 0s 22ms/step\n",
      "1/1 [==============================] - 0s 19ms/step\n",
      "1/1 [==============================] - 0s 22ms/step\n",
      "1/1 [==============================] - 0s 29ms/step\n",
      "1/1 [==============================] - 0s 34ms/step\n",
      "1/1 [==============================] - 0s 21ms/step\n",
      "1/1 [==============================] - 0s 30ms/step\n",
      "1/1 [==============================] - 0s 20ms/step\n",
      "1/1 [==============================] - 0s 20ms/step\n",
      "1/1 [==============================] - 0s 16ms/step\n",
      "1/1 [==============================] - 0s 23ms/step\n",
      "1/1 [==============================] - 0s 17ms/step\n",
      "1/1 [==============================] - 0s 22ms/step\n",
      "1/1 [==============================] - 0s 19ms/step\n",
      "1/1 [==============================] - 0s 16ms/step\n",
      "1/1 [==============================] - 0s 22ms/step\n",
      "[array([[0.10878997, 0.24005796, 0.41485357]], dtype=float32), array([[0.22301063, 0.3378895 , 0.43618238]], dtype=float32), array([[0.35996696, 0.46799207, 0.4727    ]], dtype=float32), array([[0.4855597 , 0.5852919 , 0.48599875]], dtype=float32), array([[0.5848204 , 0.6764693 , 0.41135803]], dtype=float32), array([[0.64249855, 0.74619144, 0.27295932]], dtype=float32), array([[0.63324314, 0.79089624, 0.17522739]], dtype=float32), array([[0.5518181 , 0.8161825 , 0.16149372]], dtype=float32), array([[0.4343096 , 0.82910496, 0.19500397]], dtype=float32), array([[0.30732015, 0.82271284, 0.2465319 ]], dtype=float32), array([[0.17208377, 0.7911341 , 0.29832152]], dtype=float32), array([[0.04764709, 0.7352503 , 0.31446642]], dtype=float32), array([[0.02257796, 0.66944844, 0.32437956]], dtype=float32), array([[0.01275713, 0.60559016, 0.3370408 ]], dtype=float32), array([[0.00436813, 0.5519498 , 0.34038904]], dtype=float32), array([[-0.00228388,  0.51058936,  0.33339167]], dtype=float32), array([[-0.00807938,  0.4752493 ,  0.32157975]], dtype=float32), array([[-0.01181469,  0.44224817,  0.3121167 ]], dtype=float32), array([[-0.01198725,  0.41215658,  0.30806816]], dtype=float32), array([[-0.00158586,  0.38846982,  0.30849552]], dtype=float32), array([[0.02673697, 0.37981075, 0.3119844 ]], dtype=float32), array([[0.07739837, 0.39378363, 0.3214343 ]], dtype=float32), array([[0.15051812, 0.43310624, 0.34015355]], dtype=float32), array([[0.23969284, 0.49291992, 0.36520016]], dtype=float32)]\n"
     ]
    }
   ],
   "source": [
    "\n",
    "input = df_orignal_scaled[78888:78893,:]  # Initial input extracted from your original scaled DataFrame\n",
    "output_scaled = []  \n",
    "output_not_scaled = [] \n",
    "\n",
    "for i in range(24):\n",
    "    # Reshape input for the model prediction\n",
    "    reshaped_array = np.reshape(input, (1, 5, 3))\n",
    "    scaled_prediction = model1.predict(reshaped_array)\n",
    "    \n",
    "    # Reshape the prediction to match the input shape if necessary\n",
    "    # This example assumes the model returns a prediction with shape (1, 4)\n",
    "    # Adjust the reshaping based on the actual shape of your model's output\n",
    "    scaled_prediction_reshaped = np.reshape(scaled_prediction, (1, 3))\n",
    "    input = np.reshape(input, (5, 3))  # Ensure input is in the correct shape before appending\n",
    "    # Append the new prediction at the end of the input array\n",
    "    input = np.vstack([input, scaled_prediction_reshaped])  # Stack vertically to add as a new row\n",
    "    \n",
    "    # Remove the oldest entry to maintain the sliding window of input data\n",
    "    input = input[1:, :]  # Keep the last 5 entries, including the newly added prediction\n",
    " \n",
    "    output_scaled.append(scaled_prediction)\n",
    "\n",
    "\n",
    "# print(output_scaled)  # Remains empty, uncomment if needed\n",
    "print(output_scaled)  # Print or process the predictions as \n",
    "\n",
    "\n"
   ]
  },
  {
   "cell_type": "code",
   "execution_count": 37,
   "id": "0c262722",
   "metadata": {},
   "outputs": [
    {
     "name": "stdout",
     "output_type": "stream",
     "text": [
      "this is the real scaled output\n",
      "[[ 9.39075   13.111269   2.5181613]]\n",
      "[[19.250278 15.927838  2.647627]]\n",
      "[[31.072348 19.67349   2.869289]]\n",
      "[[41.913513  23.050554   2.9500124]]\n",
      "[[50.481697  25.67555    2.4969432]]\n",
      "[[55.460476  27.682852   1.6568631]]\n",
      "[[54.66155   28.969904   1.0636302]]\n",
      "[[47.632935   29.697893    0.98026687]]\n",
      "[[37.489605  30.069933   1.1836741]]\n",
      "[[26.527876  29.885904   1.4964486]]\n",
      "[[14.854271  28.976751   1.8108116]]\n",
      "[[ 4.112897  27.367855   1.9088111]]\n",
      "[[ 1.9489292 25.47342    1.968984 ]]\n",
      "[[ 1.1011955 23.634941   2.0458376]]\n",
      "[[ 0.3770573 22.090633   2.0661614]]\n",
      "[[-0.1971444 20.899868   2.0236874]]\n",
      "[[-0.6974121 19.882427   1.951989 ]]\n",
      "[[-1.0198442 18.932323   1.8945484]]\n",
      "[[-1.0347391 18.065987   1.8699737]]\n",
      "[[-0.13689174 17.384045    1.8725678 ]]\n",
      "[[ 2.3079357 17.13475    1.8937453]]\n",
      "[[ 6.681028  17.53703    1.9511062]]\n",
      "[[12.992724 18.669128  2.064732]]\n",
      "[[20.690287 20.391165  2.216765]]\n"
     ]
    }
   ],
   "source": [
    "print(\"this is the real scaled output\")\n",
    "for i in output_scaled:\n",
    "    original= scaler.inverse_transform(i)\n",
    "    print(original)"
   ]
  },
  {
   "cell_type": "code",
   "execution_count": null,
   "id": "dc28c8eb",
   "metadata": {},
   "outputs": [],
   "source": []
  },
  {
   "cell_type": "code",
   "execution_count": null,
   "id": "2709c5a1",
   "metadata": {},
   "outputs": [],
   "source": []
  },
  {
   "cell_type": "code",
   "execution_count": null,
   "id": "2c3d49a3",
   "metadata": {},
   "outputs": [],
   "source": []
  },
  {
   "cell_type": "code",
   "execution_count": null,
   "id": "1dc124bd",
   "metadata": {},
   "outputs": [],
   "source": []
  },
  {
   "cell_type": "code",
   "execution_count": null,
   "id": "96f37ea1",
   "metadata": {},
   "outputs": [],
   "source": []
  },
  {
   "cell_type": "code",
   "execution_count": null,
   "id": "eba8093b",
   "metadata": {},
   "outputs": [],
   "source": []
  }
 ],
 "metadata": {
  "kernelspec": {
   "display_name": "Python 3 (ipykernel)",
   "language": "python",
   "name": "python3"
  },
  "language_info": {
   "codemirror_mode": {
    "name": "ipython",
    "version": 3
   },
   "file_extension": ".py",
   "mimetype": "text/x-python",
   "name": "python",
   "nbconvert_exporter": "python",
   "pygments_lexer": "ipython3",
   "version": "3.8.15"
  }
 },
 "nbformat": 4,
 "nbformat_minor": 5
}
