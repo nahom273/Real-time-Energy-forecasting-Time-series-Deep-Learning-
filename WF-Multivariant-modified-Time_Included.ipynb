{
 "cells": [
  {
   "cell_type": "code",
   "execution_count": 2,
   "id": "34bcb352",
   "metadata": {},
   "outputs": [],
   "source": [
    "import tensorflow as tf\n",
    "import os\n",
    "import pandas as pd\n",
    "import numpy as np\n",
    "import matplotlib as plt\n",
    "from sklearn.metrics import mean_squared_error as mse\n",
    "from sklearn.preprocessing import MinMaxScaler\n",
    "import warnings\n",
    "import matplotlib.pyplot as plt\n",
    "warnings.filterwarnings('ignore')\n",
    "%matplotlib inline"
   ]
  },
  {
   "cell_type": "code",
   "execution_count": 3,
   "id": "8de1d777",
   "metadata": {},
   "outputs": [],
   "source": [
    "df = pd.read_csv('timeseries.csv')\n"
   ]
  },
  {
   "cell_type": "code",
   "execution_count": 145,
   "id": "4aafd42e",
   "metadata": {},
   "outputs": [
    {
     "data": {
      "text/html": [
       "<div>\n",
       "<style scoped>\n",
       "    .dataframe tbody tr th:only-of-type {\n",
       "        vertical-align: middle;\n",
       "    }\n",
       "\n",
       "    .dataframe tbody tr th {\n",
       "        vertical-align: top;\n",
       "    }\n",
       "\n",
       "    .dataframe thead th {\n",
       "        text-align: right;\n",
       "    }\n",
       "</style>\n",
       "<table border=\"1\" class=\"dataframe\">\n",
       "  <thead>\n",
       "    <tr style=\"text-align: right;\">\n",
       "      <th></th>\n",
       "      <th>time</th>\n",
       "      <th>G(i)</th>\n",
       "      <th>H_sun</th>\n",
       "      <th>T2m</th>\n",
       "      <th>WS10m</th>\n",
       "      <th>Int</th>\n",
       "      <th>formated_time</th>\n",
       "      <th>month</th>\n",
       "      <th>day</th>\n",
       "      <th>hour</th>\n",
       "    </tr>\n",
       "  </thead>\n",
       "  <tbody>\n",
       "    <tr>\n",
       "      <th>96411</th>\n",
       "      <td>20201231:0307</td>\n",
       "      <td>0</td>\n",
       "      <td>0.00</td>\n",
       "      <td>12.40</td>\n",
       "      <td>1.72</td>\n",
       "      <td>0.0</td>\n",
       "      <td>2020-12-31 03:07:00</td>\n",
       "      <td>12</td>\n",
       "      <td>31</td>\n",
       "      <td>3</td>\n",
       "    </tr>\n",
       "    <tr>\n",
       "      <th>96412</th>\n",
       "      <td>20201231:0407</td>\n",
       "      <td>32.27</td>\n",
       "      <td>2.86</td>\n",
       "      <td>12.25</td>\n",
       "      <td>1.79</td>\n",
       "      <td>0.0</td>\n",
       "      <td>2020-12-31 04:07:00</td>\n",
       "      <td>12</td>\n",
       "      <td>31</td>\n",
       "      <td>4</td>\n",
       "    </tr>\n",
       "    <tr>\n",
       "      <th>96413</th>\n",
       "      <td>20201231:0507</td>\n",
       "      <td>406.55</td>\n",
       "      <td>15.75</td>\n",
       "      <td>14.13</td>\n",
       "      <td>1.59</td>\n",
       "      <td>0.0</td>\n",
       "      <td>2020-12-31 05:07:00</td>\n",
       "      <td>12</td>\n",
       "      <td>31</td>\n",
       "      <td>5</td>\n",
       "    </tr>\n",
       "    <tr>\n",
       "      <th>96414</th>\n",
       "      <td>20201231:0607</td>\n",
       "      <td>669.18</td>\n",
       "      <td>27.88</td>\n",
       "      <td>19.46</td>\n",
       "      <td>1.31</td>\n",
       "      <td>0.0</td>\n",
       "      <td>2020-12-31 06:07:00</td>\n",
       "      <td>12</td>\n",
       "      <td>31</td>\n",
       "      <td>6</td>\n",
       "    </tr>\n",
       "    <tr>\n",
       "      <th>96415</th>\n",
       "      <td>20201231:0707</td>\n",
       "      <td>867.56</td>\n",
       "      <td>38.68</td>\n",
       "      <td>22.73</td>\n",
       "      <td>1.10</td>\n",
       "      <td>0.0</td>\n",
       "      <td>2020-12-31 07:07:00</td>\n",
       "      <td>12</td>\n",
       "      <td>31</td>\n",
       "      <td>7</td>\n",
       "    </tr>\n",
       "    <tr>\n",
       "      <th>96416</th>\n",
       "      <td>20201231:0807</td>\n",
       "      <td>1001.58</td>\n",
       "      <td>47.13</td>\n",
       "      <td>24.99</td>\n",
       "      <td>0.90</td>\n",
       "      <td>0.0</td>\n",
       "      <td>2020-12-31 08:07:00</td>\n",
       "      <td>12</td>\n",
       "      <td>31</td>\n",
       "      <td>8</td>\n",
       "    </tr>\n",
       "    <tr>\n",
       "      <th>96417</th>\n",
       "      <td>20201231:0907</td>\n",
       "      <td>1048.06</td>\n",
       "      <td>51.63</td>\n",
       "      <td>26.80</td>\n",
       "      <td>1.45</td>\n",
       "      <td>0.0</td>\n",
       "      <td>2020-12-31 09:07:00</td>\n",
       "      <td>12</td>\n",
       "      <td>31</td>\n",
       "      <td>9</td>\n",
       "    </tr>\n",
       "    <tr>\n",
       "      <th>96418</th>\n",
       "      <td>20201231:1007</td>\n",
       "      <td>1013.41</td>\n",
       "      <td>50.79</td>\n",
       "      <td>28.01</td>\n",
       "      <td>2.28</td>\n",
       "      <td>0.0</td>\n",
       "      <td>2020-12-31 10:07:00</td>\n",
       "      <td>12</td>\n",
       "      <td>31</td>\n",
       "      <td>10</td>\n",
       "    </tr>\n",
       "    <tr>\n",
       "      <th>96419</th>\n",
       "      <td>20201231:1107</td>\n",
       "      <td>904.55</td>\n",
       "      <td>44.90</td>\n",
       "      <td>28.57</td>\n",
       "      <td>2.97</td>\n",
       "      <td>0.0</td>\n",
       "      <td>2020-12-31 11:07:00</td>\n",
       "      <td>12</td>\n",
       "      <td>31</td>\n",
       "      <td>11</td>\n",
       "    </tr>\n",
       "    <tr>\n",
       "      <th>96420</th>\n",
       "      <td>20201231:1207</td>\n",
       "      <td>721.79</td>\n",
       "      <td>35.59</td>\n",
       "      <td>28.55</td>\n",
       "      <td>3.45</td>\n",
       "      <td>0.0</td>\n",
       "      <td>2020-12-31 12:07:00</td>\n",
       "      <td>12</td>\n",
       "      <td>31</td>\n",
       "      <td>12</td>\n",
       "    </tr>\n",
       "    <tr>\n",
       "      <th>96421</th>\n",
       "      <td>20201231:1307</td>\n",
       "      <td>486.98</td>\n",
       "      <td>24.30</td>\n",
       "      <td>28.01</td>\n",
       "      <td>3.72</td>\n",
       "      <td>0.0</td>\n",
       "      <td>2020-12-31 13:07:00</td>\n",
       "      <td>12</td>\n",
       "      <td>31</td>\n",
       "      <td>13</td>\n",
       "    </tr>\n",
       "    <tr>\n",
       "      <th>96422</th>\n",
       "      <td>20201231:1407</td>\n",
       "      <td>221.49</td>\n",
       "      <td>11.90</td>\n",
       "      <td>26.94</td>\n",
       "      <td>3.59</td>\n",
       "      <td>0.0</td>\n",
       "      <td>2020-12-31 14:07:00</td>\n",
       "      <td>12</td>\n",
       "      <td>31</td>\n",
       "      <td>14</td>\n",
       "    </tr>\n",
       "    <tr>\n",
       "      <th>96423</th>\n",
       "      <td>20201231:1507</td>\n",
       "      <td>0</td>\n",
       "      <td>0.00</td>\n",
       "      <td>24.97</td>\n",
       "      <td>2.55</td>\n",
       "      <td>0.0</td>\n",
       "      <td>2020-12-31 15:07:00</td>\n",
       "      <td>12</td>\n",
       "      <td>31</td>\n",
       "      <td>15</td>\n",
       "    </tr>\n",
       "    <tr>\n",
       "      <th>96424</th>\n",
       "      <td>20201231:1607</td>\n",
       "      <td>0</td>\n",
       "      <td>0.00</td>\n",
       "      <td>23.19</td>\n",
       "      <td>1.86</td>\n",
       "      <td>0.0</td>\n",
       "      <td>2020-12-31 16:07:00</td>\n",
       "      <td>12</td>\n",
       "      <td>31</td>\n",
       "      <td>16</td>\n",
       "    </tr>\n",
       "    <tr>\n",
       "      <th>96425</th>\n",
       "      <td>20201231:1707</td>\n",
       "      <td>0</td>\n",
       "      <td>0.00</td>\n",
       "      <td>20.98</td>\n",
       "      <td>1.45</td>\n",
       "      <td>0.0</td>\n",
       "      <td>2020-12-31 17:07:00</td>\n",
       "      <td>12</td>\n",
       "      <td>31</td>\n",
       "      <td>17</td>\n",
       "    </tr>\n",
       "    <tr>\n",
       "      <th>96426</th>\n",
       "      <td>20201231:1807</td>\n",
       "      <td>0</td>\n",
       "      <td>0.00</td>\n",
       "      <td>19.31</td>\n",
       "      <td>1.38</td>\n",
       "      <td>0.0</td>\n",
       "      <td>2020-12-31 18:07:00</td>\n",
       "      <td>12</td>\n",
       "      <td>31</td>\n",
       "      <td>18</td>\n",
       "    </tr>\n",
       "    <tr>\n",
       "      <th>96427</th>\n",
       "      <td>20201231:1907</td>\n",
       "      <td>0</td>\n",
       "      <td>0.00</td>\n",
       "      <td>17.90</td>\n",
       "      <td>1.45</td>\n",
       "      <td>0.0</td>\n",
       "      <td>2020-12-31 19:07:00</td>\n",
       "      <td>12</td>\n",
       "      <td>31</td>\n",
       "      <td>19</td>\n",
       "    </tr>\n",
       "    <tr>\n",
       "      <th>96428</th>\n",
       "      <td>20201231:2007</td>\n",
       "      <td>0</td>\n",
       "      <td>0.00</td>\n",
       "      <td>16.52</td>\n",
       "      <td>1.52</td>\n",
       "      <td>0.0</td>\n",
       "      <td>2020-12-31 20:07:00</td>\n",
       "      <td>12</td>\n",
       "      <td>31</td>\n",
       "      <td>20</td>\n",
       "    </tr>\n",
       "    <tr>\n",
       "      <th>96429</th>\n",
       "      <td>20201231:2107</td>\n",
       "      <td>0</td>\n",
       "      <td>0.00</td>\n",
       "      <td>15.39</td>\n",
       "      <td>1.59</td>\n",
       "      <td>0.0</td>\n",
       "      <td>2020-12-31 21:07:00</td>\n",
       "      <td>12</td>\n",
       "      <td>31</td>\n",
       "      <td>21</td>\n",
       "    </tr>\n",
       "    <tr>\n",
       "      <th>96430</th>\n",
       "      <td>20201231:2207</td>\n",
       "      <td>0</td>\n",
       "      <td>0.00</td>\n",
       "      <td>14.28</td>\n",
       "      <td>1.59</td>\n",
       "      <td>0.0</td>\n",
       "      <td>2020-12-31 22:07:00</td>\n",
       "      <td>12</td>\n",
       "      <td>31</td>\n",
       "      <td>22</td>\n",
       "    </tr>\n",
       "  </tbody>\n",
       "</table>\n",
       "</div>"
      ],
      "text/plain": [
       "                time     G(i)  H_sun    T2m  WS10m  Int       formated_time  \\\n",
       "96411  20201231:0307        0   0.00  12.40   1.72  0.0 2020-12-31 03:07:00   \n",
       "96412  20201231:0407    32.27   2.86  12.25   1.79  0.0 2020-12-31 04:07:00   \n",
       "96413  20201231:0507   406.55  15.75  14.13   1.59  0.0 2020-12-31 05:07:00   \n",
       "96414  20201231:0607   669.18  27.88  19.46   1.31  0.0 2020-12-31 06:07:00   \n",
       "96415  20201231:0707   867.56  38.68  22.73   1.10  0.0 2020-12-31 07:07:00   \n",
       "96416  20201231:0807  1001.58  47.13  24.99   0.90  0.0 2020-12-31 08:07:00   \n",
       "96417  20201231:0907  1048.06  51.63  26.80   1.45  0.0 2020-12-31 09:07:00   \n",
       "96418  20201231:1007  1013.41  50.79  28.01   2.28  0.0 2020-12-31 10:07:00   \n",
       "96419  20201231:1107   904.55  44.90  28.57   2.97  0.0 2020-12-31 11:07:00   \n",
       "96420  20201231:1207   721.79  35.59  28.55   3.45  0.0 2020-12-31 12:07:00   \n",
       "96421  20201231:1307   486.98  24.30  28.01   3.72  0.0 2020-12-31 13:07:00   \n",
       "96422  20201231:1407   221.49  11.90  26.94   3.59  0.0 2020-12-31 14:07:00   \n",
       "96423  20201231:1507        0   0.00  24.97   2.55  0.0 2020-12-31 15:07:00   \n",
       "96424  20201231:1607        0   0.00  23.19   1.86  0.0 2020-12-31 16:07:00   \n",
       "96425  20201231:1707        0   0.00  20.98   1.45  0.0 2020-12-31 17:07:00   \n",
       "96426  20201231:1807        0   0.00  19.31   1.38  0.0 2020-12-31 18:07:00   \n",
       "96427  20201231:1907        0   0.00  17.90   1.45  0.0 2020-12-31 19:07:00   \n",
       "96428  20201231:2007        0   0.00  16.52   1.52  0.0 2020-12-31 20:07:00   \n",
       "96429  20201231:2107        0   0.00  15.39   1.59  0.0 2020-12-31 21:07:00   \n",
       "96430  20201231:2207        0   0.00  14.28   1.59  0.0 2020-12-31 22:07:00   \n",
       "\n",
       "       month  day  hour  \n",
       "96411     12   31     3  \n",
       "96412     12   31     4  \n",
       "96413     12   31     5  \n",
       "96414     12   31     6  \n",
       "96415     12   31     7  \n",
       "96416     12   31     8  \n",
       "96417     12   31     9  \n",
       "96418     12   31    10  \n",
       "96419     12   31    11  \n",
       "96420     12   31    12  \n",
       "96421     12   31    13  \n",
       "96422     12   31    14  \n",
       "96423     12   31    15  \n",
       "96424     12   31    16  \n",
       "96425     12   31    17  \n",
       "96426     12   31    18  \n",
       "96427     12   31    19  \n",
       "96428     12   31    20  \n",
       "96429     12   31    21  \n",
       "96430     12   31    22  "
      ]
     },
     "execution_count": 145,
     "metadata": {},
     "output_type": "execute_result"
    }
   ],
   "source": [
    "df = df[:96431:]\n",
    "df = df.dropna(subset=['time']) \n",
    "df['formated_time'] = pd.to_datetime(df['time'], format='%Y%m%d:%H%M')\n",
    "\n",
    "df['month'] = df['formated_time'].dt.month\n",
    "df['day'] = df['formated_time'].dt.day\n",
    "df['hour'] = df['formated_time'].dt.hour\n",
    "df.tail(20)\n",
    "# df['time'][78886]"
   ]
  },
  {
   "cell_type": "code",
   "execution_count": 146,
   "id": "c750a809-01f6-42c3-a0df-4205c55882f8",
   "metadata": {},
   "outputs": [
    {
     "data": {
      "text/html": [
       "<div>\n",
       "<style scoped>\n",
       "    .dataframe tbody tr th:only-of-type {\n",
       "        vertical-align: middle;\n",
       "    }\n",
       "\n",
       "    .dataframe tbody tr th {\n",
       "        vertical-align: top;\n",
       "    }\n",
       "\n",
       "    .dataframe thead th {\n",
       "        text-align: right;\n",
       "    }\n",
       "</style>\n",
       "<table border=\"1\" class=\"dataframe\">\n",
       "  <thead>\n",
       "    <tr style=\"text-align: right;\">\n",
       "      <th></th>\n",
       "      <th>time</th>\n",
       "      <th>G(i)</th>\n",
       "      <th>H_sun</th>\n",
       "      <th>T2m</th>\n",
       "      <th>WS10m</th>\n",
       "      <th>hour</th>\n",
       "    </tr>\n",
       "  </thead>\n",
       "  <tbody>\n",
       "    <tr>\n",
       "      <th>0</th>\n",
       "      <td>20100101:0007</td>\n",
       "      <td>0</td>\n",
       "      <td>0.00</td>\n",
       "      <td>11.17</td>\n",
       "      <td>1.59</td>\n",
       "      <td>0</td>\n",
       "    </tr>\n",
       "    <tr>\n",
       "      <th>1</th>\n",
       "      <td>20100101:0107</td>\n",
       "      <td>0</td>\n",
       "      <td>0.00</td>\n",
       "      <td>10.67</td>\n",
       "      <td>1.59</td>\n",
       "      <td>1</td>\n",
       "    </tr>\n",
       "    <tr>\n",
       "      <th>2</th>\n",
       "      <td>20100101:0207</td>\n",
       "      <td>0</td>\n",
       "      <td>0.00</td>\n",
       "      <td>10.11</td>\n",
       "      <td>1.79</td>\n",
       "      <td>2</td>\n",
       "    </tr>\n",
       "    <tr>\n",
       "      <th>3</th>\n",
       "      <td>20100101:0307</td>\n",
       "      <td>0</td>\n",
       "      <td>0.00</td>\n",
       "      <td>9.88</td>\n",
       "      <td>1.86</td>\n",
       "      <td>3</td>\n",
       "    </tr>\n",
       "    <tr>\n",
       "      <th>4</th>\n",
       "      <td>20100101:0407</td>\n",
       "      <td>91.98</td>\n",
       "      <td>2.76</td>\n",
       "      <td>9.77</td>\n",
       "      <td>1.93</td>\n",
       "      <td>4</td>\n",
       "    </tr>\n",
       "    <tr>\n",
       "      <th>5</th>\n",
       "      <td>20100101:0507</td>\n",
       "      <td>432.28</td>\n",
       "      <td>15.67</td>\n",
       "      <td>11.48</td>\n",
       "      <td>1.72</td>\n",
       "      <td>5</td>\n",
       "    </tr>\n",
       "    <tr>\n",
       "      <th>6</th>\n",
       "      <td>20100101:0607</td>\n",
       "      <td>681.34</td>\n",
       "      <td>27.82</td>\n",
       "      <td>15.42</td>\n",
       "      <td>1.72</td>\n",
       "      <td>6</td>\n",
       "    </tr>\n",
       "    <tr>\n",
       "      <th>7</th>\n",
       "      <td>20100101:0707</td>\n",
       "      <td>867.69</td>\n",
       "      <td>38.65</td>\n",
       "      <td>19.13</td>\n",
       "      <td>1.72</td>\n",
       "      <td>7</td>\n",
       "    </tr>\n",
       "    <tr>\n",
       "      <th>8</th>\n",
       "      <td>20100101:0807</td>\n",
       "      <td>987.62</td>\n",
       "      <td>47.15</td>\n",
       "      <td>21.08</td>\n",
       "      <td>1.66</td>\n",
       "      <td>8</td>\n",
       "    </tr>\n",
       "    <tr>\n",
       "      <th>9</th>\n",
       "      <td>20100101:0907</td>\n",
       "      <td>1034.38</td>\n",
       "      <td>51.71</td>\n",
       "      <td>22.13</td>\n",
       "      <td>1.24</td>\n",
       "      <td>9</td>\n",
       "    </tr>\n",
       "    <tr>\n",
       "      <th>10</th>\n",
       "      <td>20100101:1007</td>\n",
       "      <td>998.94</td>\n",
       "      <td>50.91</td>\n",
       "      <td>23.35</td>\n",
       "      <td>0.76</td>\n",
       "      <td>10</td>\n",
       "    </tr>\n",
       "    <tr>\n",
       "      <th>11</th>\n",
       "      <td>20100101:1107</td>\n",
       "      <td>887.09</td>\n",
       "      <td>45.06</td>\n",
       "      <td>23.95</td>\n",
       "      <td>0.28</td>\n",
       "      <td>11</td>\n",
       "    </tr>\n",
       "    <tr>\n",
       "      <th>12</th>\n",
       "      <td>20100101:1207</td>\n",
       "      <td>702.6</td>\n",
       "      <td>35.75</td>\n",
       "      <td>24.15</td>\n",
       "      <td>0.21</td>\n",
       "      <td>12</td>\n",
       "    </tr>\n",
       "    <tr>\n",
       "      <th>13</th>\n",
       "      <td>20100101:1307</td>\n",
       "      <td>472.43</td>\n",
       "      <td>24.47</td>\n",
       "      <td>23.86</td>\n",
       "      <td>0.48</td>\n",
       "      <td>13</td>\n",
       "    </tr>\n",
       "    <tr>\n",
       "      <th>14</th>\n",
       "      <td>20100101:1407</td>\n",
       "      <td>208.97</td>\n",
       "      <td>12.06</td>\n",
       "      <td>23.18</td>\n",
       "      <td>0.62</td>\n",
       "      <td>14</td>\n",
       "    </tr>\n",
       "    <tr>\n",
       "      <th>15</th>\n",
       "      <td>20100101:1507</td>\n",
       "      <td>0</td>\n",
       "      <td>0.00</td>\n",
       "      <td>21.62</td>\n",
       "      <td>0.83</td>\n",
       "      <td>15</td>\n",
       "    </tr>\n",
       "    <tr>\n",
       "      <th>16</th>\n",
       "      <td>20100101:1607</td>\n",
       "      <td>0</td>\n",
       "      <td>0.00</td>\n",
       "      <td>19.79</td>\n",
       "      <td>1.38</td>\n",
       "      <td>16</td>\n",
       "    </tr>\n",
       "    <tr>\n",
       "      <th>17</th>\n",
       "      <td>20100101:1707</td>\n",
       "      <td>0</td>\n",
       "      <td>0.00</td>\n",
       "      <td>18.30</td>\n",
       "      <td>1.66</td>\n",
       "      <td>17</td>\n",
       "    </tr>\n",
       "    <tr>\n",
       "      <th>18</th>\n",
       "      <td>20100101:1807</td>\n",
       "      <td>0</td>\n",
       "      <td>0.00</td>\n",
       "      <td>16.68</td>\n",
       "      <td>1.66</td>\n",
       "      <td>18</td>\n",
       "    </tr>\n",
       "    <tr>\n",
       "      <th>19</th>\n",
       "      <td>20100101:1907</td>\n",
       "      <td>0</td>\n",
       "      <td>0.00</td>\n",
       "      <td>14.93</td>\n",
       "      <td>1.93</td>\n",
       "      <td>19</td>\n",
       "    </tr>\n",
       "    <tr>\n",
       "      <th>20</th>\n",
       "      <td>20100101:2007</td>\n",
       "      <td>0</td>\n",
       "      <td>0.00</td>\n",
       "      <td>13.71</td>\n",
       "      <td>2.14</td>\n",
       "      <td>20</td>\n",
       "    </tr>\n",
       "    <tr>\n",
       "      <th>21</th>\n",
       "      <td>20100101:2107</td>\n",
       "      <td>0</td>\n",
       "      <td>0.00</td>\n",
       "      <td>12.55</td>\n",
       "      <td>2.21</td>\n",
       "      <td>21</td>\n",
       "    </tr>\n",
       "    <tr>\n",
       "      <th>22</th>\n",
       "      <td>20100101:2207</td>\n",
       "      <td>0</td>\n",
       "      <td>0.00</td>\n",
       "      <td>11.87</td>\n",
       "      <td>2.28</td>\n",
       "      <td>22</td>\n",
       "    </tr>\n",
       "    <tr>\n",
       "      <th>23</th>\n",
       "      <td>20100101:2307</td>\n",
       "      <td>0</td>\n",
       "      <td>0.00</td>\n",
       "      <td>11.49</td>\n",
       "      <td>2.34</td>\n",
       "      <td>23</td>\n",
       "    </tr>\n",
       "    <tr>\n",
       "      <th>24</th>\n",
       "      <td>20100102:0007</td>\n",
       "      <td>0</td>\n",
       "      <td>0.00</td>\n",
       "      <td>11.16</td>\n",
       "      <td>2.34</td>\n",
       "      <td>0</td>\n",
       "    </tr>\n",
       "    <tr>\n",
       "      <th>25</th>\n",
       "      <td>20100102:0107</td>\n",
       "      <td>0</td>\n",
       "      <td>0.00</td>\n",
       "      <td>10.92</td>\n",
       "      <td>2.34</td>\n",
       "      <td>1</td>\n",
       "    </tr>\n",
       "    <tr>\n",
       "      <th>26</th>\n",
       "      <td>20100102:0207</td>\n",
       "      <td>0</td>\n",
       "      <td>0.00</td>\n",
       "      <td>10.59</td>\n",
       "      <td>2.34</td>\n",
       "      <td>2</td>\n",
       "    </tr>\n",
       "    <tr>\n",
       "      <th>27</th>\n",
       "      <td>20100102:0307</td>\n",
       "      <td>0</td>\n",
       "      <td>0.00</td>\n",
       "      <td>10.33</td>\n",
       "      <td>2.41</td>\n",
       "      <td>3</td>\n",
       "    </tr>\n",
       "    <tr>\n",
       "      <th>28</th>\n",
       "      <td>20100102:0407</td>\n",
       "      <td>17.78</td>\n",
       "      <td>2.69</td>\n",
       "      <td>10.41</td>\n",
       "      <td>2.41</td>\n",
       "      <td>4</td>\n",
       "    </tr>\n",
       "    <tr>\n",
       "      <th>29</th>\n",
       "      <td>20100102:0507</td>\n",
       "      <td>443.28</td>\n",
       "      <td>15.61</td>\n",
       "      <td>12.14</td>\n",
       "      <td>2.28</td>\n",
       "      <td>5</td>\n",
       "    </tr>\n",
       "  </tbody>\n",
       "</table>\n",
       "</div>"
      ],
      "text/plain": [
       "             time     G(i)  H_sun    T2m  WS10m  hour\n",
       "0   20100101:0007        0   0.00  11.17   1.59     0\n",
       "1   20100101:0107        0   0.00  10.67   1.59     1\n",
       "2   20100101:0207        0   0.00  10.11   1.79     2\n",
       "3   20100101:0307        0   0.00   9.88   1.86     3\n",
       "4   20100101:0407    91.98   2.76   9.77   1.93     4\n",
       "5   20100101:0507   432.28  15.67  11.48   1.72     5\n",
       "6   20100101:0607   681.34  27.82  15.42   1.72     6\n",
       "7   20100101:0707   867.69  38.65  19.13   1.72     7\n",
       "8   20100101:0807   987.62  47.15  21.08   1.66     8\n",
       "9   20100101:0907  1034.38  51.71  22.13   1.24     9\n",
       "10  20100101:1007   998.94  50.91  23.35   0.76    10\n",
       "11  20100101:1107   887.09  45.06  23.95   0.28    11\n",
       "12  20100101:1207    702.6  35.75  24.15   0.21    12\n",
       "13  20100101:1307   472.43  24.47  23.86   0.48    13\n",
       "14  20100101:1407   208.97  12.06  23.18   0.62    14\n",
       "15  20100101:1507        0   0.00  21.62   0.83    15\n",
       "16  20100101:1607        0   0.00  19.79   1.38    16\n",
       "17  20100101:1707        0   0.00  18.30   1.66    17\n",
       "18  20100101:1807        0   0.00  16.68   1.66    18\n",
       "19  20100101:1907        0   0.00  14.93   1.93    19\n",
       "20  20100101:2007        0   0.00  13.71   2.14    20\n",
       "21  20100101:2107        0   0.00  12.55   2.21    21\n",
       "22  20100101:2207        0   0.00  11.87   2.28    22\n",
       "23  20100101:2307        0   0.00  11.49   2.34    23\n",
       "24  20100102:0007        0   0.00  11.16   2.34     0\n",
       "25  20100102:0107        0   0.00  10.92   2.34     1\n",
       "26  20100102:0207        0   0.00  10.59   2.34     2\n",
       "27  20100102:0307        0   0.00  10.33   2.41     3\n",
       "28  20100102:0407    17.78   2.69  10.41   2.41     4\n",
       "29  20100102:0507   443.28  15.61  12.14   2.28     5"
      ]
     },
     "execution_count": 146,
     "metadata": {},
     "output_type": "execute_result"
    }
   ],
   "source": [
    "# Assuming your DataFrame is named df\n",
    "df.drop(['Int', 'formated_time','month','day'], axis=1, inplace=True)\n",
    "\n",
    "df.head(30)"
   ]
  },
  {
   "cell_type": "code",
   "execution_count": 147,
   "id": "e031791d",
   "metadata": {},
   "outputs": [
    {
     "name": "stdout",
     "output_type": "stream",
     "text": [
      "         G(i)  H_sun    T2m  WS10m  hour\n",
      "96421  486.98   24.3  28.01   3.72    13\n",
      "96422  221.49   11.9  26.94   3.59    14\n",
      "96423       0    0.0  24.97   2.55    15\n",
      "96424       0    0.0  23.19   1.86    16\n",
      "96425       0    0.0  20.98   1.45    17\n",
      "96426       0    0.0  19.31   1.38    18\n",
      "96427       0    0.0  17.90   1.45    19\n",
      "96428       0    0.0  16.52   1.52    20\n",
      "96429       0    0.0  15.39   1.59    21\n",
      "96430       0    0.0  14.28   1.59    22\n",
      "G(i)      object\n",
      "H_sun    float64\n",
      "T2m      float64\n",
      "WS10m    float64\n",
      "hour       int64\n",
      "dtype: object\n"
     ]
    }
   ],
   "source": [
    "df = df[:96431:]\n",
    "df_multi = df.iloc[:,1:] # removing the time column \n",
    "df.tail(30)\n",
    "print(df_multi.tail(10))\n",
    "print(df_multi.dtypes)\n",
    "# y = [x for x in df['Int'] if x == 0.0]\n",
    "# print(y)b\n",
    "# type(df_multi)\n"
   ]
  },
  {
   "cell_type": "code",
   "execution_count": 148,
   "id": "d0e5f1b4-1616-49ea-99c4-e2be20b9a56f",
   "metadata": {},
   "outputs": [
    {
     "name": "stdout",
     "output_type": "stream",
     "text": [
      "[<class 'float'>]\n"
     ]
    }
   ],
   "source": [
    "df_multi['G(i)'] = pd.to_numeric(df_multi['G(i)'], errors='coerce')\n",
    "unique_types = df_multi['G(i)'].apply(type).unique()\n",
    "\n",
    "print(unique_types)"
   ]
  },
  {
   "cell_type": "code",
   "execution_count": 149,
   "id": "1906c5a4-4ec3-4df3-9791-d038769b3ba4",
   "metadata": {},
   "outputs": [
    {
     "name": "stdout",
     "output_type": "stream",
     "text": [
      "G(i)     float64\n",
      "H_sun    float64\n",
      "T2m      float64\n",
      "WS10m    float64\n",
      "hour       int64\n",
      "dtype: object\n"
     ]
    }
   ],
   "source": [
    "\n",
    "print(df_multi.dtypes)"
   ]
  },
  {
   "cell_type": "code",
   "execution_count": 150,
   "id": "2773ca88-86dc-441c-be2d-202967cc2462",
   "metadata": {},
   "outputs": [
    {
     "name": "stdout",
     "output_type": "stream",
     "text": [
      "Pearson Correlation Coefficient: 0.900361066319861\n"
     ]
    }
   ],
   "source": [
    "\n",
    "\n",
    "\n",
    "correlation = df_multi['G(i)'].corr(df_multi['H_sun'])\n",
    "\n",
    "print(\"Pearson Correlation Coefficient:\", correlation)"
   ]
  },
  {
   "cell_type": "code",
   "execution_count": 1,
   "id": "028a46da",
   "metadata": {},
   "outputs": [
    {
     "ename": "NameError",
     "evalue": "name 'MinMaxScaler' is not defined",
     "output_type": "error",
     "traceback": [
      "\u001b[1;31m---------------------------------------------------------------------------\u001b[0m",
      "\u001b[1;31mNameError\u001b[0m                                 Traceback (most recent call last)",
      "Cell \u001b[1;32mIn[1], line 3\u001b[0m\n\u001b[0;32m      1\u001b[0m \u001b[38;5;66;03m# # Initialize the Min-Max Scaler\u001b[39;00m\n\u001b[1;32m----> 3\u001b[0m scaler \u001b[38;5;241m=\u001b[39m \u001b[43mMinMaxScaler\u001b[49m(feature_range\u001b[38;5;241m=\u001b[39m(\u001b[38;5;241m0\u001b[39m, \u001b[38;5;241m1\u001b[39m))\n\u001b[0;32m      5\u001b[0m \u001b[38;5;66;03m# # Fit and transform the data\u001b[39;00m\n\u001b[0;32m      6\u001b[0m scaled_data \u001b[38;5;241m=\u001b[39m scaler\u001b[38;5;241m.\u001b[39mfit_transform(df_multi)\n",
      "\u001b[1;31mNameError\u001b[0m: name 'MinMaxScaler' is not defined"
     ]
    }
   ],
   "source": [
    "# # Initialize the Min-Max Scaler\n",
    "\n",
    "scaler = MinMaxScaler(feature_range=(0, 1))\n",
    "\n",
    "# # Fit and transform the data\n",
    "scaled_data = scaler.fit_transform(df_multi)\n",
    "print(scaled_data.shape)\n",
    "print(scaled_data[1:10,:])"
   ]
  },
  {
   "cell_type": "code",
   "execution_count": 152,
   "id": "545c72b0",
   "metadata": {},
   "outputs": [
    {
     "data": {
      "text/plain": [
       "array([[0.        , 0.        , 0.17262939, 0.26194399, 0.        ],\n",
       "       [0.        , 0.        , 0.15526224, 0.26194399, 0.04347826],\n",
       "       [0.        , 0.        , 0.13581105, 0.29489292, 0.08695652],\n",
       "       ...,\n",
       "       [0.        , 0.        , 0.34560611, 0.36408567, 0.91304348],\n",
       "       [0.        , 0.        , 0.30809309, 0.37561779, 0.95652174],\n",
       "       [0.        , 0.        , 0.27856895, 0.38550247, 1.        ]])"
      ]
     },
     "execution_count": 152,
     "metadata": {},
     "output_type": "execute_result"
    }
   ],
   "source": [
    "df_orignal_scaled = df_multi # scaled_data\n",
    "#df_orignal = df_multi # for unscaled \n",
    "#df_scaled = df_multi[:78888:] \n",
    "# changed this scaled_data[:78888:] \n",
    "df_scaled = scaled_data[:78888:] \n",
    "df_scaled"
   ]
  },
  {
   "cell_type": "code",
   "execution_count": 153,
   "id": "5bdc65e8",
   "metadata": {},
   "outputs": [
    {
     "name": "stdout",
     "output_type": "stream",
     "text": [
      "[[0.         0.         0.17262939 0.26194399 0.        ]\n",
      " [0.         0.         0.15526224 0.26194399 0.04347826]\n",
      " [0.         0.         0.13581105 0.29489292 0.08695652]\n",
      " [0.         0.         0.12782216 0.30642504 0.13043478]\n",
      " [0.07973716 0.03197405 0.12400139 0.31795717 0.17391304]]\n",
      "[[0.3747421  0.18153383 0.18339701 0.28336079 0.2173913 ]]\n"
     ]
    }
   ],
   "source": [
    "\n",
    "print(df_scaled[0:5:]) # this it the input\n",
    "print(df_scaled[5:6:]) # this is the output"
   ]
  },
  {
   "cell_type": "code",
   "execution_count": 154,
   "id": "3de6a076",
   "metadata": {},
   "outputs": [],
   "source": [
    "def df_to_X_y(df_as_np, window_size=5):\n",
    "  #df_as_np = df_as_np.to_numpy()\n",
    "  X = []\n",
    "  y = []\n",
    "  for i in range(len(df_as_np)-window_size):\n",
    "    row = [a for a in df_as_np[i:i+window_size,:]]\n",
    "    X.append(row)\n",
    "    label = df_as_np[i+window_size,:]\n",
    "    y.append(label)\n",
    "  return np.array(X), np.array(y)"
   ]
  },
  {
   "cell_type": "code",
   "execution_count": 155,
   "id": "0ea1be1c",
   "metadata": {
    "scrolled": true
   },
   "outputs": [
    {
     "name": "stdout",
     "output_type": "stream",
     "text": [
      "[[0.         0.         0.15526224 0.26194399 0.04347826]\n",
      " [0.         0.         0.13581105 0.29489292 0.08695652]\n",
      " [0.         0.         0.12782216 0.30642504 0.13043478]\n",
      " [0.07973716 0.03197405 0.12400139 0.31795717 0.17391304]\n",
      " [0.3747421  0.18153383 0.18339701 0.28336079 0.2173913 ]]\n",
      "slfejlksdjlfkjdslkjfjlk\n",
      "[0.59065139 0.32228916 0.32025009 0.28336079 0.26086957]\n"
     ]
    },
    {
     "data": {
      "text/plain": [
       "((78883, 5, 5), (78883, 5))"
      ]
     },
     "execution_count": 155,
     "metadata": {},
     "output_type": "execute_result"
    }
   ],
   "source": [
    "WINDOW_SIZE = 5\n",
    "X1, y1 = df_to_X_y(df_scaled, WINDOW_SIZE)\n",
    "print(X1[1])\n",
    "print(\"slfejlksdjlfkjdslkjfjlk\")\n",
    "print(y1[1])\n",
    "X1.shape, y1.shape"
   ]
  },
  {
   "cell_type": "code",
   "execution_count": 156,
   "id": "8d26efb8",
   "metadata": {},
   "outputs": [
    {
     "data": {
      "text/plain": [
       "((61367, 5, 5), (61367, 5), (8760, 5, 5), (8760, 5), (8755, 5, 5), (8755, 5))"
      ]
     },
     "execution_count": 156,
     "metadata": {},
     "output_type": "execute_result"
    }
   ],
   "source": [
    "X_train1, y_train1 = X1[:61367], y1[:61367]\n",
    "X_val1, y_val1 = X1[61367:70127], y1[61367:70127] # 1 year for validation [61,367 , 70127]\n",
    "X_test1, y_test1 = X1[70128:], y1[70128:] #  1 year testing [70,128 , 78887]\n",
    "X_train1.shape, y_train1.shape, X_val1.shape, y_val1.shape, X_test1.shape, y_test1.shape\n"
   ]
  },
  {
   "cell_type": "code",
   "execution_count": 157,
   "id": "890206a4",
   "metadata": {},
   "outputs": [
    {
     "name": "stdout",
     "output_type": "stream",
     "text": [
      "Model: \"sequential_3\"\n",
      "_________________________________________________________________\n",
      " Layer (type)                Output Shape              Param #   \n",
      "=================================================================\n",
      " lstm_3 (LSTM)               (None, 64)                17920     \n",
      "                                                                 \n",
      " dense_6 (Dense)             (None, 8)                 520       \n",
      "                                                                 \n",
      " dense_7 (Dense)             (None, 5)                 45        \n",
      "                                                                 \n",
      "=================================================================\n",
      "Total params: 18,485\n",
      "Trainable params: 18,485\n",
      "Non-trainable params: 0\n",
      "_________________________________________________________________\n"
     ]
    }
   ],
   "source": [
    "from tensorflow.keras.models import Sequential\n",
    "from tensorflow.keras.layers import *\n",
    "from tensorflow.keras.callbacks import ModelCheckpoint\n",
    "from tensorflow.keras.losses import MeanSquaredError\n",
    "from tensorflow.keras.metrics import RootMeanSquaredError\n",
    "from tensorflow.keras.optimizers import Adam\n",
    "\n",
    "model1 = Sequential()\n",
    "model1.add(InputLayer((5, 5)))\n",
    "model1.add(LSTM(64))\n",
    "model1.add(Dense(8, 'relu'))\n",
    "model1.add(Dense(5, 'linear'))\n",
    "\n",
    "model1.summary()"
   ]
  },
  {
   "cell_type": "code",
   "execution_count": 158,
   "id": "19972ed9",
   "metadata": {},
   "outputs": [],
   "source": [
    "from tensorflow.keras.callbacks import EarlyStopping"
   ]
  },
  {
   "cell_type": "code",
   "execution_count": 159,
   "id": "7addce40",
   "metadata": {},
   "outputs": [],
   "source": [
    "early_stopping = EarlyStopping(monitor='val_loss', min_delta=0.01, patience=10, verbose=1, mode='min')"
   ]
  },
  {
   "cell_type": "code",
   "execution_count": 160,
   "id": "d8219317",
   "metadata": {},
   "outputs": [],
   "source": [
    "cp1 = ModelCheckpoint('model_time/', save_best_only=True)\n",
    "# metrics , learning rate, loss  can be changed \n",
    "model1.compile(loss=MeanSquaredError(), optimizer=Adam(learning_rate=0.01), metrics=[RootMeanSquaredError()])"
   ]
  },
  {
   "cell_type": "code",
   "execution_count": 161,
   "id": "dc237de2",
   "metadata": {
    "scrolled": true
   },
   "outputs": [
    {
     "name": "stdout",
     "output_type": "stream",
     "text": [
      "Epoch 1/100\n",
      "1918/1918 [==============================] - ETA: 0s - loss: 0.0139 - root_mean_squared_error: 0.1177"
     ]
    },
    {
     "name": "stderr",
     "output_type": "stream",
     "text": [
      "WARNING:absl:Found untraced functions such as lstm_cell_6_layer_call_fn, lstm_cell_6_layer_call_and_return_conditional_losses while saving (showing 2 of 2). These functions will not be directly callable after loading.\n"
     ]
    },
    {
     "name": "stdout",
     "output_type": "stream",
     "text": [
      "INFO:tensorflow:Assets written to: model_time\\assets\n"
     ]
    },
    {
     "name": "stderr",
     "output_type": "stream",
     "text": [
      "INFO:tensorflow:Assets written to: model_time\\assets\n"
     ]
    },
    {
     "name": "stdout",
     "output_type": "stream",
     "text": [
      "1918/1918 [==============================] - 47s 21ms/step - loss: 0.0139 - root_mean_squared_error: 0.1177 - val_loss: 0.0077 - val_root_mean_squared_error: 0.0876\n",
      "Epoch 2/100\n",
      "1918/1918 [==============================] - 17s 9ms/step - loss: 0.0077 - root_mean_squared_error: 0.0877 - val_loss: 0.0090 - val_root_mean_squared_error: 0.0950\n",
      "Epoch 3/100\n",
      "1914/1918 [============================>.] - ETA: 0s - loss: 0.0064 - root_mean_squared_error: 0.0800"
     ]
    },
    {
     "name": "stderr",
     "output_type": "stream",
     "text": [
      "WARNING:absl:Found untraced functions such as lstm_cell_6_layer_call_fn, lstm_cell_6_layer_call_and_return_conditional_losses while saving (showing 2 of 2). These functions will not be directly callable after loading.\n"
     ]
    },
    {
     "name": "stdout",
     "output_type": "stream",
     "text": [
      "INFO:tensorflow:Assets written to: model_time\\assets\n"
     ]
    },
    {
     "name": "stderr",
     "output_type": "stream",
     "text": [
      "INFO:tensorflow:Assets written to: model_time\\assets\n"
     ]
    },
    {
     "name": "stdout",
     "output_type": "stream",
     "text": [
      "1918/1918 [==============================] - 37s 19ms/step - loss: 0.0064 - root_mean_squared_error: 0.0799 - val_loss: 0.0049 - val_root_mean_squared_error: 0.0702\n",
      "Epoch 4/100\n",
      "1914/1918 [============================>.] - ETA: 0s - loss: 0.0053 - root_mean_squared_error: 0.0730"
     ]
    },
    {
     "name": "stderr",
     "output_type": "stream",
     "text": [
      "WARNING:absl:Found untraced functions such as lstm_cell_6_layer_call_fn, lstm_cell_6_layer_call_and_return_conditional_losses while saving (showing 2 of 2). These functions will not be directly callable after loading.\n"
     ]
    },
    {
     "name": "stdout",
     "output_type": "stream",
     "text": [
      "INFO:tensorflow:Assets written to: model_time\\assets\n"
     ]
    },
    {
     "name": "stderr",
     "output_type": "stream",
     "text": [
      "INFO:tensorflow:Assets written to: model_time\\assets\n"
     ]
    },
    {
     "name": "stdout",
     "output_type": "stream",
     "text": [
      "1918/1918 [==============================] - 40s 21ms/step - loss: 0.0053 - root_mean_squared_error: 0.0729 - val_loss: 0.0038 - val_root_mean_squared_error: 0.0614\n",
      "Epoch 5/100\n",
      "1915/1918 [============================>.] - ETA: 0s - loss: 0.0046 - root_mean_squared_error: 0.0680"
     ]
    },
    {
     "name": "stderr",
     "output_type": "stream",
     "text": [
      "WARNING:absl:Found untraced functions such as lstm_cell_6_layer_call_fn, lstm_cell_6_layer_call_and_return_conditional_losses while saving (showing 2 of 2). These functions will not be directly callable after loading.\n"
     ]
    },
    {
     "name": "stdout",
     "output_type": "stream",
     "text": [
      "INFO:tensorflow:Assets written to: model_time\\assets\n"
     ]
    },
    {
     "name": "stderr",
     "output_type": "stream",
     "text": [
      "INFO:tensorflow:Assets written to: model_time\\assets\n"
     ]
    },
    {
     "name": "stdout",
     "output_type": "stream",
     "text": [
      "1918/1918 [==============================] - 42s 22ms/step - loss: 0.0046 - root_mean_squared_error: 0.0680 - val_loss: 0.0036 - val_root_mean_squared_error: 0.0602\n",
      "Epoch 6/100\n",
      "1913/1918 [============================>.] - ETA: 0s - loss: 0.0041 - root_mean_squared_error: 0.0644"
     ]
    },
    {
     "name": "stderr",
     "output_type": "stream",
     "text": [
      "WARNING:absl:Found untraced functions such as lstm_cell_6_layer_call_fn, lstm_cell_6_layer_call_and_return_conditional_losses while saving (showing 2 of 2). These functions will not be directly callable after loading.\n"
     ]
    },
    {
     "name": "stdout",
     "output_type": "stream",
     "text": [
      "INFO:tensorflow:Assets written to: model_time\\assets\n"
     ]
    },
    {
     "name": "stderr",
     "output_type": "stream",
     "text": [
      "INFO:tensorflow:Assets written to: model_time\\assets\n"
     ]
    },
    {
     "name": "stdout",
     "output_type": "stream",
     "text": [
      "1918/1918 [==============================] - 41s 21ms/step - loss: 0.0041 - root_mean_squared_error: 0.0644 - val_loss: 0.0035 - val_root_mean_squared_error: 0.0595\n",
      "Epoch 7/100\n",
      "1918/1918 [==============================] - 19s 10ms/step - loss: 0.0043 - root_mean_squared_error: 0.0653 - val_loss: 0.0037 - val_root_mean_squared_error: 0.0612\n",
      "Epoch 8/100\n",
      "1918/1918 [==============================] - 20s 10ms/step - loss: 0.0039 - root_mean_squared_error: 0.0628 - val_loss: 0.0037 - val_root_mean_squared_error: 0.0605\n",
      "Epoch 9/100\n",
      "1914/1918 [============================>.] - ETA: 0s - loss: 0.0045 - root_mean_squared_error: 0.0671"
     ]
    },
    {
     "name": "stderr",
     "output_type": "stream",
     "text": [
      "WARNING:absl:Found untraced functions such as lstm_cell_6_layer_call_fn, lstm_cell_6_layer_call_and_return_conditional_losses while saving (showing 2 of 2). These functions will not be directly callable after loading.\n"
     ]
    },
    {
     "name": "stdout",
     "output_type": "stream",
     "text": [
      "INFO:tensorflow:Assets written to: model_time\\assets\n"
     ]
    },
    {
     "name": "stderr",
     "output_type": "stream",
     "text": [
      "INFO:tensorflow:Assets written to: model_time\\assets\n"
     ]
    },
    {
     "name": "stdout",
     "output_type": "stream",
     "text": [
      "1918/1918 [==============================] - 41s 21ms/step - loss: 0.0045 - root_mean_squared_error: 0.0670 - val_loss: 0.0035 - val_root_mean_squared_error: 0.0593\n",
      "Epoch 10/100\n",
      "1918/1918 [==============================] - 19s 10ms/step - loss: 0.0033 - root_mean_squared_error: 0.0572 - val_loss: 0.0036 - val_root_mean_squared_error: 0.0604\n",
      "Epoch 11/100\n",
      "1918/1918 [==============================] - 19s 10ms/step - loss: 0.0035 - root_mean_squared_error: 0.0593 - val_loss: 0.0039 - val_root_mean_squared_error: 0.0625\n",
      "Epoch 11: early stopping\n"
     ]
    }
   ],
   "source": [
    "history = model1.fit(X_train1, y_train1, validation_data=(X_val1, y_val1), epochs=100, callbacks=[cp1,early_stopping])"
   ]
  },
  {
   "cell_type": "code",
   "execution_count": 162,
   "id": "05017308-f472-4687-b72b-f13bd687582b",
   "metadata": {},
   "outputs": [
    {
     "data": {
      "text/plain": [
       "[<matplotlib.lines.Line2D at 0x15ce47a0dc0>]"
      ]
     },
     "execution_count": 162,
     "metadata": {},
     "output_type": "execute_result"
    },
    {
     "data": {
      "image/png": "[encoded data removed]",
      "text/plain": [
       "<Figure size 1000x600 with 1 Axes>"
      ]
     },
     "metadata": {},
     "output_type": "display_data"
    }
   ],
   "source": [
    "plt.figure(figsize=(10, 6)) # Optional: Adjusts the figure size\n",
    "plt.plot(history.history['loss'], label='Train Loss')\n",
    "plt.plot(history.history['val_loss'], label='Validation Loss')"
   ]
  },
  {
   "cell_type": "code",
   "execution_count": 163,
   "id": "a454c7f1",
   "metadata": {},
   "outputs": [],
   "source": [
    "from tensorflow.keras.models import load_model\n",
    "model1 = load_model('model_time/')"
   ]
  },
  {
   "cell_type": "code",
   "execution_count": 164,
   "id": "bdda30eb",
   "metadata": {},
   "outputs": [
    {
     "name": "stdout",
     "output_type": "stream",
     "text": [
      "1918/1918 [==============================] - 10s 5ms/step\n"
     ]
    },
    {
     "data": {
      "text/html": [
       "<div>\n",
       "<style scoped>\n",
       "    .dataframe tbody tr th:only-of-type {\n",
       "        vertical-align: middle;\n",
       "    }\n",
       "\n",
       "    .dataframe tbody tr th {\n",
       "        vertical-align: top;\n",
       "    }\n",
       "\n",
       "    .dataframe thead th {\n",
       "        text-align: right;\n",
       "    }\n",
       "</style>\n",
       "<table border=\"1\" class=\"dataframe\">\n",
       "  <thead>\n",
       "    <tr style=\"text-align: right;\">\n",
       "      <th></th>\n",
       "      <th>Train Predictions</th>\n",
       "      <th>Actuals</th>\n",
       "    </tr>\n",
       "  </thead>\n",
       "  <tbody>\n",
       "    <tr>\n",
       "      <th>0</th>\n",
       "      <td>0.326822</td>\n",
       "      <td>0.374742</td>\n",
       "    </tr>\n",
       "    <tr>\n",
       "      <th>1</th>\n",
       "      <td>0.270374</td>\n",
       "      <td>0.181534</td>\n",
       "    </tr>\n",
       "    <tr>\n",
       "      <th>2</th>\n",
       "      <td>0.215695</td>\n",
       "      <td>0.183397</td>\n",
       "    </tr>\n",
       "    <tr>\n",
       "      <th>3</th>\n",
       "      <td>0.231207</td>\n",
       "      <td>0.283361</td>\n",
       "    </tr>\n",
       "    <tr>\n",
       "      <th>4</th>\n",
       "      <td>0.216536</td>\n",
       "      <td>0.217391</td>\n",
       "    </tr>\n",
       "    <tr>\n",
       "      <th>5</th>\n",
       "      <td>0.513449</td>\n",
       "      <td>0.590651</td>\n",
       "    </tr>\n",
       "    <tr>\n",
       "      <th>6</th>\n",
       "      <td>0.444249</td>\n",
       "      <td>0.322289</td>\n",
       "    </tr>\n",
       "    <tr>\n",
       "      <th>7</th>\n",
       "      <td>0.350953</td>\n",
       "      <td>0.320250</td>\n",
       "    </tr>\n",
       "    <tr>\n",
       "      <th>8</th>\n",
       "      <td>0.229897</td>\n",
       "      <td>0.283361</td>\n",
       "    </tr>\n",
       "    <tr>\n",
       "      <th>9</th>\n",
       "      <td>0.274020</td>\n",
       "      <td>0.260870</td>\n",
       "    </tr>\n",
       "    <tr>\n",
       "      <th>10</th>\n",
       "      <td>0.651255</td>\n",
       "      <td>0.752198</td>\n",
       "    </tr>\n",
       "    <tr>\n",
       "      <th>11</th>\n",
       "      <td>0.577089</td>\n",
       "      <td>0.447753</td>\n",
       "    </tr>\n",
       "    <tr>\n",
       "      <th>12</th>\n",
       "      <td>0.410664</td>\n",
       "      <td>0.449114</td>\n",
       "    </tr>\n",
       "    <tr>\n",
       "      <th>13</th>\n",
       "      <td>0.270621</td>\n",
       "      <td>0.283361</td>\n",
       "    </tr>\n",
       "    <tr>\n",
       "      <th>14</th>\n",
       "      <td>0.322477</td>\n",
       "      <td>0.304348</td>\n",
       "    </tr>\n",
       "    <tr>\n",
       "      <th>15</th>\n",
       "      <td>0.767523</td>\n",
       "      <td>0.856165</td>\n",
       "    </tr>\n",
       "    <tr>\n",
       "      <th>16</th>\n",
       "      <td>0.681438</td>\n",
       "      <td>0.546223</td>\n",
       "    </tr>\n",
       "    <tr>\n",
       "      <th>17</th>\n",
       "      <td>0.507909</td>\n",
       "      <td>0.516846</td>\n",
       "    </tr>\n",
       "    <tr>\n",
       "      <th>18</th>\n",
       "      <td>0.241686</td>\n",
       "      <td>0.273476</td>\n",
       "    </tr>\n",
       "    <tr>\n",
       "      <th>19</th>\n",
       "      <td>0.356366</td>\n",
       "      <td>0.347826</td>\n",
       "    </tr>\n",
       "    <tr>\n",
       "      <th>20</th>\n",
       "      <td>0.822431</td>\n",
       "      <td>0.896701</td>\n",
       "    </tr>\n",
       "    <tr>\n",
       "      <th>21</th>\n",
       "      <td>0.726791</td>\n",
       "      <td>0.599050</td>\n",
       "    </tr>\n",
       "    <tr>\n",
       "      <th>22</th>\n",
       "      <td>0.554582</td>\n",
       "      <td>0.553317</td>\n",
       "    </tr>\n",
       "    <tr>\n",
       "      <th>23</th>\n",
       "      <td>0.204602</td>\n",
       "      <td>0.204283</td>\n",
       "    </tr>\n",
       "    <tr>\n",
       "      <th>24</th>\n",
       "      <td>0.386550</td>\n",
       "      <td>0.391304</td>\n",
       "    </tr>\n",
       "    <tr>\n",
       "      <th>25</th>\n",
       "      <td>0.785996</td>\n",
       "      <td>0.865978</td>\n",
       "    </tr>\n",
       "    <tr>\n",
       "      <th>26</th>\n",
       "      <td>0.690779</td>\n",
       "      <td>0.589782</td>\n",
       "    </tr>\n",
       "    <tr>\n",
       "      <th>27</th>\n",
       "      <td>0.574487</td>\n",
       "      <td>0.595693</td>\n",
       "    </tr>\n",
       "    <tr>\n",
       "      <th>28</th>\n",
       "      <td>0.172273</td>\n",
       "      <td>0.125206</td>\n",
       "    </tr>\n",
       "    <tr>\n",
       "      <th>29</th>\n",
       "      <td>0.438903</td>\n",
       "      <td>0.434783</td>\n",
       "    </tr>\n",
       "  </tbody>\n",
       "</table>\n",
       "</div>"
      ],
      "text/plain": [
       "    Train Predictions   Actuals\n",
       "0            0.326822  0.374742\n",
       "1            0.270374  0.181534\n",
       "2            0.215695  0.183397\n",
       "3            0.231207  0.283361\n",
       "4            0.216536  0.217391\n",
       "5            0.513449  0.590651\n",
       "6            0.444249  0.322289\n",
       "7            0.350953  0.320250\n",
       "8            0.229897  0.283361\n",
       "9            0.274020  0.260870\n",
       "10           0.651255  0.752198\n",
       "11           0.577089  0.447753\n",
       "12           0.410664  0.449114\n",
       "13           0.270621  0.283361\n",
       "14           0.322477  0.304348\n",
       "15           0.767523  0.856165\n",
       "16           0.681438  0.546223\n",
       "17           0.507909  0.516846\n",
       "18           0.241686  0.273476\n",
       "19           0.356366  0.347826\n",
       "20           0.822431  0.896701\n",
       "21           0.726791  0.599050\n",
       "22           0.554582  0.553317\n",
       "23           0.204602  0.204283\n",
       "24           0.386550  0.391304\n",
       "25           0.785996  0.865978\n",
       "26           0.690779  0.589782\n",
       "27           0.574487  0.595693\n",
       "28           0.172273  0.125206\n",
       "29           0.438903  0.434783"
      ]
     },
     "execution_count": 164,
     "metadata": {},
     "output_type": "execute_result"
    }
   ],
   "source": [
    "train_predictions = model1.predict(X_train1).flatten()\n",
    "train_results = pd.DataFrame(data={'Train Predictions':train_predictions, 'Actuals':y_train1.flatten()})\n",
    "train_results.head(30)"
   ]
  },
  {
   "cell_type": "code",
   "execution_count": 165,
   "id": "50fdd92d",
   "metadata": {},
   "outputs": [
    {
     "data": {
      "text/plain": [
       "[<matplotlib.lines.Line2D at 0x15c858a0fd0>]"
      ]
     },
     "execution_count": 165,
     "metadata": {},
     "output_type": "execute_result"
    },
    {
     "data": {
      "image/png": "[encoded data removed]",
      "text/plain": [
       "<Figure size 640x480 with 1 Axes>"
      ]
     },
     "metadata": {},
     "output_type": "display_data"
    }
   ],
   "source": [
    "%matplotlib inline\n",
    "\n",
    "import matplotlib.pyplot as plt\n",
    "plt.plot(train_results['Train Predictions'][0:400:5])\n",
    "plt.plot(train_results['Actuals'][0:400:5])"
   ]
  },
  {
   "cell_type": "code",
   "execution_count": 166,
   "id": "479e2029",
   "metadata": {},
   "outputs": [
    {
     "name": "stdout",
     "output_type": "stream",
     "text": [
      "274/274 [==============================] - 1s 5ms/step\n"
     ]
    },
    {
     "data": {
      "text/html": [
       "<div>\n",
       "<style scoped>\n",
       "    .dataframe tbody tr th:only-of-type {\n",
       "        vertical-align: middle;\n",
       "    }\n",
       "\n",
       "    .dataframe tbody tr th {\n",
       "        vertical-align: top;\n",
       "    }\n",
       "\n",
       "    .dataframe thead th {\n",
       "        text-align: right;\n",
       "    }\n",
       "</style>\n",
       "<table border=\"1\" class=\"dataframe\">\n",
       "  <thead>\n",
       "    <tr style=\"text-align: right;\">\n",
       "      <th></th>\n",
       "      <th>Val Predictions</th>\n",
       "      <th>Actuals</th>\n",
       "    </tr>\n",
       "  </thead>\n",
       "  <tbody>\n",
       "    <tr>\n",
       "      <th>0</th>\n",
       "      <td>0.085564</td>\n",
       "      <td>0.098332</td>\n",
       "    </tr>\n",
       "    <tr>\n",
       "      <th>1</th>\n",
       "      <td>0.096338</td>\n",
       "      <td>0.031974</td>\n",
       "    </tr>\n",
       "    <tr>\n",
       "      <th>2</th>\n",
       "      <td>0.135327</td>\n",
       "      <td>0.113234</td>\n",
       "    </tr>\n",
       "    <tr>\n",
       "      <th>3</th>\n",
       "      <td>0.488254</td>\n",
       "      <td>0.489292</td>\n",
       "    </tr>\n",
       "    <tr>\n",
       "      <th>4</th>\n",
       "      <td>0.127652</td>\n",
       "      <td>0.173913</td>\n",
       "    </tr>\n",
       "    <tr>\n",
       "      <th>...</th>\n",
       "      <td>...</td>\n",
       "      <td>...</td>\n",
       "    </tr>\n",
       "    <tr>\n",
       "      <th>43795</th>\n",
       "      <td>0.004294</td>\n",
       "      <td>0.000000</td>\n",
       "    </tr>\n",
       "    <tr>\n",
       "      <th>43796</th>\n",
       "      <td>-0.007655</td>\n",
       "      <td>0.000000</td>\n",
       "    </tr>\n",
       "    <tr>\n",
       "      <th>43797</th>\n",
       "      <td>0.135626</td>\n",
       "      <td>0.129559</td>\n",
       "    </tr>\n",
       "    <tr>\n",
       "      <th>43798</th>\n",
       "      <td>0.301981</td>\n",
       "      <td>0.273476</td>\n",
       "    </tr>\n",
       "    <tr>\n",
       "      <th>43799</th>\n",
       "      <td>0.093914</td>\n",
       "      <td>0.130435</td>\n",
       "    </tr>\n",
       "  </tbody>\n",
       "</table>\n",
       "<p>43800 rows × 2 columns</p>\n",
       "</div>"
      ],
      "text/plain": [
       "       Val Predictions   Actuals\n",
       "0             0.085564  0.098332\n",
       "1             0.096338  0.031974\n",
       "2             0.135327  0.113234\n",
       "3             0.488254  0.489292\n",
       "4             0.127652  0.173913\n",
       "...                ...       ...\n",
       "43795         0.004294  0.000000\n",
       "43796        -0.007655  0.000000\n",
       "43797         0.135626  0.129559\n",
       "43798         0.301981  0.273476\n",
       "43799         0.093914  0.130435\n",
       "\n",
       "[43800 rows x 2 columns]"
      ]
     },
     "execution_count": 166,
     "metadata": {},
     "output_type": "execute_result"
    }
   ],
   "source": [
    "\n",
    "val_predictions = model1.predict(X_val1).flatten()\n",
    "val_results = pd.DataFrame(data={'Val Predictions':val_predictions, 'Actuals':y_val1.flatten()})\n",
    "val_results"
   ]
  },
  {
   "cell_type": "code",
   "execution_count": 167,
   "id": "f535c6a7",
   "metadata": {},
   "outputs": [
    {
     "data": {
      "text/plain": [
       "[<matplotlib.lines.Line2D at 0x15c88caad30>]"
      ]
     },
     "execution_count": 167,
     "metadata": {},
     "output_type": "execute_result"
    },
    {
     "data": {
      "image/png": "[encoded data removed]",
      "text/plain": [
       "<Figure size 640x480 with 1 Axes>"
      ]
     },
     "metadata": {},
     "output_type": "display_data"
    }
   ],
   "source": [
    "plt.plot(val_results['Val Predictions'][0:200:5])\n",
    "plt.plot(val_results['Actuals'][0:200:5])"
   ]
  },
  {
   "cell_type": "code",
   "execution_count": 168,
   "id": "d68a14e7",
   "metadata": {},
   "outputs": [
    {
     "name": "stdout",
     "output_type": "stream",
     "text": [
      "274/274 [==============================] - 1s 5ms/step\n"
     ]
    },
    {
     "data": {
      "text/html": [
       "<div>\n",
       "<style scoped>\n",
       "    .dataframe tbody tr th:only-of-type {\n",
       "        vertical-align: middle;\n",
       "    }\n",
       "\n",
       "    .dataframe tbody tr th {\n",
       "        vertical-align: top;\n",
       "    }\n",
       "\n",
       "    .dataframe thead th {\n",
       "        text-align: right;\n",
       "    }\n",
       "</style>\n",
       "<table border=\"1\" class=\"dataframe\">\n",
       "  <thead>\n",
       "    <tr style=\"text-align: right;\">\n",
       "      <th></th>\n",
       "      <th>Test Predictions</th>\n",
       "      <th>Actuals</th>\n",
       "    </tr>\n",
       "  </thead>\n",
       "  <tbody>\n",
       "    <tr>\n",
       "      <th>0</th>\n",
       "      <td>0.288000</td>\n",
       "      <td>0.341072</td>\n",
       "    </tr>\n",
       "    <tr>\n",
       "      <th>1</th>\n",
       "      <td>0.227229</td>\n",
       "      <td>0.181534</td>\n",
       "    </tr>\n",
       "    <tr>\n",
       "      <th>2</th>\n",
       "      <td>0.202411</td>\n",
       "      <td>0.213963</td>\n",
       "    </tr>\n",
       "    <tr>\n",
       "      <th>3</th>\n",
       "      <td>0.185292</td>\n",
       "      <td>0.181219</td>\n",
       "    </tr>\n",
       "    <tr>\n",
       "      <th>4</th>\n",
       "      <td>0.202393</td>\n",
       "      <td>0.217391</td>\n",
       "    </tr>\n",
       "    <tr>\n",
       "      <th>...</th>\n",
       "      <td>...</td>\n",
       "      <td>...</td>\n",
       "    </tr>\n",
       "    <tr>\n",
       "      <th>43770</th>\n",
       "      <td>-0.006173</td>\n",
       "      <td>0.000000</td>\n",
       "    </tr>\n",
       "    <tr>\n",
       "      <th>43771</th>\n",
       "      <td>0.013778</td>\n",
       "      <td>0.000000</td>\n",
       "    </tr>\n",
       "    <tr>\n",
       "      <th>43772</th>\n",
       "      <td>0.273884</td>\n",
       "      <td>0.278569</td>\n",
       "    </tr>\n",
       "    <tr>\n",
       "      <th>43773</th>\n",
       "      <td>0.395186</td>\n",
       "      <td>0.385502</td>\n",
       "    </tr>\n",
       "    <tr>\n",
       "      <th>43774</th>\n",
       "      <td>0.985794</td>\n",
       "      <td>1.000000</td>\n",
       "    </tr>\n",
       "  </tbody>\n",
       "</table>\n",
       "<p>43775 rows × 2 columns</p>\n",
       "</div>"
      ],
      "text/plain": [
       "       Test Predictions   Actuals\n",
       "0              0.288000  0.341072\n",
       "1              0.227229  0.181534\n",
       "2              0.202411  0.213963\n",
       "3              0.185292  0.181219\n",
       "4              0.202393  0.217391\n",
       "...                 ...       ...\n",
       "43770         -0.006173  0.000000\n",
       "43771          0.013778  0.000000\n",
       "43772          0.273884  0.278569\n",
       "43773          0.395186  0.385502\n",
       "43774          0.985794  1.000000\n",
       "\n",
       "[43775 rows x 2 columns]"
      ]
     },
     "execution_count": 168,
     "metadata": {},
     "output_type": "execute_result"
    }
   ],
   "source": [
    "test_predictions = model1.predict(X_test1).flatten()\n",
    "test_results = pd.DataFrame(data={'Test Predictions':test_predictions, 'Actuals':y_test1.flatten()})\n",
    "test_results"
   ]
  },
  {
   "cell_type": "code",
   "execution_count": 1,
   "id": "91a07b9d",
   "metadata": {},
   "outputs": [],
   "source": [
    "from sklearn.metrics import mean_squared_error as mse\n",
    "\n",
    "def plot_predictions1(model, X, y, start=0, end=500):\n",
    "  predictions = model.predict(X).flatten()\n",
    "  df = pd.DataFrame(data={'Predictions': predictions, 'Actuals':y})\n",
    "  plt.plot(df['Predictions'][start:end:5])\n",
    "  plt.plot(df['Actuals'][start:end:5])\n",
    "  return df, mse(predictions, y)"
   ]
  },
  {
   "cell_type": "code",
   "execution_count": null,
   "id": "ec17ec0f-16e2-4404-8d4e-32091437a98a",
   "metadata": {},
   "outputs": [],
   "source": []
  },
  {
   "cell_type": "code",
   "execution_count": 170,
   "id": "86df6333",
   "metadata": {},
   "outputs": [
    {
     "name": "stdout",
     "output_type": "stream",
     "text": [
      "274/274 [==============================] - 1s 5ms/step\n"
     ]
    },
    {
     "data": {
      "text/plain": [
       "(       Predictions   Actuals\n",
       " 0         0.288000  0.341072\n",
       " 1         0.227229  0.181534\n",
       " 2         0.202411  0.213963\n",
       " 3         0.185292  0.181219\n",
       " 4         0.202393  0.217391\n",
       " ...            ...       ...\n",
       " 43770    -0.006173  0.000000\n",
       " 43771     0.013778  0.000000\n",
       " 43772     0.273884  0.278569\n",
       " 43773     0.395186  0.385502\n",
       " 43774     0.985794  1.000000\n",
       " \n",
       " [43775 rows x 2 columns],\n",
       " 0.0029370293023184505)"
      ]
     },
     "execution_count": 170,
     "metadata": {},
     "output_type": "execute_result"
    },
    {
     "data": {
      "image/png": "[encoded data removed]",
      "text/plain": [
       "<Figure size 640x480 with 1 Axes>"
      ]
     },
     "metadata": {},
     "output_type": "display_data"
    }
   ],
   "source": [
    "plot_predictions1(model1, X_test1, y_test1.flatten())"
   ]
  },
  {
   "cell_type": "code",
   "execution_count": 171,
   "id": "295ef7f9-5076-4301-a04e-35cee48633fd",
   "metadata": {},
   "outputs": [],
   "source": [
    "df_orignal_scaled = df_orignal_scaled.to_numpy()"
   ]
  },
  {
   "cell_type": "code",
   "execution_count": 172,
   "id": "05d10996",
   "metadata": {
    "scrolled": true
   },
   "outputs": [
    {
     "name": "stdout",
     "output_type": "stream",
     "text": [
      "[[0.         0.         0.34560611 0.36408567 0.91304348]\n",
      " [0.         0.         0.30809309 0.37561779 0.95652174]\n",
      " [0.         0.         0.27856895 0.38550247 1.        ]\n",
      " [0.         0.         0.25946509 0.3970346  0.        ]\n",
      " [0.         0.         0.24175061 0.3970346  0.04347826]]\n",
      "(5, 5)\n",
      "[[[0.         0.         0.34560611 0.36408567 0.91304348]\n",
      "  [0.         0.         0.30809309 0.37561779 0.95652174]\n",
      "  [0.         0.         0.27856895 0.38550247 1.        ]\n",
      "  [0.         0.         0.25946509 0.3970346  0.        ]\n",
      "  [0.         0.         0.24175061 0.3970346  0.04347826]]]\n",
      "1/1 [==============================] - 0s 44ms/step\n",
      "[[-0.00757616  0.00645487  0.22099003  0.40998825  0.0759456 ]]\n",
      "[[-8.7394085  0.5571847 12.562304   2.4886286  1.7467488]]\n"
     ]
    }
   ],
   "source": [
    "\n",
    "kkk = df_orignal_scaled[78885:78890,:]\n",
    "scaled_entry=scaler.transform(kkk)\n",
    "print(scaled_entry)\n",
    "print(kkk.shape)\n",
    "reshaped_array = np.reshape(scaled_entry, (1, 5, 5))\n",
    "print(reshaped_array)\n",
    "predictions = model1.predict(reshaped_array)\n",
    "print(predictions)\n",
    "print(scaler.inverse_transform(predictions))\n",
    "# predictions\n",
    "# inverse_data = np.zeros((len(predictions), scaler.shape[1]))"
   ]
  },
  {
   "cell_type": "code",
   "execution_count": 173,
   "id": "e5212cc1-90f7-40be-a546-d88c35a6472b",
   "metadata": {},
   "outputs": [],
   "source": [
    "from datetime import datetime, timedelta\n",
    "\n",
    "def get_next_24_hours(start_month, start_day, start_hour):\n",
    "    \"\"\"\n",
    "    Generate a list of tuples representing the month, day, and hour for the next 24 hours,\n",
    "    given the start month, day, and hour.\n",
    "\n",
    "    Parameters:\n",
    "    - start_month (int): The starting month (1-12).\n",
    "    - start_day (int): The starting day of the month.\n",
    "    - start_hour (int): The starting hour of the day (0-23).\n",
    "\n",
    "    Returns:\n",
    "    - list of tuples: Each tuple contains (month, day, hour) for the next 24 hours.\n",
    "    \"\"\"\n",
    "    # Current datetime based on input\n",
    "    current_year = datetime.now().year  # Assuming the current year for simplicity\n",
    "    start_datetime = datetime(year=current_year, month=start_month, day=start_day, hour=start_hour)\n",
    "\n",
    "    # Initialize a list to hold the future time points\n",
    "    future_times = []\n",
    "\n",
    "    # Calculate the next 24 hours\n",
    "    for i in range(1, 25):  # Start from 1 to include the next hour immediately\n",
    "        future_time = start_datetime + timedelta(hours=i)\n",
    "        future_times.append((future_time.month, future_time.day, future_time.hour))\n",
    "\n",
    "    return future_times\n"
   ]
  },
  {
   "cell_type": "code",
   "execution_count": 174,
   "id": "60bcdca9-e970-4b35-a90d-347b86ea4d56",
   "metadata": {
    "scrolled": true
   },
   "outputs": [
    {
     "name": "stdout",
     "output_type": "stream",
     "text": [
      "[[ 0.    0.   13.67  2.41  0.  ]\n",
      " [ 0.    0.   13.16  2.41  1.  ]\n",
      " [ 0.    0.   12.73  2.41  2.  ]\n",
      " [ 0.    0.   12.26  2.48  3.  ]\n",
      " [46.98  2.76 11.84  2.48  4.  ]]\n",
      "4\n"
     ]
    }
   ],
   "source": [
    "input = df_orignal_scaled[78888:78893,:]  # Initial input extracted from your original scaled DataFrame\n",
    "# next_24_hours =  get_next_24_hours()\n",
    "print(input)\n",
    "#month = int(input[4,4])\n",
    "#day = int(input[4,5])\n",
    "hour = int(input[4,4])\n",
    "#print( month, day, hour)\n",
    "print(hour)\n",
    "next_hour = hour + 1\n",
    "next_24_hours =  get_next_24_hours(month, day, hour )\n",
    "# print(next_24_hours)"
   ]
  },
  {
   "cell_type": "code",
   "execution_count": null,
   "id": "a6045d34-40f3-4789-9489-5ad41489fa13",
   "metadata": {},
   "outputs": [],
   "source": []
  },
  {
   "cell_type": "code",
   "execution_count": null,
   "id": "16fd80e1-608f-455f-bd5a-6e4141f07057",
   "metadata": {},
   "outputs": [],
   "source": []
  },
  {
   "cell_type": "code",
   "execution_count": null,
   "id": "4775b603-7093-4578-8212-9ff4ed669e48",
   "metadata": {},
   "outputs": [],
   "source": []
  },
  {
   "cell_type": "code",
   "execution_count": null,
   "id": "10fd6d47-206b-4f5e-bc97-0134aaa4c5f3",
   "metadata": {},
   "outputs": [],
   "source": []
  },
  {
   "cell_type": "code",
   "execution_count": 175,
   "id": "8d388065",
   "metadata": {},
   "outputs": [
    {
     "name": "stdout",
     "output_type": "stream",
     "text": [
      "1/1 [==============================] - 0s 40ms/step\n",
      "1/1 [==============================] - 0s 50ms/step\n",
      "1/1 [==============================] - 0s 49ms/step\n",
      "1/1 [==============================] - 0s 52ms/step\n",
      "1/1 [==============================] - 0s 51ms/step\n",
      "1/1 [==============================] - 0s 47ms/step\n",
      "1/1 [==============================] - 0s 47ms/step\n",
      "1/1 [==============================] - 0s 47ms/step\n",
      "1/1 [==============================] - 0s 47ms/step\n",
      "1/1 [==============================] - 0s 49ms/step\n",
      "1/1 [==============================] - 0s 44ms/step\n",
      "1/1 [==============================] - 0s 52ms/step\n",
      "1/1 [==============================] - 0s 51ms/step\n",
      "1/1 [==============================] - 0s 46ms/step\n",
      "1/1 [==============================] - 0s 44ms/step\n",
      "1/1 [==============================] - 0s 48ms/step\n",
      "1/1 [==============================] - 0s 52ms/step\n",
      "1/1 [==============================] - 0s 50ms/step\n",
      "1/1 [==============================] - 0s 49ms/step\n",
      "1/1 [==============================] - 0s 48ms/step\n",
      "1/1 [==============================] - 0s 50ms/step\n",
      "1/1 [==============================] - 0s 47ms/step\n",
      "1/1 [==============================] - 0s 48ms/step\n",
      "1/1 [==============================] - 0s 48ms/step\n",
      "[array([[1.1865573e+03, 8.4582825e+01, 5.4313622e+01, 1.0361438e+00,\n",
      "        5.0000000e+00]], dtype=float32), array([[1.1518478e+03, 7.4434265e+01, 1.8923691e+01, 8.1696367e-01,\n",
      "        6.0000000e+00]], dtype=float32), array([[1.1623788e+03, 7.5157181e+01, 1.9012440e+01, 8.2053643e-01,\n",
      "        7.0000000e+00]], dtype=float32), array([[1.2325288e+03, 7.9972763e+01, 1.9603632e+01, 8.4433627e-01,\n",
      "        8.0000000e+00]], dtype=float32), array([[1.4917079e+03, 9.7764610e+01, 2.1787876e+01, 9.3226790e-01,\n",
      "        9.0000000e+00]], dtype=float32), array([[1.4917102e+03, 9.7764771e+01, 2.1787895e+01, 9.3226874e-01,\n",
      "        1.0000000e+01]], dtype=float32), array([[1.4917102e+03, 9.7764771e+01, 2.1787895e+01, 9.3226874e-01,\n",
      "        1.1000000e+01]], dtype=float32), array([[1.4917102e+03, 9.7764771e+01, 2.1787895e+01, 9.3226874e-01,\n",
      "        1.2000000e+01]], dtype=float32), array([[1.4917102e+03, 9.7764771e+01, 2.1787895e+01, 9.3226874e-01,\n",
      "        1.3000000e+01]], dtype=float32), array([[1.4917102e+03, 9.7764771e+01, 2.1787895e+01, 9.3226874e-01,\n",
      "        1.4000000e+01]], dtype=float32), array([[1.4917102e+03, 9.7764771e+01, 2.1787895e+01, 9.3226874e-01,\n",
      "        1.5000000e+01]], dtype=float32), array([[1.4917102e+03, 9.7764771e+01, 2.1787895e+01, 9.3226874e-01,\n",
      "        1.6000000e+01]], dtype=float32), array([[1.4917102e+03, 9.7764771e+01, 2.1787895e+01, 9.3226874e-01,\n",
      "        1.7000000e+01]], dtype=float32), array([[1.4917102e+03, 9.7764771e+01, 2.1787895e+01, 9.3226874e-01,\n",
      "        1.8000000e+01]], dtype=float32), array([[1.4917102e+03, 9.7764771e+01, 2.1787895e+01, 9.3226874e-01,\n",
      "        1.9000000e+01]], dtype=float32), array([[1.4917102e+03, 9.7764771e+01, 2.1787895e+01, 9.3226874e-01,\n",
      "        2.0000000e+01]], dtype=float32), array([[1.4917102e+03, 9.7764771e+01, 2.1787895e+01, 9.3226874e-01,\n",
      "        2.1000000e+01]], dtype=float32), array([[1.4917102e+03, 9.7764771e+01, 2.1787895e+01, 9.3226874e-01,\n",
      "        2.2000000e+01]], dtype=float32), array([[1.4917102e+03, 9.7764771e+01, 2.1787895e+01, 9.3226874e-01,\n",
      "        2.3000000e+01]], dtype=float32), array([[1.4917102e+03, 9.7764771e+01, 2.1787895e+01, 9.3226874e-01,\n",
      "        0.0000000e+00]], dtype=float32), array([[1.4917102e+03, 9.7764771e+01, 2.1787895e+01, 9.3226874e-01,\n",
      "        1.0000000e+00]], dtype=float32), array([[1.4917102e+03, 9.7764771e+01, 2.1787895e+01, 9.3226874e-01,\n",
      "        2.0000000e+00]], dtype=float32), array([[1.4917102e+03, 9.7764771e+01, 2.1787895e+01, 9.3226874e-01,\n",
      "        3.0000000e+00]], dtype=float32), array([[1.4917102e+03, 9.7764771e+01, 2.1787895e+01, 9.3226874e-01,\n",
      "        4.0000000e+00]], dtype=float32)]\n"
     ]
    }
   ],
   "source": [
    "\n",
    "input = df_orignal_scaled[78888:78893,:]  # Initial input extracted from your original scaled DataFrame\n",
    "output_scaled = []  \n",
    "output_not_scaled = [] \n",
    "\n",
    "next_time_counter = 0\n",
    "\n",
    "for i in range(24):\n",
    "    # Reshape input for the model prediction\n",
    "    reshaped_array = np.reshape(input, (1, 5, 5))\n",
    "    scaled_prediction = model1.predict(reshaped_array)\n",
    "    reversed_prediction=scaler.inverse_transform(scaled_prediction)\n",
    "\n",
    "    if reversed_prediction[0][0]<=0:\n",
    "        reversed_prediction[0][0]=0.\n",
    "        \n",
    "    output_scaled.append(reversed_prediction)\n",
    "    reversed_prediction[0][4]=next_hour\n",
    "        \n",
    "   \n",
    "    # Reshape the prediction to match the input shape if necessary\n",
    "    # This example assumes the model returns a prediction with shape (1, 4)\n",
    "    # Adjust the reshaping based on the actual shape of your model's output\n",
    "    scaled_prediction_reshaped = np.reshape(reversed_prediction, (1, 5))\n",
    "    #scaled_prediction[0][4] = next_hour\n",
    "    # scaled_prediction[0][4] = next_24_hours[next_time_counter][0]\n",
    "    # scaled_prediction[0][5] = next_24_hours[next_time_counter][1]\n",
    "    # scaled_prediction[0][6] = next_24_hours[next_time_counter][2]\n",
    "    next_hour = next_hour + 1\n",
    "    if next_hour > 23:\n",
    "        next_hour = 0    \n",
    "    \n",
    "    input = np.reshape(input, (5, 5))  # Ensure input is in the correct shape before appending\n",
    "    # Append the new prediction at the end of the input array\n",
    "    input = np.vstack([input, scaled_prediction_reshaped])  # Stack vertically to add as a new row\n",
    "    \n",
    "    # Remove the oldest entry to maintain the sliding window of input data\n",
    "    input = input[1:, :]  # Keep the last 5 entries, including the newly added prediction\n",
    " \n",
    "   \n",
    "\n",
    "    next_time_counter += 1\n",
    "# print(output_scaled)  # Remains empty, uncomment if needed\n",
    "print(output_scaled)  # Print or process the predictions as \n",
    "\n",
    "\n"
   ]
  },
  {
   "cell_type": "code",
   "execution_count": 176,
   "id": "dc28c8eb",
   "metadata": {},
   "outputs": [
    {
     "name": "stdout",
     "output_type": "stream",
     "text": [
      "this is the real scaled output\n",
      "[[1.1865573e+03 8.4582825e+01 5.4313622e+01 1.0361438e+00 5.0000000e+00]]\n",
      "[[1.1518478e+03 7.4434265e+01 1.8923691e+01 8.1696367e-01 6.0000000e+00]]\n",
      "[[1.1623788e+03 7.5157181e+01 1.9012440e+01 8.2053643e-01 7.0000000e+00]]\n",
      "[[1.2325288e+03 7.9972763e+01 1.9603632e+01 8.4433627e-01 8.0000000e+00]]\n",
      "[[1.4917079e+03 9.7764610e+01 2.1787876e+01 9.3226790e-01 9.0000000e+00]]\n",
      "[[1.4917102e+03 9.7764771e+01 2.1787895e+01 9.3226874e-01 1.0000000e+01]]\n",
      "[[1.4917102e+03 9.7764771e+01 2.1787895e+01 9.3226874e-01 1.1000000e+01]]\n",
      "[[1.4917102e+03 9.7764771e+01 2.1787895e+01 9.3226874e-01 1.2000000e+01]]\n",
      "[[1.4917102e+03 9.7764771e+01 2.1787895e+01 9.3226874e-01 1.3000000e+01]]\n",
      "[[1.4917102e+03 9.7764771e+01 2.1787895e+01 9.3226874e-01 1.4000000e+01]]\n",
      "[[1.4917102e+03 9.7764771e+01 2.1787895e+01 9.3226874e-01 1.5000000e+01]]\n",
      "[[1.4917102e+03 9.7764771e+01 2.1787895e+01 9.3226874e-01 1.6000000e+01]]\n",
      "[[1.4917102e+03 9.7764771e+01 2.1787895e+01 9.3226874e-01 1.7000000e+01]]\n",
      "[[1.4917102e+03 9.7764771e+01 2.1787895e+01 9.3226874e-01 1.8000000e+01]]\n",
      "[[1.4917102e+03 9.7764771e+01 2.1787895e+01 9.3226874e-01 1.9000000e+01]]\n",
      "[[1.4917102e+03 9.7764771e+01 2.1787895e+01 9.3226874e-01 2.0000000e+01]]\n",
      "[[1.4917102e+03 9.7764771e+01 2.1787895e+01 9.3226874e-01 2.1000000e+01]]\n",
      "[[1.4917102e+03 9.7764771e+01 2.1787895e+01 9.3226874e-01 2.2000000e+01]]\n",
      "[[1.4917102e+03 9.7764771e+01 2.1787895e+01 9.3226874e-01 2.3000000e+01]]\n",
      "[[1.4917102e+03 9.7764771e+01 2.1787895e+01 9.3226874e-01 0.0000000e+00]]\n",
      "[[1.4917102e+03 9.7764771e+01 2.1787895e+01 9.3226874e-01 1.0000000e+00]]\n",
      "[[1.4917102e+03 9.7764771e+01 2.1787895e+01 9.3226874e-01 2.0000000e+00]]\n",
      "[[1.4917102e+03 9.7764771e+01 2.1787895e+01 9.3226874e-01 3.0000000e+00]]\n",
      "[[1.4917102e+03 9.7764771e+01 2.1787895e+01 9.3226874e-01 4.0000000e+00]]\n"
     ]
    }
   ],
   "source": [
    "print(\"this is the real scaled output\")\n",
    "for i in output_scaled:\n",
    "    print(i)"
   ]
  },
  {
   "cell_type": "code",
   "execution_count": 177,
   "id": "2709c5a1",
   "metadata": {},
   "outputs": [
    {
     "ename": "SyntaxError",
     "evalue": "invalid syntax (4283343160.py, line 2)",
     "output_type": "error",
     "traceback": [
      "\u001b[1;36m  Cell \u001b[1;32mIn[177], line 2\u001b[1;36m\u001b[0m\n\u001b[1;33m    78893\t46.98\u001b[0m\n\u001b[1;37m         \t^\u001b[0m\n\u001b[1;31mSyntaxError\u001b[0m\u001b[1;31m:\u001b[0m invalid syntax\n"
     ]
    }
   ],
   "source": [
    "\tG(i)\n",
    "78893\t46.98\n",
    "78894\t449.76\n",
    "78895\t707.26\n",
    "78896\t902.77\n",
    "78897\t1024.41\n",
    "78898\t1072.31\n",
    "78899\t1035.86\n",
    "78900\t926.62\n",
    "78901\t740.38\n",
    "78902\t487.93\n",
    "78903\t225.58\n",
    "78904\t0\n",
    "78905\t0\n",
    "78906\t0\n",
    "78907\t0\n",
    "78908\t0\n",
    "78909\t0\n",
    "78910\t0\n",
    "78911\t0\n",
    "78912\t0\n",
    "78913\t0\n",
    "78914\t0\n",
    "78915\t0\n",
    "78916\t0\n",
    "78917\t39.28"
   ]
  },
  {
   "cell_type": "code",
   "execution_count": null,
   "id": "2c3d49a3",
   "metadata": {},
   "outputs": [],
   "source": []
  },
  {
   "cell_type": "code",
   "execution_count": null,
   "id": "1dc124bd",
   "metadata": {},
   "outputs": [],
   "source": []
  },
  {
   "cell_type": "code",
   "execution_count": null,
   "id": "96f37ea1",
   "metadata": {},
   "outputs": [],
   "source": []
  },
  {
   "cell_type": "code",
   "execution_count": null,
   "id": "eba8093b",
   "metadata": {},
   "outputs": [],
   "source": []
  }
 ],
 "metadata": {
  "kernelspec": {
   "display_name": "Python 3 (ipykernel)",
   "language": "python",
   "name": "python3"
  },
  "language_info": {
   "codemirror_mode": {
    "name": "ipython",
    "version": 3
   },
   "file_extension": ".py",
   "mimetype": "text/x-python",
   "name": "python",
   "nbconvert_exporter": "python",
   "pygments_lexer": "ipython3",
   "version": "3.8.15"
  }
 },
 "nbformat": 4,
 "nbformat_minor": 5
}
