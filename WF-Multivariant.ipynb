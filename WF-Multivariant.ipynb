{
 "cells": [
  {
   "cell_type": "code",
   "execution_count": 34,
   "id": "34bcb352",
   "metadata": {},
   "outputs": [],
   "source": [
    "import tensorflow as tf\n",
    "import os\n",
    "import pandas as pd\n",
    "import numpy as np\n",
    "import matplotlib as plt\n",
    "from sklearn.metrics import mean_squared_error as mse\n",
    "from sklearn.preprocessing import MinMaxScaler\n",
    "import warnings\n",
    "import matplotlib.pyplot as plt\n",
    "warnings.filterwarnings('ignore')\n",
    "%matplotlib inline"
   ]
  },
  {
   "cell_type": "code",
   "execution_count": 35,
   "id": "8de1d777",
   "metadata": {},
   "outputs": [],
   "source": [
    "df = pd.read_csv('timeseries.csv')\n"
   ]
  },
  {
   "cell_type": "code",
   "execution_count": 36,
   "id": "4aafd42e",
   "metadata": {},
   "outputs": [
    {
     "data": {
      "text/plain": [
       "96418                                        20201231:1007\n",
       "96419                                        20201231:1107\n",
       "96420                                        20201231:1207\n",
       "96421                                        20201231:1307\n",
       "96422                                        20201231:1407\n",
       "96423                                        20201231:1507\n",
       "96424                                        20201231:1607\n",
       "96425                                        20201231:1707\n",
       "96426                                        20201231:1807\n",
       "96427                                        20201231:1907\n",
       "96428                                        20201231:2007\n",
       "96429                                        20201231:2107\n",
       "96430                                        20201231:2207\n",
       "96431                                        20201231:2307\n",
       "96433    G(i): Global irradiance on the inclined plane ...\n",
       "96434                           H_sun: Sun height (degree)\n",
       "96435            T2m: 2-m air temperature (degree Celsius)\n",
       "96436                   WS10m: 10-m total wind speed (m/s)\n",
       "96437    Int: 1 means solar radiation values are recons...\n",
       "96441                             PVGIS (c) European Union\n",
       "Name: time, dtype: object"
      ]
     },
     "execution_count": 36,
     "metadata": {},
     "output_type": "execute_result"
    }
   ],
   "source": [
    "df = df.dropna(subset=['time']) \n",
    "df['time'].tail(20)\n",
    "# df['time'][78886]"
   ]
  },
  {
   "cell_type": "code",
   "execution_count": 37,
   "id": "e031791d",
   "metadata": {},
   "outputs": [
    {
     "name": "stdout",
     "output_type": "stream",
     "text": [
      "      G(i)  H_sun    T2m  WS10m\n",
      "0        0   0.00  11.17   1.59\n",
      "1        0   0.00  10.67   1.59\n",
      "2        0   0.00  10.11   1.79\n",
      "3        0   0.00   9.88   1.86\n",
      "4    91.98   2.76   9.77   1.93\n",
      "5   432.28  15.67  11.48   1.72\n",
      "6   681.34  27.82  15.42   1.72\n",
      "7   867.69  38.65  19.13   1.72\n",
      "8   987.62  47.15  21.08   1.66\n",
      "9  1034.38  51.71  22.13   1.24\n"
     ]
    }
   ],
   "source": [
    "df = df[:96431:]\n",
    "df_multi = df.iloc[:,1:5] # removing the time column \n",
    "df.tail(30)\n",
    "print(df_multi.head(10))\n",
    "# y = [x for x in df['Int'] if x == 0.0]\n",
    "# print(y)\n",
    "# type(df_multi)\n"
   ]
  },
  {
   "cell_type": "code",
   "execution_count": 38,
   "id": "028a46da",
   "metadata": {},
   "outputs": [
    {
     "name": "stdout",
     "output_type": "stream",
     "text": [
      "(96431, 4)\n",
      "[[0.         0.         0.15526224 0.26194399]\n",
      " [0.         0.         0.13581105 0.29489292]\n",
      " [0.         0.         0.12782216 0.30642504]\n",
      " [0.07973716 0.03197405 0.12400139 0.31795717]\n",
      " [0.3747421  0.18153383 0.18339701 0.28336079]\n",
      " [0.59065139 0.32228916 0.32025009 0.28336079]\n",
      " [0.75219758 0.44775255 0.44911428 0.28336079]\n",
      " [0.8561645  0.54622335 0.51684613 0.27347611]\n",
      " [0.89670059 0.59905005 0.55331712 0.20428336]]\n"
     ]
    }
   ],
   "source": [
    "# Initialize the Min-Max Scaler\n",
    "\n",
    "scaler = MinMaxScaler(feature_range=(0, 1))\n",
    "\n",
    "# Fit and transform the data\n",
    "scaled_data = scaler.fit_transform(df_multi)\n",
    "print(scaled_data.shape)\n",
    "print(scaled_data[1:10,:])"
   ]
  },
  {
   "cell_type": "code",
   "execution_count": 39,
   "id": "545c72b0",
   "metadata": {},
   "outputs": [],
   "source": [
    "df_orignal_scaled = scaled_data\n",
    "df_orignal = df_multi\n",
    "df_scaled = scaled_data[:78888:]"
   ]
  },
  {
   "cell_type": "code",
   "execution_count": 40,
   "id": "5bdc65e8",
   "metadata": {},
   "outputs": [
    {
     "name": "stdout",
     "output_type": "stream",
     "text": [
      "[[0.         0.         0.17262939 0.26194399]\n",
      " [0.         0.         0.15526224 0.26194399]\n",
      " [0.         0.         0.13581105 0.29489292]\n",
      " [0.         0.         0.12782216 0.30642504]\n",
      " [0.07973716 0.03197405 0.12400139 0.31795717]]\n",
      "[0.3747421  0.18153383 0.18339701 0.28336079]\n"
     ]
    }
   ],
   "source": [
    "\n",
    "print(df_scaled[0:5,:]) # this it the input\n",
    "print(df_scaled[5,:]) # this is the output"
   ]
  },
  {
   "cell_type": "code",
   "execution_count": 41,
   "id": "3de6a076",
   "metadata": {},
   "outputs": [],
   "source": [
    "def df_to_X_y(df_as_np, window_size=5):\n",
    "#   df_as_np = df.to_numpy()\n",
    "  X = []\n",
    "  y = []\n",
    "  for i in range(len(df_as_np)-window_size):\n",
    "    row = [a for a in df_as_np[i:i+window_size,:]]\n",
    "    X.append(row)\n",
    "    label = df_as_np[i+window_size,:]\n",
    "    y.append(label)\n",
    "  return np.array(X), np.array(y)"
   ]
  },
  {
   "cell_type": "code",
   "execution_count": 42,
   "id": "0ea1be1c",
   "metadata": {},
   "outputs": [
    {
     "name": "stdout",
     "output_type": "stream",
     "text": [
      "[[0.         0.         0.15526224 0.26194399]\n",
      " [0.         0.         0.13581105 0.29489292]\n",
      " [0.         0.         0.12782216 0.30642504]\n",
      " [0.07973716 0.03197405 0.12400139 0.31795717]\n",
      " [0.3747421  0.18153383 0.18339701 0.28336079]]\n",
      "slfejlksdjlfkjdslkjfjlk\n",
      "[0.59065139 0.32228916 0.32025009 0.28336079]\n"
     ]
    },
    {
     "data": {
      "text/plain": [
       "((78883, 5, 4), (78883, 4))"
      ]
     },
     "execution_count": 42,
     "metadata": {},
     "output_type": "execute_result"
    }
   ],
   "source": [
    "WINDOW_SIZE = 5\n",
    "X1, y1 = df_to_X_y(df_scaled, WINDOW_SIZE)\n",
    "print(X1[1])\n",
    "print(\"slfejlksdjlfkjdslkjfjlk\")\n",
    "print(y1[1])\n",
    "X1.shape, y1.shape"
   ]
  },
  {
   "cell_type": "code",
   "execution_count": 43,
   "id": "8d26efb8",
   "metadata": {},
   "outputs": [
    {
     "data": {
      "text/plain": [
       "((61367, 5, 4), (61367, 4), (8760, 5, 4), (8760, 4), (8755, 5, 4), (8755, 4))"
      ]
     },
     "execution_count": 43,
     "metadata": {},
     "output_type": "execute_result"
    }
   ],
   "source": [
    "X_train1, y_train1 = X1[:61367], y1[:61367]\n",
    "X_val1, y_val1 = X1[61367:70127], y1[61367:70127] # 1 year for validation [61,367 , 70127]\n",
    "X_test1, y_test1 = X1[70128:], y1[70128:] #  1 year testing [70,128 , 78887]\n",
    "X_train1.shape, y_train1.shape, X_val1.shape, y_val1.shape, X_test1.shape, y_test1.shape\n"
   ]
  },
  {
   "cell_type": "code",
   "execution_count": 44,
   "id": "890206a4",
   "metadata": {},
   "outputs": [
    {
     "name": "stdout",
     "output_type": "stream",
     "text": [
      "Model: \"sequential_1\"\n",
      "_________________________________________________________________\n",
      " Layer (type)                Output Shape              Param #   \n",
      "=================================================================\n",
      " lstm_1 (LSTM)               (None, 64)                17664     \n",
      "                                                                 \n",
      " dense_2 (Dense)             (None, 8)                 520       \n",
      "                                                                 \n",
      " dense_3 (Dense)             (None, 4)                 36        \n",
      "                                                                 \n",
      "=================================================================\n",
      "Total params: 18,220\n",
      "Trainable params: 18,220\n",
      "Non-trainable params: 0\n",
      "_________________________________________________________________\n"
     ]
    }
   ],
   "source": [
    "from tensorflow.keras.models import Sequential\n",
    "from tensorflow.keras.layers import *\n",
    "from tensorflow.keras.callbacks import ModelCheckpoint\n",
    "from tensorflow.keras.losses import MeanSquaredError\n",
    "from tensorflow.keras.metrics import RootMeanSquaredError\n",
    "from tensorflow.keras.optimizers import Adam\n",
    "\n",
    "model1 = Sequential()\n",
    "model1.add(InputLayer((5, 4)))\n",
    "model1.add(LSTM(64))\n",
    "model1.add(Dense(8, 'relu'))\n",
    "model1.add(Dense(4, 'linear'))\n",
    "\n",
    "model1.summary()"
   ]
  },
  {
   "cell_type": "code",
   "execution_count": 45,
   "id": "19972ed9",
   "metadata": {},
   "outputs": [],
   "source": [
    "from tensorflow.keras.callbacks import EarlyStopping"
   ]
  },
  {
   "cell_type": "code",
   "execution_count": 46,
   "id": "7addce40",
   "metadata": {},
   "outputs": [],
   "source": [
    "early_stopping = EarlyStopping(monitor='val_loss', min_delta=0.01, patience=5, verbose=1, mode='min')"
   ]
  },
  {
   "cell_type": "code",
   "execution_count": 47,
   "id": "d8219317",
   "metadata": {},
   "outputs": [],
   "source": [
    "cp1 = ModelCheckpoint('model_multi_2/', save_best_only=True)\n",
    "# metrics , learning rate, loss  can be changed \n",
    "model1.compile(loss=MeanSquaredError(), optimizer=Adam(learning_rate=0.001), metrics=[RootMeanSquaredError()])"
   ]
  },
  {
   "cell_type": "code",
   "execution_count": 48,
   "id": "dc237de2",
   "metadata": {
    "scrolled": true
   },
   "outputs": [
    {
     "name": "stdout",
     "output_type": "stream",
     "text": [
      "Epoch 1/50\n",
      "1905/1918 [============================>.] - ETA: 0s - loss: 0.0079 - root_mean_squared_error: 0.0887"
     ]
    },
    {
     "name": "stderr",
     "output_type": "stream",
     "text": [
      "WARNING:absl:Found untraced functions such as lstm_cell_2_layer_call_fn, lstm_cell_2_layer_call_and_return_conditional_losses while saving (showing 2 of 2). These functions will not be directly callable after loading.\n"
     ]
    },
    {
     "name": "stdout",
     "output_type": "stream",
     "text": [
      "INFO:tensorflow:Assets written to: model_multi_2\\assets\n"
     ]
    },
    {
     "name": "stderr",
     "output_type": "stream",
     "text": [
      "INFO:tensorflow:Assets written to: model_multi_2\\assets\n"
     ]
    },
    {
     "name": "stdout",
     "output_type": "stream",
     "text": [
      "1918/1918 [==============================] - 18s 8ms/step - loss: 0.0078 - root_mean_squared_error: 0.0886 - val_loss: 0.0039 - val_root_mean_squared_error: 0.0621\n",
      "Epoch 2/50\n",
      "1918/1918 [==============================] - ETA: 0s - loss: 0.0032 - root_mean_squared_error: 0.0562"
     ]
    },
    {
     "name": "stderr",
     "output_type": "stream",
     "text": [
      "WARNING:absl:Found untraced functions such as lstm_cell_2_layer_call_fn, lstm_cell_2_layer_call_and_return_conditional_losses while saving (showing 2 of 2). These functions will not be directly callable after loading.\n"
     ]
    },
    {
     "name": "stdout",
     "output_type": "stream",
     "text": [
      "INFO:tensorflow:Assets written to: model_multi_2\\assets\n"
     ]
    },
    {
     "name": "stderr",
     "output_type": "stream",
     "text": [
      "INFO:tensorflow:Assets written to: model_multi_2\\assets\n"
     ]
    },
    {
     "name": "stdout",
     "output_type": "stream",
     "text": [
      "1918/1918 [==============================] - 16s 9ms/step - loss: 0.0032 - root_mean_squared_error: 0.0562 - val_loss: 0.0034 - val_root_mean_squared_error: 0.0587\n",
      "Epoch 3/50\n",
      "1912/1918 [============================>.] - ETA: 0s - loss: 0.0029 - root_mean_squared_error: 0.0537"
     ]
    },
    {
     "name": "stderr",
     "output_type": "stream",
     "text": [
      "WARNING:absl:Found untraced functions such as lstm_cell_2_layer_call_fn, lstm_cell_2_layer_call_and_return_conditional_losses while saving (showing 2 of 2). These functions will not be directly callable after loading.\n"
     ]
    },
    {
     "name": "stdout",
     "output_type": "stream",
     "text": [
      "INFO:tensorflow:Assets written to: model_multi_2\\assets\n"
     ]
    },
    {
     "name": "stderr",
     "output_type": "stream",
     "text": [
      "INFO:tensorflow:Assets written to: model_multi_2\\assets\n"
     ]
    },
    {
     "name": "stdout",
     "output_type": "stream",
     "text": [
      "1918/1918 [==============================] - 16s 9ms/step - loss: 0.0029 - root_mean_squared_error: 0.0537 - val_loss: 0.0033 - val_root_mean_squared_error: 0.0571\n",
      "Epoch 4/50\n",
      "1916/1918 [============================>.] - ETA: 0s - loss: 0.0027 - root_mean_squared_error: 0.0523"
     ]
    },
    {
     "name": "stderr",
     "output_type": "stream",
     "text": [
      "WARNING:absl:Found untraced functions such as lstm_cell_2_layer_call_fn, lstm_cell_2_layer_call_and_return_conditional_losses while saving (showing 2 of 2). These functions will not be directly callable after loading.\n"
     ]
    },
    {
     "name": "stdout",
     "output_type": "stream",
     "text": [
      "INFO:tensorflow:Assets written to: model_multi_2\\assets\n"
     ]
    },
    {
     "name": "stderr",
     "output_type": "stream",
     "text": [
      "INFO:tensorflow:Assets written to: model_multi_2\\assets\n"
     ]
    },
    {
     "name": "stdout",
     "output_type": "stream",
     "text": [
      "1918/1918 [==============================] - 18s 10ms/step - loss: 0.0027 - root_mean_squared_error: 0.0523 - val_loss: 0.0031 - val_root_mean_squared_error: 0.0555\n",
      "Epoch 5/50\n",
      "1905/1918 [============================>.] - ETA: 0s - loss: 0.0026 - root_mean_squared_error: 0.0513"
     ]
    },
    {
     "name": "stderr",
     "output_type": "stream",
     "text": [
      "WARNING:absl:Found untraced functions such as lstm_cell_2_layer_call_fn, lstm_cell_2_layer_call_and_return_conditional_losses while saving (showing 2 of 2). These functions will not be directly callable after loading.\n"
     ]
    },
    {
     "name": "stdout",
     "output_type": "stream",
     "text": [
      "INFO:tensorflow:Assets written to: model_multi_2\\assets\n"
     ]
    },
    {
     "name": "stderr",
     "output_type": "stream",
     "text": [
      "INFO:tensorflow:Assets written to: model_multi_2\\assets\n"
     ]
    },
    {
     "name": "stdout",
     "output_type": "stream",
     "text": [
      "1918/1918 [==============================] - 17s 9ms/step - loss: 0.0026 - root_mean_squared_error: 0.0513 - val_loss: 0.0030 - val_root_mean_squared_error: 0.0551\n",
      "Epoch 6/50\n",
      "1911/1918 [============================>.] - ETA: 0s - loss: 0.0025 - root_mean_squared_error: 0.0504"
     ]
    },
    {
     "name": "stderr",
     "output_type": "stream",
     "text": [
      "WARNING:absl:Found untraced functions such as lstm_cell_2_layer_call_fn, lstm_cell_2_layer_call_and_return_conditional_losses while saving (showing 2 of 2). These functions will not be directly callable after loading.\n"
     ]
    },
    {
     "name": "stdout",
     "output_type": "stream",
     "text": [
      "INFO:tensorflow:Assets written to: model_multi_2\\assets\n"
     ]
    },
    {
     "name": "stderr",
     "output_type": "stream",
     "text": [
      "INFO:tensorflow:Assets written to: model_multi_2\\assets\n"
     ]
    },
    {
     "name": "stdout",
     "output_type": "stream",
     "text": [
      "1918/1918 [==============================] - 17s 9ms/step - loss: 0.0025 - root_mean_squared_error: 0.0504 - val_loss: 0.0029 - val_root_mean_squared_error: 0.0542\n",
      "Epoch 6: early stopping\n"
     ]
    },
    {
     "data": {
      "text/plain": [
       "<keras.callbacks.History at 0x1d57516e310>"
      ]
     },
     "execution_count": 48,
     "metadata": {},
     "output_type": "execute_result"
    }
   ],
   "source": [
    "model1.fit(X_train1, y_train1, validation_data=(X_val1, y_val1), epochs=50, callbacks=[cp1,early_stopping])"
   ]
  },
  {
   "cell_type": "code",
   "execution_count": 49,
   "id": "a454c7f1",
   "metadata": {},
   "outputs": [],
   "source": [
    "from tensorflow.keras.models import load_model\n",
    "model1 = load_model('model_multi_2/')"
   ]
  },
  {
   "cell_type": "code",
   "execution_count": 50,
   "id": "bdda30eb",
   "metadata": {},
   "outputs": [
    {
     "name": "stdout",
     "output_type": "stream",
     "text": [
      "1918/1918 [==============================] - 4s 2ms/step\n"
     ]
    },
    {
     "data": {
      "text/html": [
       "<div>\n",
       "<style scoped>\n",
       "    .dataframe tbody tr th:only-of-type {\n",
       "        vertical-align: middle;\n",
       "    }\n",
       "\n",
       "    .dataframe tbody tr th {\n",
       "        vertical-align: top;\n",
       "    }\n",
       "\n",
       "    .dataframe thead th {\n",
       "        text-align: right;\n",
       "    }\n",
       "</style>\n",
       "<table border=\"1\" class=\"dataframe\">\n",
       "  <thead>\n",
       "    <tr style=\"text-align: right;\">\n",
       "      <th></th>\n",
       "      <th>Train Predictions</th>\n",
       "      <th>Actuals</th>\n",
       "    </tr>\n",
       "  </thead>\n",
       "  <tbody>\n",
       "    <tr>\n",
       "      <th>0</th>\n",
       "      <td>0.331685</td>\n",
       "      <td>0.374742</td>\n",
       "    </tr>\n",
       "    <tr>\n",
       "      <th>1</th>\n",
       "      <td>0.216231</td>\n",
       "      <td>0.181534</td>\n",
       "    </tr>\n",
       "    <tr>\n",
       "      <th>2</th>\n",
       "      <td>0.219368</td>\n",
       "      <td>0.183397</td>\n",
       "    </tr>\n",
       "    <tr>\n",
       "      <th>3</th>\n",
       "      <td>0.249902</td>\n",
       "      <td>0.283361</td>\n",
       "    </tr>\n",
       "    <tr>\n",
       "      <th>4</th>\n",
       "      <td>0.581811</td>\n",
       "      <td>0.590651</td>\n",
       "    </tr>\n",
       "    <tr>\n",
       "      <th>...</th>\n",
       "      <td>...</td>\n",
       "      <td>...</td>\n",
       "    </tr>\n",
       "    <tr>\n",
       "      <th>245463</th>\n",
       "      <td>0.458169</td>\n",
       "      <td>0.499176</td>\n",
       "    </tr>\n",
       "    <tr>\n",
       "      <th>245464</th>\n",
       "      <td>0.104193</td>\n",
       "      <td>0.000000</td>\n",
       "    </tr>\n",
       "    <tr>\n",
       "      <th>245465</th>\n",
       "      <td>0.028130</td>\n",
       "      <td>0.000000</td>\n",
       "    </tr>\n",
       "    <tr>\n",
       "      <th>245466</th>\n",
       "      <td>0.130954</td>\n",
       "      <td>0.121570</td>\n",
       "    </tr>\n",
       "    <tr>\n",
       "      <th>245467</th>\n",
       "      <td>0.448149</td>\n",
       "      <td>0.489292</td>\n",
       "    </tr>\n",
       "  </tbody>\n",
       "</table>\n",
       "<p>245468 rows × 2 columns</p>\n",
       "</div>"
      ],
      "text/plain": [
       "        Train Predictions   Actuals\n",
       "0                0.331685  0.374742\n",
       "1                0.216231  0.181534\n",
       "2                0.219368  0.183397\n",
       "3                0.249902  0.283361\n",
       "4                0.581811  0.590651\n",
       "...                   ...       ...\n",
       "245463           0.458169  0.499176\n",
       "245464           0.104193  0.000000\n",
       "245465           0.028130  0.000000\n",
       "245466           0.130954  0.121570\n",
       "245467           0.448149  0.489292\n",
       "\n",
       "[245468 rows x 2 columns]"
      ]
     },
     "execution_count": 50,
     "metadata": {},
     "output_type": "execute_result"
    }
   ],
   "source": [
    "train_predictions = model1.predict(X_train1).flatten()\n",
    "train_results = pd.DataFrame(data={'Train Predictions':train_predictions, 'Actuals':y_train1.flatten()})\n",
    "train_results"
   ]
  },
  {
   "cell_type": "code",
   "execution_count": 51,
   "id": "50fdd92d",
   "metadata": {},
   "outputs": [
    {
     "data": {
      "text/plain": [
       "[<matplotlib.lines.Line2D at 0x1d573563490>]"
      ]
     },
     "execution_count": 51,
     "metadata": {},
     "output_type": "execute_result"
    },
    {
     "data": {
      "image/png": "[encoded data removed]",
      "text/plain": [
       "<Figure size 640x480 with 1 Axes>"
      ]
     },
     "metadata": {},
     "output_type": "display_data"
    }
   ],
   "source": [
    "%matplotlib inline\n",
    "\n",
    "import matplotlib.pyplot as plt\n",
    "plt.plot(train_results['Train Predictions'][2:400:4])\n",
    "plt.plot(train_results['Actuals'][2:400:4])"
   ]
  },
  {
   "cell_type": "code",
   "execution_count": 52,
   "id": "479e2029",
   "metadata": {},
   "outputs": [
    {
     "name": "stdout",
     "output_type": "stream",
     "text": [
      "274/274 [==============================] - 1s 2ms/step\n"
     ]
    },
    {
     "data": {
      "text/html": [
       "<div>\n",
       "<style scoped>\n",
       "    .dataframe tbody tr th:only-of-type {\n",
       "        vertical-align: middle;\n",
       "    }\n",
       "\n",
       "    .dataframe tbody tr th {\n",
       "        vertical-align: top;\n",
       "    }\n",
       "\n",
       "    .dataframe thead th {\n",
       "        text-align: right;\n",
       "    }\n",
       "</style>\n",
       "<table border=\"1\" class=\"dataframe\">\n",
       "  <thead>\n",
       "    <tr style=\"text-align: right;\">\n",
       "      <th></th>\n",
       "      <th>Val Predictions</th>\n",
       "      <th>Actuals</th>\n",
       "    </tr>\n",
       "  </thead>\n",
       "  <tbody>\n",
       "    <tr>\n",
       "      <th>0</th>\n",
       "      <td>0.120483</td>\n",
       "      <td>0.098332</td>\n",
       "    </tr>\n",
       "    <tr>\n",
       "      <th>1</th>\n",
       "      <td>0.038176</td>\n",
       "      <td>0.031974</td>\n",
       "    </tr>\n",
       "    <tr>\n",
       "      <th>2</th>\n",
       "      <td>0.120937</td>\n",
       "      <td>0.113234</td>\n",
       "    </tr>\n",
       "    <tr>\n",
       "      <th>3</th>\n",
       "      <td>0.437125</td>\n",
       "      <td>0.489292</td>\n",
       "    </tr>\n",
       "    <tr>\n",
       "      <th>4</th>\n",
       "      <td>0.427704</td>\n",
       "      <td>0.376303</td>\n",
       "    </tr>\n",
       "    <tr>\n",
       "      <th>...</th>\n",
       "      <td>...</td>\n",
       "      <td>...</td>\n",
       "    </tr>\n",
       "    <tr>\n",
       "      <th>35035</th>\n",
       "      <td>0.263865</td>\n",
       "      <td>0.294893</td>\n",
       "    </tr>\n",
       "    <tr>\n",
       "      <th>35036</th>\n",
       "      <td>0.074012</td>\n",
       "      <td>0.000000</td>\n",
       "    </tr>\n",
       "    <tr>\n",
       "      <th>35037</th>\n",
       "      <td>0.036330</td>\n",
       "      <td>0.000000</td>\n",
       "    </tr>\n",
       "    <tr>\n",
       "      <th>35038</th>\n",
       "      <td>0.145542</td>\n",
       "      <td>0.129559</td>\n",
       "    </tr>\n",
       "    <tr>\n",
       "      <th>35039</th>\n",
       "      <td>0.250019</td>\n",
       "      <td>0.273476</td>\n",
       "    </tr>\n",
       "  </tbody>\n",
       "</table>\n",
       "<p>35040 rows × 2 columns</p>\n",
       "</div>"
      ],
      "text/plain": [
       "       Val Predictions   Actuals\n",
       "0             0.120483  0.098332\n",
       "1             0.038176  0.031974\n",
       "2             0.120937  0.113234\n",
       "3             0.437125  0.489292\n",
       "4             0.427704  0.376303\n",
       "...                ...       ...\n",
       "35035         0.263865  0.294893\n",
       "35036         0.074012  0.000000\n",
       "35037         0.036330  0.000000\n",
       "35038         0.145542  0.129559\n",
       "35039         0.250019  0.273476\n",
       "\n",
       "[35040 rows x 2 columns]"
      ]
     },
     "execution_count": 52,
     "metadata": {},
     "output_type": "execute_result"
    }
   ],
   "source": [
    "\n",
    "val_predictions = model1.predict(X_val1).flatten()\n",
    "val_results = pd.DataFrame(data={'Val Predictions':val_predictions, 'Actuals':y_val1.flatten()})\n",
    "val_results"
   ]
  },
  {
   "cell_type": "code",
   "execution_count": 53,
   "id": "f535c6a7",
   "metadata": {},
   "outputs": [
    {
     "data": {
      "text/plain": [
       "[<matplotlib.lines.Line2D at 0x1d569a53e80>]"
      ]
     },
     "execution_count": 53,
     "metadata": {},
     "output_type": "execute_result"
    },
    {
     "data": {
      "image/png": "[encoded data removed]",
      "text/plain": [
       "<Figure size 640x480 with 1 Axes>"
      ]
     },
     "metadata": {},
     "output_type": "display_data"
    }
   ],
   "source": [
    "plt.plot(val_results['Val Predictions'][2:400:4])\n",
    "plt.plot(val_results['Actuals'][2:400:4])"
   ]
  },
  {
   "cell_type": "code",
   "execution_count": 62,
   "id": "d68a14e7",
   "metadata": {},
   "outputs": [
    {
     "name": "stdout",
     "output_type": "stream",
     "text": [
      "274/274 [==============================] - 0s 2ms/step\n"
     ]
    },
    {
     "data": {
      "text/html": [
       "<div>\n",
       "<style scoped>\n",
       "    .dataframe tbody tr th:only-of-type {\n",
       "        vertical-align: middle;\n",
       "    }\n",
       "\n",
       "    .dataframe tbody tr th {\n",
       "        vertical-align: top;\n",
       "    }\n",
       "\n",
       "    .dataframe thead th {\n",
       "        text-align: right;\n",
       "    }\n",
       "</style>\n",
       "<table border=\"1\" class=\"dataframe\">\n",
       "  <thead>\n",
       "    <tr style=\"text-align: right;\">\n",
       "      <th></th>\n",
       "      <th>Test Predictions</th>\n",
       "      <th>Actuals</th>\n",
       "    </tr>\n",
       "  </thead>\n",
       "  <tbody>\n",
       "    <tr>\n",
       "      <th>0</th>\n",
       "      <td>0.178552</td>\n",
       "      <td>0.341072</td>\n",
       "    </tr>\n",
       "    <tr>\n",
       "      <th>1</th>\n",
       "      <td>0.129365</td>\n",
       "      <td>0.181534</td>\n",
       "    </tr>\n",
       "    <tr>\n",
       "      <th>2</th>\n",
       "      <td>0.151170</td>\n",
       "      <td>0.213963</td>\n",
       "    </tr>\n",
       "    <tr>\n",
       "      <th>3</th>\n",
       "      <td>0.214391</td>\n",
       "      <td>0.181219</td>\n",
       "    </tr>\n",
       "    <tr>\n",
       "      <th>4</th>\n",
       "      <td>0.554650</td>\n",
       "      <td>0.577188</td>\n",
       "    </tr>\n",
       "    <tr>\n",
       "      <th>...</th>\n",
       "      <td>...</td>\n",
       "      <td>...</td>\n",
       "    </tr>\n",
       "    <tr>\n",
       "      <th>35015</th>\n",
       "      <td>0.351349</td>\n",
       "      <td>0.375618</td>\n",
       "    </tr>\n",
       "    <tr>\n",
       "      <th>35016</th>\n",
       "      <td>0.008866</td>\n",
       "      <td>0.000000</td>\n",
       "    </tr>\n",
       "    <tr>\n",
       "      <th>35017</th>\n",
       "      <td>-0.001682</td>\n",
       "      <td>0.000000</td>\n",
       "    </tr>\n",
       "    <tr>\n",
       "      <th>35018</th>\n",
       "      <td>0.283254</td>\n",
       "      <td>0.278569</td>\n",
       "    </tr>\n",
       "    <tr>\n",
       "      <th>35019</th>\n",
       "      <td>0.360063</td>\n",
       "      <td>0.385502</td>\n",
       "    </tr>\n",
       "  </tbody>\n",
       "</table>\n",
       "<p>35020 rows × 2 columns</p>\n",
       "</div>"
      ],
      "text/plain": [
       "       Test Predictions   Actuals\n",
       "0              0.178552  0.341072\n",
       "1              0.129365  0.181534\n",
       "2              0.151170  0.213963\n",
       "3              0.214391  0.181219\n",
       "4              0.554650  0.577188\n",
       "...                 ...       ...\n",
       "35015          0.351349  0.375618\n",
       "35016          0.008866  0.000000\n",
       "35017         -0.001682  0.000000\n",
       "35018          0.283254  0.278569\n",
       "35019          0.360063  0.385502\n",
       "\n",
       "[35020 rows x 2 columns]"
      ]
     },
     "execution_count": 62,
     "metadata": {},
     "output_type": "execute_result"
    }
   ],
   "source": [
    "test_predictions = model1.predict(X_test1).flatten()\n",
    "test_results = pd.DataFrame(data={'Test Predictions':test_predictions, 'Actuals':y_test1.flatten()})\n",
    "test_results"
   ]
  },
  {
   "cell_type": "code",
   "execution_count": 55,
   "id": "91a07b9d",
   "metadata": {},
   "outputs": [],
   "source": [
    "from sklearn.metrics import mean_squared_error as mse\n",
    "\n",
    "def plot_predictions1(model, X, y, start=2, end=400):\n",
    "  predictions = model.predict(X).flatten()\n",
    "  df = pd.DataFrame(data={'Predictions': predictions, 'Actuals':y})\n",
    "  plt.plot(df['Predictions'][start:end:4])\n",
    "  plt.plot(df['Actuals'][start:end:4])\n",
    "  return df, mse(predictions, y)"
   ]
  },
  {
   "cell_type": "code",
   "execution_count": 63,
   "id": "86df6333",
   "metadata": {},
   "outputs": [
    {
     "name": "stdout",
     "output_type": "stream",
     "text": [
      "274/274 [==============================] - 0s 2ms/step\n"
     ]
    },
    {
     "data": {
      "text/plain": [
       "(       Predictions   Actuals\n",
       " 0         0.178552  0.341072\n",
       " 1         0.129365  0.181534\n",
       " 2         0.151170  0.213963\n",
       " 3         0.214391  0.181219\n",
       " 4         0.554650  0.577188\n",
       " ...            ...       ...\n",
       " 35015     0.351349  0.375618\n",
       " 35016     0.008866  0.000000\n",
       " 35017    -0.001682  0.000000\n",
       " 35018     0.283254  0.278569\n",
       " 35019     0.360063  0.385502\n",
       " \n",
       " [35020 rows x 2 columns],\n",
       " 0.002177691711816463)"
      ]
     },
     "execution_count": 63,
     "metadata": {},
     "output_type": "execute_result"
    },
    {
     "data": {
      "image/png": "[encoded data removed]",
      "text/plain": [
       "<Figure size 640x480 with 1 Axes>"
      ]
     },
     "metadata": {},
     "output_type": "display_data"
    }
   ],
   "source": [
    "plot_predictions1(model1, X_test1, y_test1.flatten())"
   ]
  },
  {
   "cell_type": "code",
   "execution_count": 57,
   "id": "05d10996",
   "metadata": {},
   "outputs": [
    {
     "name": "stdout",
     "output_type": "stream",
     "text": [
      "[[0.         0.         0.30809309 0.37561779]\n",
      " [0.         0.         0.27856895 0.38550247]\n",
      " [0.         0.         0.25946509 0.3970346 ]\n",
      " [0.         0.         0.24175061 0.3970346 ]\n",
      " [0.         0.         0.22681487 0.3970346 ]]\n",
      "1/1 [==============================] - 0s 17ms/step\n",
      "[[0.05203395 0.01971317 0.21285409 0.3751494 ]]\n"
     ]
    }
   ],
   "source": [
    "kkk = df_orignal_scaled[78886:78891,:]\n",
    "print(kkk)\n",
    "\n",
    "reshaped_array = np.reshape(kkk, (1, 5, 4))\n",
    "predictions = model1.predict(reshaped_array)\n",
    "print(predictions)\n",
    "# predictions\n",
    "# inverse_data = np.zeros((len(predictions), scaler.shape[1]))"
   ]
  },
  {
   "cell_type": "code",
   "execution_count": 58,
   "id": "8d388065",
   "metadata": {},
   "outputs": [
    {
     "name": "stdout",
     "output_type": "stream",
     "text": [
      "1/1 [==============================] - 0s 14ms/step\n",
      "1/1 [==============================] - 0s 24ms/step\n",
      "1/1 [==============================] - 0s 22ms/step\n",
      "1/1 [==============================] - 0s 32ms/step\n",
      "1/1 [==============================] - 0s 24ms/step\n",
      "1/1 [==============================] - 0s 9ms/step\n",
      "1/1 [==============================] - 0s 13ms/step\n",
      "1/1 [==============================] - 0s 16ms/step\n",
      "1/1 [==============================] - 0s 20ms/step\n",
      "1/1 [==============================] - 0s 24ms/step\n",
      "1/1 [==============================] - 0s 10ms/step\n",
      "1/1 [==============================] - 0s 33ms/step\n",
      "1/1 [==============================] - 0s 14ms/step\n",
      "1/1 [==============================] - 0s 16ms/step\n",
      "1/1 [==============================] - 0s 16ms/step\n",
      "1/1 [==============================] - 0s 21ms/step\n",
      "1/1 [==============================] - 0s 8ms/step\n",
      "1/1 [==============================] - 0s 14ms/step\n",
      "1/1 [==============================] - 0s 24ms/step\n",
      "1/1 [==============================] - 0s 18ms/step\n",
      "1/1 [==============================] - 0s 22ms/step\n",
      "1/1 [==============================] - 0s 10ms/step\n",
      "1/1 [==============================] - 0s 13ms/step\n",
      "1/1 [==============================] - 0s 16ms/step\n",
      "[array([[60.023243 ,  1.701641 , 12.32807  ,  2.2771568]], dtype=float32), array([[60.023243 ,  1.701641 , 12.32807  ,  2.2771568]], dtype=float32), array([[60.023243 ,  1.701641 , 12.32807  ,  2.2771568]], dtype=float32), array([[60.023243 ,  1.701641 , 12.32807  ,  2.2771568]], dtype=float32), array([[60.023243 ,  1.701641 , 12.32807  ,  2.2771568]], dtype=float32), array([[60.023243 ,  1.701641 , 12.32807  ,  2.2771568]], dtype=float32), array([[60.023243 ,  1.701641 , 12.32807  ,  2.2771568]], dtype=float32), array([[60.023243 ,  1.701641 , 12.32807  ,  2.2771568]], dtype=float32), array([[60.023243 ,  1.701641 , 12.32807  ,  2.2771568]], dtype=float32), array([[60.023243 ,  1.701641 , 12.32807  ,  2.2771568]], dtype=float32), array([[60.023243 ,  1.701641 , 12.32807  ,  2.2771568]], dtype=float32), array([[60.023243 ,  1.701641 , 12.32807  ,  2.2771568]], dtype=float32), array([[60.023243 ,  1.701641 , 12.32807  ,  2.2771568]], dtype=float32), array([[60.023243 ,  1.701641 , 12.32807  ,  2.2771568]], dtype=float32), array([[60.023243 ,  1.701641 , 12.32807  ,  2.2771568]], dtype=float32), array([[60.023243 ,  1.701641 , 12.32807  ,  2.2771568]], dtype=float32), array([[60.023243 ,  1.701641 , 12.32807  ,  2.2771568]], dtype=float32), array([[60.023243 ,  1.701641 , 12.32807  ,  2.2771568]], dtype=float32), array([[60.023243 ,  1.701641 , 12.32807  ,  2.2771568]], dtype=float32), array([[60.023243 ,  1.701641 , 12.32807  ,  2.2771568]], dtype=float32), array([[60.023243 ,  1.701641 , 12.32807  ,  2.2771568]], dtype=float32), array([[60.023243 ,  1.701641 , 12.32807  ,  2.2771568]], dtype=float32), array([[60.023243 ,  1.701641 , 12.32807  ,  2.2771568]], dtype=float32), array([[60.023243 ,  1.701641 , 12.32807  ,  2.2771568]], dtype=float32)]\n",
      "[array([[0.05203395, 0.01971317, 0.21285409, 0.3751494 ]], dtype=float32), array([[0.05203395, 0.01971317, 0.21285409, 0.3751494 ]], dtype=float32), array([[0.05203395, 0.01971317, 0.21285409, 0.3751494 ]], dtype=float32), array([[0.05203395, 0.01971317, 0.21285409, 0.3751494 ]], dtype=float32), array([[0.05203395, 0.01971317, 0.21285409, 0.3751494 ]], dtype=float32), array([[0.05203395, 0.01971317, 0.21285409, 0.3751494 ]], dtype=float32), array([[0.05203395, 0.01971317, 0.21285409, 0.3751494 ]], dtype=float32), array([[0.05203395, 0.01971317, 0.21285409, 0.3751494 ]], dtype=float32), array([[0.05203395, 0.01971317, 0.21285409, 0.3751494 ]], dtype=float32), array([[0.05203395, 0.01971317, 0.21285409, 0.3751494 ]], dtype=float32), array([[0.05203395, 0.01971317, 0.21285409, 0.3751494 ]], dtype=float32), array([[0.05203395, 0.01971317, 0.21285409, 0.3751494 ]], dtype=float32), array([[0.05203395, 0.01971317, 0.21285409, 0.3751494 ]], dtype=float32), array([[0.05203395, 0.01971317, 0.21285409, 0.3751494 ]], dtype=float32), array([[0.05203395, 0.01971317, 0.21285409, 0.3751494 ]], dtype=float32), array([[0.05203395, 0.01971317, 0.21285409, 0.3751494 ]], dtype=float32), array([[0.05203395, 0.01971317, 0.21285409, 0.3751494 ]], dtype=float32), array([[0.05203395, 0.01971317, 0.21285409, 0.3751494 ]], dtype=float32), array([[0.05203395, 0.01971317, 0.21285409, 0.3751494 ]], dtype=float32), array([[0.05203395, 0.01971317, 0.21285409, 0.3751494 ]], dtype=float32), array([[0.05203395, 0.01971317, 0.21285409, 0.3751494 ]], dtype=float32), array([[0.05203395, 0.01971317, 0.21285409, 0.3751494 ]], dtype=float32), array([[0.05203395, 0.01971317, 0.21285409, 0.3751494 ]], dtype=float32), array([[0.05203395, 0.01971317, 0.21285409, 0.3751494 ]], dtype=float32)]\n"
     ]
    }
   ],
   "source": [
    "input = kkk\n",
    "output = []\n",
    "output_not_scaled = []\n",
    "\n",
    "for i in range(0,24):\n",
    "    reshaped_array = np.reshape(input, (1, 5, 4))\n",
    "    prediction = model1.predict(reshaped_array)\n",
    "    original_scale_predictions = scaler.inverse_transform(prediction)\n",
    "    np.append(input, prediction)\n",
    "    np.delete(input, 0)\n",
    "    output_not_scaled.append(prediction)\n",
    "    output.append(original_scale_predictions)\n",
    "print(output)\n",
    "print(output_not_scaled)\n"
   ]
  },
  {
   "cell_type": "code",
   "execution_count": 59,
   "id": "0c262722",
   "metadata": {},
   "outputs": [
    {
     "name": "stdout",
     "output_type": "stream",
     "text": [
      "78890    12.73\n",
      "78891    12.26\n",
      "78892    11.84\n",
      "78893    13.93\n",
      "78894    19.21\n",
      "78895    22.79\n",
      "78896    25.30\n",
      "78897    27.11\n",
      "78898    28.31\n",
      "78899    28.95\n",
      "78900    29.21\n",
      "78901    28.99\n",
      "78902    28.18\n",
      "78903    26.36\n",
      "78904    23.34\n",
      "78905    20.80\n",
      "78906    18.78\n",
      "78907    17.97\n",
      "78908    17.16\n",
      "78909    16.63\n",
      "78910    16.46\n",
      "78911    15.55\n",
      "78912    14.75\n",
      "78913    13.90\n",
      "78914    13.25\n",
      "Name: T2m, dtype: float64\n"
     ]
    }
   ],
   "source": [
    "print(df_orignal[78890:78915]['T2m'])"
   ]
  },
  {
   "cell_type": "code",
   "execution_count": null,
   "id": "dc28c8eb",
   "metadata": {},
   "outputs": [],
   "source": []
  },
  {
   "cell_type": "code",
   "execution_count": null,
   "id": "2709c5a1",
   "metadata": {},
   "outputs": [],
   "source": []
  },
  {
   "cell_type": "code",
   "execution_count": null,
   "id": "2c3d49a3",
   "metadata": {},
   "outputs": [],
   "source": []
  },
  {
   "cell_type": "code",
   "execution_count": null,
   "id": "1dc124bd",
   "metadata": {},
   "outputs": [],
   "source": []
  },
  {
   "cell_type": "code",
   "execution_count": null,
   "id": "96f37ea1",
   "metadata": {},
   "outputs": [],
   "source": []
  },
  {
   "cell_type": "code",
   "execution_count": null,
   "id": "eba8093b",
   "metadata": {},
   "outputs": [],
   "source": []
  }
 ],
 "metadata": {
  "kernelspec": {
   "display_name": "Python 3 (ipykernel)",
   "language": "python",
   "name": "python3"
  },
  "language_info": {
   "codemirror_mode": {
    "name": "ipython",
    "version": 3
   },
   "file_extension": ".py",
   "mimetype": "text/x-python",
   "name": "python",
   "nbconvert_exporter": "python",
   "pygments_lexer": "ipython3",
   "version": "3.8.15"
  }
 },
 "nbformat": 4,
 "nbformat_minor": 5
}
