{
 "cells": [
  {
   "cell_type": "code",
   "execution_count": 56,
   "id": "34bcb352",
   "metadata": {},
   "outputs": [],
   "source": [
    "import tensorflow as tf\n",
    "import os\n",
    "import pandas as pd\n",
    "import numpy as np\n",
    "import matplotlib as plt\n",
    "from sklearn.metrics import mean_squared_error as mse\n",
    "from sklearn.preprocessing import MinMaxScaler\n",
    "import warnings\n",
    "import matplotlib.pyplot as plt\n",
    "warnings.filterwarnings('ignore')\n",
    "%matplotlib inline"
   ]
  },
  {
   "cell_type": "code",
   "execution_count": 3,
   "id": "8de1d777",
   "metadata": {},
   "outputs": [],
   "source": [
    "df = pd.read_csv('timeseries.csv')\n"
   ]
  },
  {
   "cell_type": "code",
   "execution_count": 4,
   "id": "4aafd42e",
   "metadata": {
    "scrolled": true
   },
   "outputs": [
    {
     "data": {
      "text/html": [
       "<div>\n",
       "<style scoped>\n",
       "    .dataframe tbody tr th:only-of-type {\n",
       "        vertical-align: middle;\n",
       "    }\n",
       "\n",
       "    .dataframe tbody tr th {\n",
       "        vertical-align: top;\n",
       "    }\n",
       "\n",
       "    .dataframe thead th {\n",
       "        text-align: right;\n",
       "    }\n",
       "</style>\n",
       "<table border=\"1\" class=\"dataframe\">\n",
       "  <thead>\n",
       "    <tr style=\"text-align: right;\">\n",
       "      <th></th>\n",
       "      <th>G(i)</th>\n",
       "    </tr>\n",
       "    <tr>\n",
       "      <th>time</th>\n",
       "      <th></th>\n",
       "    </tr>\n",
       "  </thead>\n",
       "  <tbody>\n",
       "    <tr>\n",
       "      <th>2010-01-01 00:07:00</th>\n",
       "      <td>0</td>\n",
       "    </tr>\n",
       "    <tr>\n",
       "      <th>2010-01-01 01:07:00</th>\n",
       "      <td>0</td>\n",
       "    </tr>\n",
       "    <tr>\n",
       "      <th>2010-01-01 02:07:00</th>\n",
       "      <td>0</td>\n",
       "    </tr>\n",
       "    <tr>\n",
       "      <th>2010-01-01 03:07:00</th>\n",
       "      <td>0</td>\n",
       "    </tr>\n",
       "    <tr>\n",
       "      <th>2010-01-01 04:07:00</th>\n",
       "      <td>91.98</td>\n",
       "    </tr>\n",
       "    <tr>\n",
       "      <th>...</th>\n",
       "      <td>...</td>\n",
       "    </tr>\n",
       "    <tr>\n",
       "      <th>2020-12-31 18:07:00</th>\n",
       "      <td>0</td>\n",
       "    </tr>\n",
       "    <tr>\n",
       "      <th>2020-12-31 19:07:00</th>\n",
       "      <td>0</td>\n",
       "    </tr>\n",
       "    <tr>\n",
       "      <th>2020-12-31 20:07:00</th>\n",
       "      <td>0</td>\n",
       "    </tr>\n",
       "    <tr>\n",
       "      <th>2020-12-31 21:07:00</th>\n",
       "      <td>0</td>\n",
       "    </tr>\n",
       "    <tr>\n",
       "      <th>2020-12-31 22:07:00</th>\n",
       "      <td>0</td>\n",
       "    </tr>\n",
       "  </tbody>\n",
       "</table>\n",
       "<p>96431 rows × 1 columns</p>\n",
       "</div>"
      ],
      "text/plain": [
       "                      G(i)\n",
       "time                      \n",
       "2010-01-01 00:07:00      0\n",
       "2010-01-01 01:07:00      0\n",
       "2010-01-01 02:07:00      0\n",
       "2010-01-01 03:07:00      0\n",
       "2010-01-01 04:07:00  91.98\n",
       "...                    ...\n",
       "2020-12-31 18:07:00      0\n",
       "2020-12-31 19:07:00      0\n",
       "2020-12-31 20:07:00      0\n",
       "2020-12-31 21:07:00      0\n",
       "2020-12-31 22:07:00      0\n",
       "\n",
       "[96431 rows x 1 columns]"
      ]
     },
     "execution_count": 4,
     "metadata": {},
     "output_type": "execute_result"
    }
   ],
   "source": [
    "df = df.dropna(subset=['time']) \n",
    "df.tail(20)\n",
    "df = df[:96431:]\n",
    "# df['time'][78886]\n",
    "df.index = pd.to_datetime(df['time'], format='%Y%m%d:%H%M')\n",
    "df =  df.drop([\"time\",\"H_sun\",\"T2m\",\"WS10m\",\"Int\"], axis = 1)\n",
    "df"
   ]
  },
  {
   "cell_type": "code",
   "execution_count": 5,
   "id": "6d906f33-3d0b-4ca5-8fc8-c9764af28eb6",
   "metadata": {},
   "outputs": [
    {
     "data": {
      "text/html": [
       "<div>\n",
       "<style scoped>\n",
       "    .dataframe tbody tr th:only-of-type {\n",
       "        vertical-align: middle;\n",
       "    }\n",
       "\n",
       "    .dataframe tbody tr th {\n",
       "        vertical-align: top;\n",
       "    }\n",
       "\n",
       "    .dataframe thead th {\n",
       "        text-align: right;\n",
       "    }\n",
       "</style>\n",
       "<table border=\"1\" class=\"dataframe\">\n",
       "  <thead>\n",
       "    <tr style=\"text-align: right;\">\n",
       "      <th></th>\n",
       "      <th>G(i)</th>\n",
       "      <th>Seconds</th>\n",
       "    </tr>\n",
       "    <tr>\n",
       "      <th>time</th>\n",
       "      <th></th>\n",
       "      <th></th>\n",
       "    </tr>\n",
       "  </thead>\n",
       "  <tbody>\n",
       "    <tr>\n",
       "      <th>2010-01-01 00:07:00</th>\n",
       "      <td>0</td>\n",
       "      <td>1.262304e+09</td>\n",
       "    </tr>\n",
       "    <tr>\n",
       "      <th>2010-01-01 01:07:00</th>\n",
       "      <td>0</td>\n",
       "      <td>1.262308e+09</td>\n",
       "    </tr>\n",
       "    <tr>\n",
       "      <th>2010-01-01 02:07:00</th>\n",
       "      <td>0</td>\n",
       "      <td>1.262312e+09</td>\n",
       "    </tr>\n",
       "    <tr>\n",
       "      <th>2010-01-01 03:07:00</th>\n",
       "      <td>0</td>\n",
       "      <td>1.262315e+09</td>\n",
       "    </tr>\n",
       "    <tr>\n",
       "      <th>2010-01-01 04:07:00</th>\n",
       "      <td>91.98</td>\n",
       "      <td>1.262319e+09</td>\n",
       "    </tr>\n",
       "    <tr>\n",
       "      <th>...</th>\n",
       "      <td>...</td>\n",
       "      <td>...</td>\n",
       "    </tr>\n",
       "    <tr>\n",
       "      <th>2020-12-31 18:07:00</th>\n",
       "      <td>0</td>\n",
       "      <td>1.609438e+09</td>\n",
       "    </tr>\n",
       "    <tr>\n",
       "      <th>2020-12-31 19:07:00</th>\n",
       "      <td>0</td>\n",
       "      <td>1.609442e+09</td>\n",
       "    </tr>\n",
       "    <tr>\n",
       "      <th>2020-12-31 20:07:00</th>\n",
       "      <td>0</td>\n",
       "      <td>1.609445e+09</td>\n",
       "    </tr>\n",
       "    <tr>\n",
       "      <th>2020-12-31 21:07:00</th>\n",
       "      <td>0</td>\n",
       "      <td>1.609449e+09</td>\n",
       "    </tr>\n",
       "    <tr>\n",
       "      <th>2020-12-31 22:07:00</th>\n",
       "      <td>0</td>\n",
       "      <td>1.609452e+09</td>\n",
       "    </tr>\n",
       "  </tbody>\n",
       "</table>\n",
       "<p>96431 rows × 2 columns</p>\n",
       "</div>"
      ],
      "text/plain": [
       "                      G(i)       Seconds\n",
       "time                                    \n",
       "2010-01-01 00:07:00      0  1.262304e+09\n",
       "2010-01-01 01:07:00      0  1.262308e+09\n",
       "2010-01-01 02:07:00      0  1.262312e+09\n",
       "2010-01-01 03:07:00      0  1.262315e+09\n",
       "2010-01-01 04:07:00  91.98  1.262319e+09\n",
       "...                    ...           ...\n",
       "2020-12-31 18:07:00      0  1.609438e+09\n",
       "2020-12-31 19:07:00      0  1.609442e+09\n",
       "2020-12-31 20:07:00      0  1.609445e+09\n",
       "2020-12-31 21:07:00      0  1.609449e+09\n",
       "2020-12-31 22:07:00      0  1.609452e+09\n",
       "\n",
       "[96431 rows x 2 columns]"
      ]
     },
     "execution_count": 5,
     "metadata": {},
     "output_type": "execute_result"
    }
   ],
   "source": [
    "df[\"Seconds\"] = df.index.map(pd.Timestamp.timestamp)\n",
    "df"
   ]
  },
  {
   "cell_type": "code",
   "execution_count": 6,
   "id": "e7a10218-9a12-4785-96e5-503bee3b053b",
   "metadata": {},
   "outputs": [
    {
     "data": {
      "text/html": [
       "<div>\n",
       "<style scoped>\n",
       "    .dataframe tbody tr th:only-of-type {\n",
       "        vertical-align: middle;\n",
       "    }\n",
       "\n",
       "    .dataframe tbody tr th {\n",
       "        vertical-align: top;\n",
       "    }\n",
       "\n",
       "    .dataframe thead th {\n",
       "        text-align: right;\n",
       "    }\n",
       "</style>\n",
       "<table border=\"1\" class=\"dataframe\">\n",
       "  <thead>\n",
       "    <tr style=\"text-align: right;\">\n",
       "      <th></th>\n",
       "      <th>G(i)</th>\n",
       "      <th>Seconds</th>\n",
       "      <th>day sin</th>\n",
       "      <th>day cos</th>\n",
       "    </tr>\n",
       "    <tr>\n",
       "      <th>time</th>\n",
       "      <th></th>\n",
       "      <th></th>\n",
       "      <th></th>\n",
       "      <th></th>\n",
       "    </tr>\n",
       "  </thead>\n",
       "  <tbody>\n",
       "    <tr>\n",
       "      <th>2010-01-01 00:07:00</th>\n",
       "      <td>0</td>\n",
       "      <td>1.262304e+09</td>\n",
       "      <td>0.030539</td>\n",
       "      <td>0.999534</td>\n",
       "    </tr>\n",
       "    <tr>\n",
       "      <th>2010-01-01 01:07:00</th>\n",
       "      <td>0</td>\n",
       "      <td>1.262308e+09</td>\n",
       "      <td>0.288196</td>\n",
       "      <td>0.957571</td>\n",
       "    </tr>\n",
       "    <tr>\n",
       "      <th>2010-01-01 02:07:00</th>\n",
       "      <td>0</td>\n",
       "      <td>1.262312e+09</td>\n",
       "      <td>0.526214</td>\n",
       "      <td>0.850352</td>\n",
       "    </tr>\n",
       "    <tr>\n",
       "      <th>2010-01-01 03:07:00</th>\n",
       "      <td>0</td>\n",
       "      <td>1.262315e+09</td>\n",
       "      <td>0.728371</td>\n",
       "      <td>0.685183</td>\n",
       "    </tr>\n",
       "    <tr>\n",
       "      <th>2010-01-01 04:07:00</th>\n",
       "      <td>91.98</td>\n",
       "      <td>1.262319e+09</td>\n",
       "      <td>0.880891</td>\n",
       "      <td>0.473320</td>\n",
       "    </tr>\n",
       "    <tr>\n",
       "      <th>...</th>\n",
       "      <td>...</td>\n",
       "      <td>...</td>\n",
       "      <td>...</td>\n",
       "      <td>...</td>\n",
       "    </tr>\n",
       "    <tr>\n",
       "      <th>2020-12-31 18:07:00</th>\n",
       "      <td>0</td>\n",
       "      <td>1.609438e+09</td>\n",
       "      <td>-0.999534</td>\n",
       "      <td>0.030539</td>\n",
       "    </tr>\n",
       "    <tr>\n",
       "      <th>2020-12-31 19:07:00</th>\n",
       "      <td>0</td>\n",
       "      <td>1.609442e+09</td>\n",
       "      <td>-0.957571</td>\n",
       "      <td>0.288196</td>\n",
       "    </tr>\n",
       "    <tr>\n",
       "      <th>2020-12-31 20:07:00</th>\n",
       "      <td>0</td>\n",
       "      <td>1.609445e+09</td>\n",
       "      <td>-0.850352</td>\n",
       "      <td>0.526214</td>\n",
       "    </tr>\n",
       "    <tr>\n",
       "      <th>2020-12-31 21:07:00</th>\n",
       "      <td>0</td>\n",
       "      <td>1.609449e+09</td>\n",
       "      <td>-0.685183</td>\n",
       "      <td>0.728371</td>\n",
       "    </tr>\n",
       "    <tr>\n",
       "      <th>2020-12-31 22:07:00</th>\n",
       "      <td>0</td>\n",
       "      <td>1.609452e+09</td>\n",
       "      <td>-0.473320</td>\n",
       "      <td>0.880891</td>\n",
       "    </tr>\n",
       "  </tbody>\n",
       "</table>\n",
       "<p>96431 rows × 4 columns</p>\n",
       "</div>"
      ],
      "text/plain": [
       "                      G(i)       Seconds   day sin   day cos\n",
       "time                                                        \n",
       "2010-01-01 00:07:00      0  1.262304e+09  0.030539  0.999534\n",
       "2010-01-01 01:07:00      0  1.262308e+09  0.288196  0.957571\n",
       "2010-01-01 02:07:00      0  1.262312e+09  0.526214  0.850352\n",
       "2010-01-01 03:07:00      0  1.262315e+09  0.728371  0.685183\n",
       "2010-01-01 04:07:00  91.98  1.262319e+09  0.880891  0.473320\n",
       "...                    ...           ...       ...       ...\n",
       "2020-12-31 18:07:00      0  1.609438e+09 -0.999534  0.030539\n",
       "2020-12-31 19:07:00      0  1.609442e+09 -0.957571  0.288196\n",
       "2020-12-31 20:07:00      0  1.609445e+09 -0.850352  0.526214\n",
       "2020-12-31 21:07:00      0  1.609449e+09 -0.685183  0.728371\n",
       "2020-12-31 22:07:00      0  1.609452e+09 -0.473320  0.880891\n",
       "\n",
       "[96431 rows x 4 columns]"
      ]
     },
     "execution_count": 6,
     "metadata": {},
     "output_type": "execute_result"
    }
   ],
   "source": [
    "day  = 60 * 60 * 24\n",
    "year =  365.2425 * day\n",
    "month = 30 * day\n",
    "\n",
    "df [\"day sin\"] = np.sin(df['Seconds'] * ( 2 * np.pi /day))\n",
    "df [\"day cos\"] = np.cos(df['Seconds'] * ( 2 * np.pi /day))\n",
    "# df [\"year sin\"] = np.sin(df['Seconds'] * ( 2 * np.pi /year))\n",
    "# df [\"year cos\"] = np.cos(df['Seconds'] * ( 2 * np.pi /year))\n",
    "df\n",
    "  "
   ]
  },
  {
   "cell_type": "code",
   "execution_count": 7,
   "id": "3edbaa41-a4b1-4530-9895-17c4b64aaf94",
   "metadata": {},
   "outputs": [
    {
     "data": {
      "text/html": [
       "<div>\n",
       "<style scoped>\n",
       "    .dataframe tbody tr th:only-of-type {\n",
       "        vertical-align: middle;\n",
       "    }\n",
       "\n",
       "    .dataframe tbody tr th {\n",
       "        vertical-align: top;\n",
       "    }\n",
       "\n",
       "    .dataframe thead th {\n",
       "        text-align: right;\n",
       "    }\n",
       "</style>\n",
       "<table border=\"1\" class=\"dataframe\">\n",
       "  <thead>\n",
       "    <tr style=\"text-align: right;\">\n",
       "      <th></th>\n",
       "      <th>G(i)</th>\n",
       "      <th>day sin</th>\n",
       "      <th>day cos</th>\n",
       "    </tr>\n",
       "    <tr>\n",
       "      <th>time</th>\n",
       "      <th></th>\n",
       "      <th></th>\n",
       "      <th></th>\n",
       "    </tr>\n",
       "  </thead>\n",
       "  <tbody>\n",
       "    <tr>\n",
       "      <th>2010-01-01 00:07:00</th>\n",
       "      <td>0</td>\n",
       "      <td>0.030539</td>\n",
       "      <td>0.999534</td>\n",
       "    </tr>\n",
       "    <tr>\n",
       "      <th>2010-01-01 01:07:00</th>\n",
       "      <td>0</td>\n",
       "      <td>0.288196</td>\n",
       "      <td>0.957571</td>\n",
       "    </tr>\n",
       "    <tr>\n",
       "      <th>2010-01-01 02:07:00</th>\n",
       "      <td>0</td>\n",
       "      <td>0.526214</td>\n",
       "      <td>0.850352</td>\n",
       "    </tr>\n",
       "    <tr>\n",
       "      <th>2010-01-01 03:07:00</th>\n",
       "      <td>0</td>\n",
       "      <td>0.728371</td>\n",
       "      <td>0.685183</td>\n",
       "    </tr>\n",
       "    <tr>\n",
       "      <th>2010-01-01 04:07:00</th>\n",
       "      <td>91.98</td>\n",
       "      <td>0.880891</td>\n",
       "      <td>0.473320</td>\n",
       "    </tr>\n",
       "    <tr>\n",
       "      <th>2010-01-01 05:07:00</th>\n",
       "      <td>432.28</td>\n",
       "      <td>0.973379</td>\n",
       "      <td>0.229200</td>\n",
       "    </tr>\n",
       "    <tr>\n",
       "      <th>2010-01-01 06:07:00</th>\n",
       "      <td>681.34</td>\n",
       "      <td>0.999534</td>\n",
       "      <td>-0.030539</td>\n",
       "    </tr>\n",
       "    <tr>\n",
       "      <th>2010-01-01 07:07:00</th>\n",
       "      <td>867.69</td>\n",
       "      <td>0.957571</td>\n",
       "      <td>-0.288196</td>\n",
       "    </tr>\n",
       "    <tr>\n",
       "      <th>2010-01-01 08:07:00</th>\n",
       "      <td>987.62</td>\n",
       "      <td>0.850352</td>\n",
       "      <td>-0.526214</td>\n",
       "    </tr>\n",
       "    <tr>\n",
       "      <th>2010-01-01 09:07:00</th>\n",
       "      <td>1034.38</td>\n",
       "      <td>0.685183</td>\n",
       "      <td>-0.728371</td>\n",
       "    </tr>\n",
       "    <tr>\n",
       "      <th>2010-01-01 10:07:00</th>\n",
       "      <td>998.94</td>\n",
       "      <td>0.473320</td>\n",
       "      <td>-0.880891</td>\n",
       "    </tr>\n",
       "    <tr>\n",
       "      <th>2010-01-01 11:07:00</th>\n",
       "      <td>887.09</td>\n",
       "      <td>0.229200</td>\n",
       "      <td>-0.973379</td>\n",
       "    </tr>\n",
       "    <tr>\n",
       "      <th>2010-01-01 12:07:00</th>\n",
       "      <td>702.6</td>\n",
       "      <td>-0.030539</td>\n",
       "      <td>-0.999534</td>\n",
       "    </tr>\n",
       "    <tr>\n",
       "      <th>2010-01-01 13:07:00</th>\n",
       "      <td>472.43</td>\n",
       "      <td>-0.288196</td>\n",
       "      <td>-0.957571</td>\n",
       "    </tr>\n",
       "    <tr>\n",
       "      <th>2010-01-01 14:07:00</th>\n",
       "      <td>208.97</td>\n",
       "      <td>-0.526214</td>\n",
       "      <td>-0.850352</td>\n",
       "    </tr>\n",
       "    <tr>\n",
       "      <th>2010-01-01 15:07:00</th>\n",
       "      <td>0</td>\n",
       "      <td>-0.728371</td>\n",
       "      <td>-0.685183</td>\n",
       "    </tr>\n",
       "    <tr>\n",
       "      <th>2010-01-01 16:07:00</th>\n",
       "      <td>0</td>\n",
       "      <td>-0.880891</td>\n",
       "      <td>-0.473320</td>\n",
       "    </tr>\n",
       "    <tr>\n",
       "      <th>2010-01-01 17:07:00</th>\n",
       "      <td>0</td>\n",
       "      <td>-0.973379</td>\n",
       "      <td>-0.229200</td>\n",
       "    </tr>\n",
       "    <tr>\n",
       "      <th>2010-01-01 18:07:00</th>\n",
       "      <td>0</td>\n",
       "      <td>-0.999534</td>\n",
       "      <td>0.030539</td>\n",
       "    </tr>\n",
       "    <tr>\n",
       "      <th>2010-01-01 19:07:00</th>\n",
       "      <td>0</td>\n",
       "      <td>-0.957571</td>\n",
       "      <td>0.288196</td>\n",
       "    </tr>\n",
       "  </tbody>\n",
       "</table>\n",
       "</div>"
      ],
      "text/plain": [
       "                        G(i)   day sin   day cos\n",
       "time                                            \n",
       "2010-01-01 00:07:00        0  0.030539  0.999534\n",
       "2010-01-01 01:07:00        0  0.288196  0.957571\n",
       "2010-01-01 02:07:00        0  0.526214  0.850352\n",
       "2010-01-01 03:07:00        0  0.728371  0.685183\n",
       "2010-01-01 04:07:00    91.98  0.880891  0.473320\n",
       "2010-01-01 05:07:00   432.28  0.973379  0.229200\n",
       "2010-01-01 06:07:00   681.34  0.999534 -0.030539\n",
       "2010-01-01 07:07:00   867.69  0.957571 -0.288196\n",
       "2010-01-01 08:07:00   987.62  0.850352 -0.526214\n",
       "2010-01-01 09:07:00  1034.38  0.685183 -0.728371\n",
       "2010-01-01 10:07:00   998.94  0.473320 -0.880891\n",
       "2010-01-01 11:07:00   887.09  0.229200 -0.973379\n",
       "2010-01-01 12:07:00    702.6 -0.030539 -0.999534\n",
       "2010-01-01 13:07:00   472.43 -0.288196 -0.957571\n",
       "2010-01-01 14:07:00   208.97 -0.526214 -0.850352\n",
       "2010-01-01 15:07:00        0 -0.728371 -0.685183\n",
       "2010-01-01 16:07:00        0 -0.880891 -0.473320\n",
       "2010-01-01 17:07:00        0 -0.973379 -0.229200\n",
       "2010-01-01 18:07:00        0 -0.999534  0.030539\n",
       "2010-01-01 19:07:00        0 -0.957571  0.288196"
      ]
     },
     "execution_count": 7,
     "metadata": {},
     "output_type": "execute_result"
    }
   ],
   "source": [
    "df = df.drop([\"Seconds\"], axis = 1)\n",
    "df.head(20)"
   ]
  },
  {
   "cell_type": "code",
   "execution_count": 8,
   "id": "e031791d",
   "metadata": {},
   "outputs": [
    {
     "name": "stdout",
     "output_type": "stream",
     "text": [
      "                        G(i)   day sin   day cos\n",
      "time                                            \n",
      "2010-01-01 00:07:00        0  0.030539  0.999534\n",
      "2010-01-01 01:07:00        0  0.288196  0.957571\n",
      "2010-01-01 02:07:00        0  0.526214  0.850352\n",
      "2010-01-01 03:07:00        0  0.728371  0.685183\n",
      "2010-01-01 04:07:00    91.98  0.880891  0.473320\n",
      "2010-01-01 05:07:00   432.28  0.973379  0.229200\n",
      "2010-01-01 06:07:00   681.34  0.999534 -0.030539\n",
      "2010-01-01 07:07:00   867.69  0.957571 -0.288196\n",
      "2010-01-01 08:07:00   987.62  0.850352 -0.526214\n",
      "2010-01-01 09:07:00  1034.38  0.685183 -0.728371\n",
      "G(i)        object\n",
      "day sin    float64\n",
      "day cos    float64\n",
      "dtype: object\n"
     ]
    }
   ],
   "source": [
    "df = df[:96431:]\n",
    "df_multi = df.iloc[:,0:5] # removing the time column \n",
    "df.tail(30)\n",
    "print(df_multi.head(10))\n",
    "print(df_multi.dtypes)\n",
    "# y = [x for x in df['Int'] if x == 0.0]\n",
    "# print(y)b\n",
    "# type(df_multi)\n"
   ]
  },
  {
   "cell_type": "code",
   "execution_count": 13,
   "id": "d0e5f1b4-1616-49ea-99c4-e2be20b9a56f",
   "metadata": {},
   "outputs": [
    {
     "name": "stdout",
     "output_type": "stream",
     "text": [
      "[<class 'float'>]\n"
     ]
    }
   ],
   "source": [
    "\n",
    "df_multi['G(i)'] = pd.to_numeric(df_multi['G(i)'], errors='coerce')\n",
    "unique_types = df_multi['G(i)'].apply(type).unique()\n",
    "\n",
    "print(unique_types)"
   ]
  },
  {
   "cell_type": "code",
   "execution_count": 14,
   "id": "2773ca88-86dc-441c-be2d-202967cc2462",
   "metadata": {},
   "outputs": [],
   "source": [
    "\n",
    "df_scaled = df_multi.to_numpy()\n"
   ]
  },
  {
   "cell_type": "code",
   "execution_count": 15,
   "id": "5bdc65e8",
   "metadata": {},
   "outputs": [
    {
     "name": "stdout",
     "output_type": "stream",
     "text": [
      "[[0.00000000e+00 3.05385132e-02 9.99533591e-01]\n",
      " [0.00000000e+00 2.88196268e-01 9.57571361e-01]\n",
      " [0.00000000e+00 5.26213924e-01 8.50352225e-01]\n",
      " [0.00000000e+00 7.28370970e-01 6.85182990e-01]\n",
      " [9.19800000e+01 8.80890738e-01 4.73319667e-01]]\n",
      "[4.32280000e+02 9.73379258e-01 2.29200391e-01]\n"
     ]
    }
   ],
   "source": [
    "\n",
    "print(df_scaled[0:5,:]) # this it the input\n",
    "print(df_scaled[5,:]) # this is the output"
   ]
  },
  {
   "cell_type": "code",
   "execution_count": 16,
   "id": "3de6a076",
   "metadata": {},
   "outputs": [],
   "source": [
    "def df_to_X_y(df_as_np, window_size=5):\n",
    "#   df_as_np = df.to_numpy()\n",
    "  X = []\n",
    "  y = []\n",
    "  for i in range(len(df_as_np)-window_size):\n",
    "    row = [a for a in df_as_np[i:i+window_size,:]]\n",
    "    X.append(row)\n",
    "    label = df_as_np[i+window_size,0]\n",
    "    y.append(label)\n",
    "  return np.array(X), np.array(y)"
   ]
  },
  {
   "cell_type": "code",
   "execution_count": 26,
   "id": "0ea1be1c",
   "metadata": {},
   "outputs": [
    {
     "name": "stdout",
     "output_type": "stream",
     "text": [
      "[[ 0.00000000e+00  2.88196268e-01  9.57571361e-01]\n",
      " [ 0.00000000e+00  5.26213924e-01  8.50352225e-01]\n",
      " [ 0.00000000e+00  7.28370970e-01  6.85182990e-01]\n",
      " [ 9.19800000e+01  8.80890738e-01  4.73319667e-01]\n",
      " [ 4.32280000e+02  9.73379258e-01  2.29200391e-01]\n",
      " [ 6.81340000e+02  9.99533591e-01 -3.05385132e-02]\n",
      " [ 8.67690000e+02  9.57571361e-01 -2.88196268e-01]\n",
      " [ 9.87620000e+02  8.50352225e-01 -5.26213924e-01]\n",
      " [ 1.03438000e+03  6.85182990e-01 -7.28370970e-01]\n",
      " [ 9.98940000e+02  4.73319667e-01 -8.80890738e-01]\n",
      " [ 8.87090000e+02  2.29200391e-01 -9.73379258e-01]\n",
      " [ 7.02600000e+02 -3.05385132e-02 -9.99533591e-01]]\n",
      "slfejlksdjlfkjdslkjfjlk\n",
      "702.6\n"
     ]
    },
    {
     "data": {
      "text/plain": [
       "((96419, 12, 3), (96419,))"
      ]
     },
     "execution_count": 26,
     "metadata": {},
     "output_type": "execute_result"
    }
   ],
   "source": [
    "WINDOW_SIZE = 5\n",
    "X1, y1 = df_to_X_y(df_scaled, WINDOW_SIZE)\n",
    "print(X1[1])\n",
    "print(\"slfejlksdjlfkjdslkjfjlk\")\n",
    "print(y1[0])\n",
    "X1.shape, y1.shape"
   ]
  },
  {
   "cell_type": "code",
   "execution_count": 23,
   "id": "8d26efb8",
   "metadata": {},
   "outputs": [
    {
     "data": {
      "text/plain": [
       "((61367, 12, 3), (61367,), (8760, 12, 3), (8760,), (26291, 12, 3), (26291,))"
      ]
     },
     "execution_count": 23,
     "metadata": {},
     "output_type": "execute_result"
    }
   ],
   "source": [
    "X_train1, y_train1 = X1[:61367], y1[:61367]\n",
    "X_val1, y_val1 = X1[61367:70127], y1[61367:70127] # 1 year for validation [61,367 , 70127]\n",
    "X_test1, y_test1 = X1[70128:], y1[70128:] #  1 year testing [70,128 , 78887]\n",
    "X_train1.shape, y_train1.shape, X_val1.shape, y_val1.shape, X_test1.shape, y_test1.shape\n"
   ]
  },
  {
   "cell_type": "code",
   "execution_count": 33,
   "id": "3afa5f1f-9502-4cf0-81e0-40492052e5f9",
   "metadata": {},
   "outputs": [
    {
     "data": {
      "text/plain": [
       "array([4.32280000e+02, 9.73379258e-01, 2.29200391e-01])"
      ]
     },
     "execution_count": 33,
     "metadata": {},
     "output_type": "execute_result"
    }
   ],
   "source": [
    "X_train1[:,:,:][0][5]"
   ]
  },
  {
   "cell_type": "code",
   "execution_count": 25,
   "id": "f7abb9be-a8ed-44b6-8028-ce5330c3821a",
   "metadata": {
    "scrolled": true
   },
   "outputs": [
    {
     "name": "stdout",
     "output_type": "stream",
     "text": [
      "268.6440943829745\n"
     ]
    },
    {
     "data": {
      "text/plain": [
       "367.66099024906316"
      ]
     },
     "execution_count": 25,
     "metadata": {},
     "output_type": "execute_result"
    }
   ],
   "source": [
    "print(np.mean(X_train1[:,:,0]))\n",
    "np.std((X_train1[:,:,0]))\n",
    "#  91.98, => -0.48\n",
    "# 432.28 =>0.44"
   ]
  },
  {
   "cell_type": "code",
   "execution_count": 37,
   "id": "04baa602-ed11-4259-a4c2-27a82f630f6a",
   "metadata": {},
   "outputs": [],
   "source": [
    "g_training_mean = np.mean( X_train1[ : ,: ,0])\n",
    "g_training_std = np.std( X_train1[ : ,: ,0])\n",
    "def preprocess(X):\n",
    "    X[:,:,0] = (X[:,:,0] - g_training_mean)/ g_training_std\n",
    "    return X\n"
   ]
  },
  {
   "cell_type": "code",
   "execution_count": 38,
   "id": "19a73e61-bb83-43b8-aea8-4b3bc219b451",
   "metadata": {},
   "outputs": [
    {
     "data": {
      "text/plain": [
       "array([[[-0.73068425,  0.03053851,  0.99953359],\n",
       "        [-0.73068425,  0.28819627,  0.95757136],\n",
       "        [-0.73068425,  0.52621392,  0.85035222],\n",
       "        ...,\n",
       "        [ 2.13864382,  0.68518299, -0.72837097],\n",
       "        [ 2.02500653,  0.47331967, -0.88089074],\n",
       "        [ 1.74638029,  0.22920039, -0.97337926]],\n",
       "\n",
       "       [[-0.73068425,  0.28819627,  0.95757136],\n",
       "        [-0.73068425,  0.52621392,  0.85035222],\n",
       "        [-0.73068425,  0.72837097,  0.68518299],\n",
       "        ...,\n",
       "        [ 2.02500653,  0.47331967, -0.88089074],\n",
       "        [ 1.74638029,  0.22920039, -0.97337926],\n",
       "        [ 1.12091279, -0.03053851, -0.99953359]],\n",
       "\n",
       "       [[-0.73068425,  0.52621392,  0.85035222],\n",
       "        [-0.73068425,  0.72837097,  0.68518299],\n",
       "        [-0.6581174 ,  0.88089074,  0.47331967],\n",
       "        ...,\n",
       "        [ 1.74638029,  0.22920039, -0.97337926],\n",
       "        [ 1.12091279, -0.03053851, -0.99953359],\n",
       "        [ 0.6588839 , -0.28819627, -0.95757136]],\n",
       "\n",
       "       ...,\n",
       "\n",
       "       [[ 1.99351012,  0.85035223, -0.52621392],\n",
       "        [ 2.11993093,  0.68518299, -0.72837097],\n",
       "        [ 2.0256865 ,  0.47331967, -0.88089074],\n",
       "        ...,\n",
       "        [-0.73068425, -0.97337926, -0.22920039],\n",
       "        [-0.73068425, -0.99953359,  0.03053851],\n",
       "        [-0.73068425, -0.95757136,  0.28819627]],\n",
       "\n",
       "       [[ 2.11993093,  0.68518299, -0.72837097],\n",
       "        [ 2.0256865 ,  0.47331967, -0.88089074],\n",
       "        [ 1.72959852,  0.22920039, -0.97337926],\n",
       "        ...,\n",
       "        [-0.73068425, -0.99953359,  0.03053851],\n",
       "        [-0.73068425, -0.95757136,  0.28819627],\n",
       "        [-0.73068425, -0.85035222,  0.52621392]],\n",
       "\n",
       "       [[ 2.0256865 ,  0.47331967, -0.88089074],\n",
       "        [ 1.72959852,  0.22920039, -0.97337926],\n",
       "        [ 1.23251016, -0.03053851, -0.99953359],\n",
       "        ...,\n",
       "        [-0.73068425, -0.95757136,  0.28819627],\n",
       "        [-0.73068425, -0.85035222,  0.52621392],\n",
       "        [-0.73068425, -0.68518299,  0.72837097]]])"
      ]
     },
     "execution_count": 38,
     "metadata": {},
     "output_type": "execute_result"
    }
   ],
   "source": [
    "preprocess(X_train1)\n",
    "preprocess(X_val1)\n",
    "preprocess(X_test1)\n"
   ]
  },
  {
   "cell_type": "code",
   "execution_count": 39,
   "id": "890206a4",
   "metadata": {
    "scrolled": true
   },
   "outputs": [
    {
     "name": "stdout",
     "output_type": "stream",
     "text": [
      "Model: \"sequential\"\n",
      "_________________________________________________________________\n",
      " Layer (type)                Output Shape              Param #   \n",
      "=================================================================\n",
      " lstm (LSTM)                 (None, 64)                17408     \n",
      "                                                                 \n",
      " dense (Dense)               (None, 8)                 520       \n",
      "                                                                 \n",
      " dense_1 (Dense)             (None, 1)                 9         \n",
      "                                                                 \n",
      "=================================================================\n",
      "Total params: 17,937\n",
      "Trainable params: 17,937\n",
      "Non-trainable params: 0\n",
      "_________________________________________________________________\n"
     ]
    }
   ],
   "source": [
    "from tensorflow.keras.models import Sequential\n",
    "from tensorflow.keras.layers import *\n",
    "from tensorflow.keras.callbacks import ModelCheckpoint\n",
    "from tensorflow.keras.losses import MeanSquaredError\n",
    "from tensorflow.keras.metrics import RootMeanSquaredError\n",
    "from tensorflow.keras.optimizers import Adam\n",
    "\n",
    "model1 = Sequential()\n",
    "model1.add(InputLayer((5, 3)))\n",
    "model1.add(LSTM(64))\n",
    "model1.add(Dense(8, 'relu'))\n",
    "model1.add(Dense(1, 'linear'))\n",
    "\n",
    "model1.summary()"
   ]
  },
  {
   "cell_type": "code",
   "execution_count": 40,
   "id": "19972ed9",
   "metadata": {},
   "outputs": [],
   "source": [
    "from tensorflow.keras.callbacks import EarlyStopping"
   ]
  },
  {
   "cell_type": "code",
   "execution_count": 41,
   "id": "7addce40",
   "metadata": {},
   "outputs": [],
   "source": [
    "early_stopping = EarlyStopping(monitor='val_loss', min_delta=0.01, patience=10, verbose=1, mode='min')"
   ]
  },
  {
   "cell_type": "code",
   "execution_count": 42,
   "id": "d8219317",
   "metadata": {},
   "outputs": [],
   "source": [
    "cp1 = ModelCheckpoint('model_G(I)_TIME/', save_best_only=True)\n",
    "# metrics , learning rate, loss  can be changed \n",
    "model1.compile(loss=MeanSquaredError(), optimizer=Adam(learning_rate=0.001), metrics=[RootMeanSquaredError()])"
   ]
  },
  {
   "cell_type": "code",
   "execution_count": 43,
   "id": "dc237de2",
   "metadata": {
    "scrolled": true
   },
   "outputs": [
    {
     "name": "stdout",
     "output_type": "stream",
     "text": [
      "Epoch 1/50\n",
      "1918/1918 [==============================] - ETA: 0s - loss: 64601.8750 - root_mean_squared_error: 254.1690"
     ]
    },
    {
     "name": "stderr",
     "output_type": "stream",
     "text": [
      "WARNING:absl:Found untraced functions such as lstm_cell_layer_call_fn, lstm_cell_layer_call_and_return_conditional_losses while saving (showing 2 of 2). These functions will not be directly callable after loading.\n"
     ]
    },
    {
     "name": "stdout",
     "output_type": "stream",
     "text": [
      "INFO:tensorflow:Assets written to: model_G(I)_TIME\\assets\n"
     ]
    },
    {
     "name": "stderr",
     "output_type": "stream",
     "text": [
      "INFO:tensorflow:Assets written to: model_G(I)_TIME\\assets\n"
     ]
    },
    {
     "name": "stdout",
     "output_type": "stream",
     "text": [
      "1918/1918 [==============================] - 22s 10ms/step - loss: 64601.8750 - root_mean_squared_error: 254.1690 - val_loss: 14773.4541 - val_root_mean_squared_error: 121.5461\n",
      "Epoch 2/50\n",
      "1917/1918 [============================>.] - ETA: 0s - loss: 10185.0107 - root_mean_squared_error: 100.9208"
     ]
    },
    {
     "name": "stderr",
     "output_type": "stream",
     "text": [
      "WARNING:absl:Found untraced functions such as lstm_cell_layer_call_fn, lstm_cell_layer_call_and_return_conditional_losses while saving (showing 2 of 2). These functions will not be directly callable after loading.\n"
     ]
    },
    {
     "name": "stdout",
     "output_type": "stream",
     "text": [
      "INFO:tensorflow:Assets written to: model_G(I)_TIME\\assets\n"
     ]
    },
    {
     "name": "stderr",
     "output_type": "stream",
     "text": [
      "INFO:tensorflow:Assets written to: model_G(I)_TIME\\assets\n"
     ]
    },
    {
     "name": "stdout",
     "output_type": "stream",
     "text": [
      "1918/1918 [==============================] - 20s 10ms/step - loss: 10181.6787 - root_mean_squared_error: 100.9043 - val_loss: 8987.5850 - val_root_mean_squared_error: 94.8029\n",
      "Epoch 3/50\n",
      "1918/1918 [==============================] - ETA: 0s - loss: 7452.8535 - root_mean_squared_error: 86.3299"
     ]
    },
    {
     "name": "stderr",
     "output_type": "stream",
     "text": [
      "WARNING:absl:Found untraced functions such as lstm_cell_layer_call_fn, lstm_cell_layer_call_and_return_conditional_losses while saving (showing 2 of 2). These functions will not be directly callable after loading.\n"
     ]
    },
    {
     "name": "stdout",
     "output_type": "stream",
     "text": [
      "INFO:tensorflow:Assets written to: model_G(I)_TIME\\assets\n"
     ]
    },
    {
     "name": "stderr",
     "output_type": "stream",
     "text": [
      "INFO:tensorflow:Assets written to: model_G(I)_TIME\\assets\n"
     ]
    },
    {
     "name": "stdout",
     "output_type": "stream",
     "text": [
      "1918/1918 [==============================] - 21s 11ms/step - loss: 7452.8535 - root_mean_squared_error: 86.3299 - val_loss: 8020.3276 - val_root_mean_squared_error: 89.5563\n",
      "Epoch 4/50\n",
      "1915/1918 [============================>.] - ETA: 0s - loss: 6945.4751 - root_mean_squared_error: 83.3395"
     ]
    },
    {
     "name": "stderr",
     "output_type": "stream",
     "text": [
      "WARNING:absl:Found untraced functions such as lstm_cell_layer_call_fn, lstm_cell_layer_call_and_return_conditional_losses while saving (showing 2 of 2). These functions will not be directly callable after loading.\n"
     ]
    },
    {
     "name": "stdout",
     "output_type": "stream",
     "text": [
      "INFO:tensorflow:Assets written to: model_G(I)_TIME\\assets\n"
     ]
    },
    {
     "name": "stderr",
     "output_type": "stream",
     "text": [
      "INFO:tensorflow:Assets written to: model_G(I)_TIME\\assets\n"
     ]
    },
    {
     "name": "stdout",
     "output_type": "stream",
     "text": [
      "1918/1918 [==============================] - 22s 11ms/step - loss: 6946.4580 - root_mean_squared_error: 83.3454 - val_loss: 7874.5381 - val_root_mean_squared_error: 88.7386\n",
      "Epoch 5/50\n",
      "1912/1918 [============================>.] - ETA: 0s - loss: 6793.9541 - root_mean_squared_error: 82.4254"
     ]
    },
    {
     "name": "stderr",
     "output_type": "stream",
     "text": [
      "WARNING:absl:Found untraced functions such as lstm_cell_layer_call_fn, lstm_cell_layer_call_and_return_conditional_losses while saving (showing 2 of 2). These functions will not be directly callable after loading.\n"
     ]
    },
    {
     "name": "stdout",
     "output_type": "stream",
     "text": [
      "INFO:tensorflow:Assets written to: model_G(I)_TIME\\assets\n"
     ]
    },
    {
     "name": "stderr",
     "output_type": "stream",
     "text": [
      "INFO:tensorflow:Assets written to: model_G(I)_TIME\\assets\n"
     ]
    },
    {
     "name": "stdout",
     "output_type": "stream",
     "text": [
      "1918/1918 [==============================] - 22s 11ms/step - loss: 6804.8960 - root_mean_squared_error: 82.4918 - val_loss: 7558.6255 - val_root_mean_squared_error: 86.9404\n",
      "Epoch 6/50\n",
      "1918/1918 [==============================] - 13s 7ms/step - loss: 6689.4663 - root_mean_squared_error: 81.7892 - val_loss: 7580.7373 - val_root_mean_squared_error: 87.0674\n",
      "Epoch 7/50\n",
      "1918/1918 [==============================] - 14s 7ms/step - loss: 6675.6274 - root_mean_squared_error: 81.7045 - val_loss: 7611.4751 - val_root_mean_squared_error: 87.2438\n",
      "Epoch 8/50\n",
      "1918/1918 [==============================] - 14s 7ms/step - loss: 6619.4697 - root_mean_squared_error: 81.3601 - val_loss: 7565.7959 - val_root_mean_squared_error: 86.9816\n",
      "Epoch 9/50\n",
      "1913/1918 [============================>.] - ETA: 0s - loss: 6600.0117 - root_mean_squared_error: 81.2405"
     ]
    },
    {
     "name": "stderr",
     "output_type": "stream",
     "text": [
      "WARNING:absl:Found untraced functions such as lstm_cell_layer_call_fn, lstm_cell_layer_call_and_return_conditional_losses while saving (showing 2 of 2). These functions will not be directly callable after loading.\n"
     ]
    },
    {
     "name": "stdout",
     "output_type": "stream",
     "text": [
      "INFO:tensorflow:Assets written to: model_G(I)_TIME\\assets\n"
     ]
    },
    {
     "name": "stderr",
     "output_type": "stream",
     "text": [
      "INFO:tensorflow:Assets written to: model_G(I)_TIME\\assets\n"
     ]
    },
    {
     "name": "stdout",
     "output_type": "stream",
     "text": [
      "1918/1918 [==============================] - 23s 12ms/step - loss: 6593.9580 - root_mean_squared_error: 81.2032 - val_loss: 7467.6860 - val_root_mean_squared_error: 86.4158\n",
      "Epoch 10/50\n",
      "1915/1918 [============================>.] - ETA: 0s - loss: 6561.2954 - root_mean_squared_error: 81.0018"
     ]
    },
    {
     "name": "stderr",
     "output_type": "stream",
     "text": [
      "WARNING:absl:Found untraced functions such as lstm_cell_layer_call_fn, lstm_cell_layer_call_and_return_conditional_losses while saving (showing 2 of 2). These functions will not be directly callable after loading.\n"
     ]
    },
    {
     "name": "stdout",
     "output_type": "stream",
     "text": [
      "INFO:tensorflow:Assets written to: model_G(I)_TIME\\assets\n"
     ]
    },
    {
     "name": "stderr",
     "output_type": "stream",
     "text": [
      "INFO:tensorflow:Assets written to: model_G(I)_TIME\\assets\n"
     ]
    },
    {
     "name": "stdout",
     "output_type": "stream",
     "text": [
      "1918/1918 [==============================] - 24s 13ms/step - loss: 6561.1533 - root_mean_squared_error: 81.0009 - val_loss: 7423.3130 - val_root_mean_squared_error: 86.1587\n",
      "Epoch 11/50\n",
      "1918/1918 [==============================] - 17s 9ms/step - loss: 6537.0415 - root_mean_squared_error: 80.8520 - val_loss: 7423.3179 - val_root_mean_squared_error: 86.1587\n",
      "Epoch 12/50\n",
      "1918/1918 [==============================] - 18s 9ms/step - loss: 6503.7114 - root_mean_squared_error: 80.6456 - val_loss: 7458.5469 - val_root_mean_squared_error: 86.3629\n",
      "Epoch 13/50\n",
      "1912/1918 [============================>.] - ETA: 0s - loss: 6486.4658 - root_mean_squared_error: 80.5386"
     ]
    },
    {
     "name": "stderr",
     "output_type": "stream",
     "text": [
      "WARNING:absl:Found untraced functions such as lstm_cell_layer_call_fn, lstm_cell_layer_call_and_return_conditional_losses while saving (showing 2 of 2). These functions will not be directly callable after loading.\n"
     ]
    },
    {
     "name": "stdout",
     "output_type": "stream",
     "text": [
      "INFO:tensorflow:Assets written to: model_G(I)_TIME\\assets\n"
     ]
    },
    {
     "name": "stderr",
     "output_type": "stream",
     "text": [
      "INFO:tensorflow:Assets written to: model_G(I)_TIME\\assets\n"
     ]
    },
    {
     "name": "stdout",
     "output_type": "stream",
     "text": [
      "1918/1918 [==============================] - 26s 13ms/step - loss: 6505.8267 - root_mean_squared_error: 80.6587 - val_loss: 7400.4502 - val_root_mean_squared_error: 86.0259\n",
      "Epoch 14/50\n",
      "1914/1918 [============================>.] - ETA: 0s - loss: 6472.7861 - root_mean_squared_error: 80.4536"
     ]
    },
    {
     "name": "stderr",
     "output_type": "stream",
     "text": [
      "WARNING:absl:Found untraced functions such as lstm_cell_layer_call_fn, lstm_cell_layer_call_and_return_conditional_losses while saving (showing 2 of 2). These functions will not be directly callable after loading.\n"
     ]
    },
    {
     "name": "stdout",
     "output_type": "stream",
     "text": [
      "INFO:tensorflow:Assets written to: model_G(I)_TIME\\assets\n"
     ]
    },
    {
     "name": "stderr",
     "output_type": "stream",
     "text": [
      "INFO:tensorflow:Assets written to: model_G(I)_TIME\\assets\n"
     ]
    },
    {
     "name": "stdout",
     "output_type": "stream",
     "text": [
      "1918/1918 [==============================] - 25s 13ms/step - loss: 6473.6421 - root_mean_squared_error: 80.4589 - val_loss: 7379.4536 - val_root_mean_squared_error: 85.9037\n",
      "Epoch 15/50\n",
      "1913/1918 [============================>.] - ETA: 0s - loss: 6462.0649 - root_mean_squared_error: 80.3870"
     ]
    },
    {
     "name": "stderr",
     "output_type": "stream",
     "text": [
      "WARNING:absl:Found untraced functions such as lstm_cell_layer_call_fn, lstm_cell_layer_call_and_return_conditional_losses while saving (showing 2 of 2). These functions will not be directly callable after loading.\n"
     ]
    },
    {
     "name": "stdout",
     "output_type": "stream",
     "text": [
      "INFO:tensorflow:Assets written to: model_G(I)_TIME\\assets\n"
     ]
    },
    {
     "name": "stderr",
     "output_type": "stream",
     "text": [
      "INFO:tensorflow:Assets written to: model_G(I)_TIME\\assets\n"
     ]
    },
    {
     "name": "stdout",
     "output_type": "stream",
     "text": [
      "1918/1918 [==============================] - 28s 14ms/step - loss: 6459.7720 - root_mean_squared_error: 80.3727 - val_loss: 7344.7573 - val_root_mean_squared_error: 85.7016\n",
      "Epoch 16/50\n",
      "1918/1918 [==============================] - 19s 10ms/step - loss: 6467.7373 - root_mean_squared_error: 80.4222 - val_loss: 7363.2041 - val_root_mean_squared_error: 85.8091\n",
      "Epoch 17/50\n",
      "1918/1918 [==============================] - 18s 10ms/step - loss: 6436.7983 - root_mean_squared_error: 80.2297 - val_loss: 7452.6104 - val_root_mean_squared_error: 86.3285\n",
      "Epoch 18/50\n",
      "1918/1918 [==============================] - 19s 10ms/step - loss: 6438.1948 - root_mean_squared_error: 80.2384 - val_loss: 7364.1763 - val_root_mean_squared_error: 85.8148\n",
      "Epoch 19/50\n",
      "1918/1918 [==============================] - 19s 10ms/step - loss: 6425.0869 - root_mean_squared_error: 80.1566 - val_loss: 7501.4097 - val_root_mean_squared_error: 86.6107\n",
      "Epoch 20/50\n",
      "1918/1918 [==============================] - 19s 10ms/step - loss: 6420.7456 - root_mean_squared_error: 80.1296 - val_loss: 7412.1880 - val_root_mean_squared_error: 86.0941\n",
      "Epoch 21/50\n",
      "1918/1918 [==============================] - 20s 11ms/step - loss: 6419.6514 - root_mean_squared_error: 80.1227 - val_loss: 7403.0527 - val_root_mean_squared_error: 86.0410\n",
      "Epoch 22/50\n",
      "1915/1918 [============================>.] - ETA: 0s - loss: 6409.9985 - root_mean_squared_error: 80.0625"
     ]
    },
    {
     "name": "stderr",
     "output_type": "stream",
     "text": [
      "WARNING:absl:Found untraced functions such as lstm_cell_layer_call_fn, lstm_cell_layer_call_and_return_conditional_losses while saving (showing 2 of 2). These functions will not be directly callable after loading.\n"
     ]
    },
    {
     "name": "stdout",
     "output_type": "stream",
     "text": [
      "INFO:tensorflow:Assets written to: model_G(I)_TIME\\assets\n"
     ]
    },
    {
     "name": "stderr",
     "output_type": "stream",
     "text": [
      "INFO:tensorflow:Assets written to: model_G(I)_TIME\\assets\n"
     ]
    },
    {
     "name": "stdout",
     "output_type": "stream",
     "text": [
      "1918/1918 [==============================] - 30s 16ms/step - loss: 6406.1602 - root_mean_squared_error: 80.0385 - val_loss: 7330.5093 - val_root_mean_squared_error: 85.6184\n",
      "Epoch 23/50\n",
      "1915/1918 [============================>.] - ETA: 0s - loss: 6376.5103 - root_mean_squared_error: 79.8531"
     ]
    },
    {
     "name": "stderr",
     "output_type": "stream",
     "text": [
      "WARNING:absl:Found untraced functions such as lstm_cell_layer_call_fn, lstm_cell_layer_call_and_return_conditional_losses while saving (showing 2 of 2). These functions will not be directly callable after loading.\n"
     ]
    },
    {
     "name": "stdout",
     "output_type": "stream",
     "text": [
      "INFO:tensorflow:Assets written to: model_G(I)_TIME\\assets\n"
     ]
    },
    {
     "name": "stderr",
     "output_type": "stream",
     "text": [
      "INFO:tensorflow:Assets written to: model_G(I)_TIME\\assets\n"
     ]
    },
    {
     "name": "stdout",
     "output_type": "stream",
     "text": [
      "1918/1918 [==============================] - 30s 16ms/step - loss: 6374.3838 - root_mean_squared_error: 79.8397 - val_loss: 7330.3867 - val_root_mean_squared_error: 85.6177\n",
      "Epoch 24/50\n",
      "1918/1918 [==============================] - 22s 12ms/step - loss: 6372.7720 - root_mean_squared_error: 79.8296 - val_loss: 7401.4834 - val_root_mean_squared_error: 86.0319\n",
      "Epoch 25/50\n",
      "1918/1918 [==============================] - 22s 12ms/step - loss: 6375.6191 - root_mean_squared_error: 79.8475 - val_loss: 7355.5513 - val_root_mean_squared_error: 85.7645\n",
      "Epoch 26/50\n",
      "1916/1918 [============================>.] - ETA: 0s - loss: 6363.4624 - root_mean_squared_error: 79.7713"
     ]
    },
    {
     "name": "stderr",
     "output_type": "stream",
     "text": [
      "WARNING:absl:Found untraced functions such as lstm_cell_layer_call_fn, lstm_cell_layer_call_and_return_conditional_losses while saving (showing 2 of 2). These functions will not be directly callable after loading.\n"
     ]
    },
    {
     "name": "stdout",
     "output_type": "stream",
     "text": [
      "INFO:tensorflow:Assets written to: model_G(I)_TIME\\assets\n"
     ]
    },
    {
     "name": "stderr",
     "output_type": "stream",
     "text": [
      "INFO:tensorflow:Assets written to: model_G(I)_TIME\\assets\n"
     ]
    },
    {
     "name": "stdout",
     "output_type": "stream",
     "text": [
      "1918/1918 [==============================] - 30s 16ms/step - loss: 6362.6489 - root_mean_squared_error: 79.7662 - val_loss: 7294.3887 - val_root_mean_squared_error: 85.4072\n",
      "Epoch 27/50\n",
      "1918/1918 [==============================] - 22s 11ms/step - loss: 6360.3022 - root_mean_squared_error: 79.7515 - val_loss: 7409.2979 - val_root_mean_squared_error: 86.0773\n",
      "Epoch 28/50\n",
      "1918/1918 [==============================] - 23s 12ms/step - loss: 6350.3838 - root_mean_squared_error: 79.6893 - val_loss: 7309.6138 - val_root_mean_squared_error: 85.4963\n",
      "Epoch 29/50\n",
      "1918/1918 [==============================] - 23s 12ms/step - loss: 6353.5854 - root_mean_squared_error: 79.7094 - val_loss: 7314.9058 - val_root_mean_squared_error: 85.5272\n",
      "Epoch 30/50\n",
      "1918/1918 [==============================] - 23s 12ms/step - loss: 6335.1997 - root_mean_squared_error: 79.5940 - val_loss: 7295.9390 - val_root_mean_squared_error: 85.4163\n",
      "Epoch 31/50\n",
      "1918/1918 [==============================] - 22s 12ms/step - loss: 6310.3867 - root_mean_squared_error: 79.4379 - val_loss: 7338.4580 - val_root_mean_squared_error: 85.6648\n",
      "Epoch 32/50\n",
      "1918/1918 [==============================] - 23s 12ms/step - loss: 6307.0195 - root_mean_squared_error: 79.4167 - val_loss: 7321.5308 - val_root_mean_squared_error: 85.5659\n",
      "Epoch 33/50\n",
      "1918/1918 [==============================] - 25s 13ms/step - loss: 6323.0459 - root_mean_squared_error: 79.5176 - val_loss: 7359.6387 - val_root_mean_squared_error: 85.7883\n",
      "Epoch 34/50\n",
      "1918/1918 [==============================] - 24s 13ms/step - loss: 6295.2954 - root_mean_squared_error: 79.3429 - val_loss: 7307.3018 - val_root_mean_squared_error: 85.4828\n",
      "Epoch 35/50\n",
      "1918/1918 [==============================] - 25s 13ms/step - loss: 6301.1211 - root_mean_squared_error: 79.3796 - val_loss: 7359.5376 - val_root_mean_squared_error: 85.7878\n",
      "Epoch 36/50\n",
      "1918/1918 [==============================] - 33s 17ms/step - loss: 6292.6416 - root_mean_squared_error: 79.3262 - val_loss: 7305.0737 - val_root_mean_squared_error: 85.4697\n",
      "Epoch 36: early stopping\n"
     ]
    },
    {
     "data": {
      "text/plain": [
       "<keras.callbacks.History at 0x214be40f4c0>"
      ]
     },
     "execution_count": 43,
     "metadata": {},
     "output_type": "execute_result"
    }
   ],
   "source": [
    "model1.fit(X_train1, y_train1, validation_data=(X_val1, y_val1), epochs=50, callbacks=[cp1,early_stopping])"
   ]
  },
  {
   "cell_type": "code",
   "execution_count": 45,
   "id": "a454c7f1",
   "metadata": {},
   "outputs": [],
   "source": [
    "from tensorflow.keras.models import load_model\n",
    "model1 = load_model('model_G(I)_TIME/')"
   ]
  },
  {
   "cell_type": "code",
   "execution_count": 46,
   "id": "bdda30eb",
   "metadata": {},
   "outputs": [
    {
     "name": "stdout",
     "output_type": "stream",
     "text": [
      "1918/1918 [==============================] - 7s 3ms/step\n"
     ]
    },
    {
     "data": {
      "text/html": [
       "<div>\n",
       "<style scoped>\n",
       "    .dataframe tbody tr th:only-of-type {\n",
       "        vertical-align: middle;\n",
       "    }\n",
       "\n",
       "    .dataframe tbody tr th {\n",
       "        vertical-align: top;\n",
       "    }\n",
       "\n",
       "    .dataframe thead th {\n",
       "        text-align: right;\n",
       "    }\n",
       "</style>\n",
       "<table border=\"1\" class=\"dataframe\">\n",
       "  <thead>\n",
       "    <tr style=\"text-align: right;\">\n",
       "      <th></th>\n",
       "      <th>Train Predictions</th>\n",
       "      <th>Actuals</th>\n",
       "    </tr>\n",
       "  </thead>\n",
       "  <tbody>\n",
       "    <tr>\n",
       "      <th>0</th>\n",
       "      <td>668.383240</td>\n",
       "      <td>702.60</td>\n",
       "    </tr>\n",
       "    <tr>\n",
       "      <th>1</th>\n",
       "      <td>456.643066</td>\n",
       "      <td>472.43</td>\n",
       "    </tr>\n",
       "    <tr>\n",
       "      <th>2</th>\n",
       "      <td>208.158279</td>\n",
       "      <td>208.97</td>\n",
       "    </tr>\n",
       "    <tr>\n",
       "      <th>3</th>\n",
       "      <td>11.930079</td>\n",
       "      <td>0.00</td>\n",
       "    </tr>\n",
       "    <tr>\n",
       "      <th>4</th>\n",
       "      <td>0.306529</td>\n",
       "      <td>0.00</td>\n",
       "    </tr>\n",
       "    <tr>\n",
       "      <th>5</th>\n",
       "      <td>0.235225</td>\n",
       "      <td>0.00</td>\n",
       "    </tr>\n",
       "    <tr>\n",
       "      <th>6</th>\n",
       "      <td>0.185975</td>\n",
       "      <td>0.00</td>\n",
       "    </tr>\n",
       "    <tr>\n",
       "      <th>7</th>\n",
       "      <td>0.147637</td>\n",
       "      <td>0.00</td>\n",
       "    </tr>\n",
       "    <tr>\n",
       "      <th>8</th>\n",
       "      <td>0.088069</td>\n",
       "      <td>0.00</td>\n",
       "    </tr>\n",
       "    <tr>\n",
       "      <th>9</th>\n",
       "      <td>0.024948</td>\n",
       "      <td>0.00</td>\n",
       "    </tr>\n",
       "    <tr>\n",
       "      <th>10</th>\n",
       "      <td>-0.023861</td>\n",
       "      <td>0.00</td>\n",
       "    </tr>\n",
       "    <tr>\n",
       "      <th>11</th>\n",
       "      <td>-0.046377</td>\n",
       "      <td>0.00</td>\n",
       "    </tr>\n",
       "    <tr>\n",
       "      <th>12</th>\n",
       "      <td>-0.031312</td>\n",
       "      <td>0.00</td>\n",
       "    </tr>\n",
       "    <tr>\n",
       "      <th>13</th>\n",
       "      <td>0.020507</td>\n",
       "      <td>0.00</td>\n",
       "    </tr>\n",
       "    <tr>\n",
       "      <th>14</th>\n",
       "      <td>0.128911</td>\n",
       "      <td>0.00</td>\n",
       "    </tr>\n",
       "    <tr>\n",
       "      <th>15</th>\n",
       "      <td>0.511636</td>\n",
       "      <td>0.00</td>\n",
       "    </tr>\n",
       "    <tr>\n",
       "      <th>16</th>\n",
       "      <td>111.308632</td>\n",
       "      <td>17.78</td>\n",
       "    </tr>\n",
       "    <tr>\n",
       "      <th>17</th>\n",
       "      <td>276.910828</td>\n",
       "      <td>443.28</td>\n",
       "    </tr>\n",
       "    <tr>\n",
       "      <th>18</th>\n",
       "      <td>709.750183</td>\n",
       "      <td>642.75</td>\n",
       "    </tr>\n",
       "    <tr>\n",
       "      <th>19</th>\n",
       "      <td>838.265259</td>\n",
       "      <td>860.81</td>\n",
       "    </tr>\n",
       "    <tr>\n",
       "      <th>20</th>\n",
       "      <td>987.118469</td>\n",
       "      <td>973.48</td>\n",
       "    </tr>\n",
       "    <tr>\n",
       "      <th>21</th>\n",
       "      <td>1013.000061</td>\n",
       "      <td>987.11</td>\n",
       "    </tr>\n",
       "    <tr>\n",
       "      <th>22</th>\n",
       "      <td>933.681702</td>\n",
       "      <td>948.68</td>\n",
       "    </tr>\n",
       "    <tr>\n",
       "      <th>23</th>\n",
       "      <td>788.026672</td>\n",
       "      <td>760.16</td>\n",
       "    </tr>\n",
       "    <tr>\n",
       "      <th>24</th>\n",
       "      <td>529.467163</td>\n",
       "      <td>600.61</td>\n",
       "    </tr>\n",
       "    <tr>\n",
       "      <th>25</th>\n",
       "      <td>371.518616</td>\n",
       "      <td>399.73</td>\n",
       "    </tr>\n",
       "    <tr>\n",
       "      <th>26</th>\n",
       "      <td>169.333252</td>\n",
       "      <td>154.07</td>\n",
       "    </tr>\n",
       "    <tr>\n",
       "      <th>27</th>\n",
       "      <td>4.578731</td>\n",
       "      <td>0.00</td>\n",
       "    </tr>\n",
       "    <tr>\n",
       "      <th>28</th>\n",
       "      <td>0.298480</td>\n",
       "      <td>0.00</td>\n",
       "    </tr>\n",
       "    <tr>\n",
       "      <th>29</th>\n",
       "      <td>0.254885</td>\n",
       "      <td>0.00</td>\n",
       "    </tr>\n",
       "  </tbody>\n",
       "</table>\n",
       "</div>"
      ],
      "text/plain": [
       "    Train Predictions  Actuals\n",
       "0          668.383240   702.60\n",
       "1          456.643066   472.43\n",
       "2          208.158279   208.97\n",
       "3           11.930079     0.00\n",
       "4            0.306529     0.00\n",
       "5            0.235225     0.00\n",
       "6            0.185975     0.00\n",
       "7            0.147637     0.00\n",
       "8            0.088069     0.00\n",
       "9            0.024948     0.00\n",
       "10          -0.023861     0.00\n",
       "11          -0.046377     0.00\n",
       "12          -0.031312     0.00\n",
       "13           0.020507     0.00\n",
       "14           0.128911     0.00\n",
       "15           0.511636     0.00\n",
       "16         111.308632    17.78\n",
       "17         276.910828   443.28\n",
       "18         709.750183   642.75\n",
       "19         838.265259   860.81\n",
       "20         987.118469   973.48\n",
       "21        1013.000061   987.11\n",
       "22         933.681702   948.68\n",
       "23         788.026672   760.16\n",
       "24         529.467163   600.61\n",
       "25         371.518616   399.73\n",
       "26         169.333252   154.07\n",
       "27           4.578731     0.00\n",
       "28           0.298480     0.00\n",
       "29           0.254885     0.00"
      ]
     },
     "execution_count": 46,
     "metadata": {},
     "output_type": "execute_result"
    }
   ],
   "source": [
    "train_predictions = model1.predict(X_train1).flatten()\n",
    "train_results = pd.DataFrame(data={'Train Predictions':train_predictions, 'Actuals':y_train1.flatten()})\n",
    "train_results.head(30)"
   ]
  },
  {
   "cell_type": "code",
   "execution_count": 47,
   "id": "50fdd92d",
   "metadata": {},
   "outputs": [
    {
     "data": {
      "text/plain": [
       "[<matplotlib.lines.Line2D at 0x214c5a6c820>]"
      ]
     },
     "execution_count": 47,
     "metadata": {},
     "output_type": "execute_result"
    },
    {
     "data": {
      "image/png": "[encoded data removed]",
      "text/plain": [
       "<Figure size 640x480 with 1 Axes>"
      ]
     },
     "metadata": {},
     "output_type": "display_data"
    }
   ],
   "source": [
    "%matplotlib inline\n",
    "\n",
    "import matplotlib.pyplot as plt\n",
    "plt.plot(train_results['Train Predictions'][50:100])\n",
    "plt.plot(train_results['Actuals'][50:100])"
   ]
  },
  {
   "cell_type": "code",
   "execution_count": 48,
   "id": "479e2029",
   "metadata": {},
   "outputs": [
    {
     "name": "stdout",
     "output_type": "stream",
     "text": [
      "274/274 [==============================] - 1s 3ms/step\n"
     ]
    },
    {
     "data": {
      "text/html": [
       "<div>\n",
       "<style scoped>\n",
       "    .dataframe tbody tr th:only-of-type {\n",
       "        vertical-align: middle;\n",
       "    }\n",
       "\n",
       "    .dataframe tbody tr th {\n",
       "        vertical-align: top;\n",
       "    }\n",
       "\n",
       "    .dataframe thead th {\n",
       "        text-align: right;\n",
       "    }\n",
       "</style>\n",
       "<table border=\"1\" class=\"dataframe\">\n",
       "  <thead>\n",
       "    <tr style=\"text-align: right;\">\n",
       "      <th></th>\n",
       "      <th>Val Predictions</th>\n",
       "      <th>Actuals</th>\n",
       "    </tr>\n",
       "  </thead>\n",
       "  <tbody>\n",
       "    <tr>\n",
       "      <th>0</th>\n",
       "      <td>907.285828</td>\n",
       "      <td>915.12</td>\n",
       "    </tr>\n",
       "    <tr>\n",
       "      <th>1</th>\n",
       "      <td>693.185486</td>\n",
       "      <td>731.26</td>\n",
       "    </tr>\n",
       "    <tr>\n",
       "      <th>2</th>\n",
       "      <td>482.781799</td>\n",
       "      <td>491.41</td>\n",
       "    </tr>\n",
       "    <tr>\n",
       "      <th>3</th>\n",
       "      <td>218.373962</td>\n",
       "      <td>224.16</td>\n",
       "    </tr>\n",
       "    <tr>\n",
       "      <th>4</th>\n",
       "      <td>16.355951</td>\n",
       "      <td>0.00</td>\n",
       "    </tr>\n",
       "    <tr>\n",
       "      <th>5</th>\n",
       "      <td>0.259330</td>\n",
       "      <td>0.00</td>\n",
       "    </tr>\n",
       "    <tr>\n",
       "      <th>6</th>\n",
       "      <td>0.218103</td>\n",
       "      <td>0.00</td>\n",
       "    </tr>\n",
       "    <tr>\n",
       "      <th>7</th>\n",
       "      <td>0.176310</td>\n",
       "      <td>0.00</td>\n",
       "    </tr>\n",
       "    <tr>\n",
       "      <th>8</th>\n",
       "      <td>0.147037</td>\n",
       "      <td>0.00</td>\n",
       "    </tr>\n",
       "    <tr>\n",
       "      <th>9</th>\n",
       "      <td>0.091007</td>\n",
       "      <td>0.00</td>\n",
       "    </tr>\n",
       "    <tr>\n",
       "      <th>10</th>\n",
       "      <td>0.028615</td>\n",
       "      <td>0.00</td>\n",
       "    </tr>\n",
       "    <tr>\n",
       "      <th>11</th>\n",
       "      <td>-0.019768</td>\n",
       "      <td>0.00</td>\n",
       "    </tr>\n",
       "    <tr>\n",
       "      <th>12</th>\n",
       "      <td>-0.041001</td>\n",
       "      <td>0.00</td>\n",
       "    </tr>\n",
       "    <tr>\n",
       "      <th>13</th>\n",
       "      <td>-0.024488</td>\n",
       "      <td>0.00</td>\n",
       "    </tr>\n",
       "    <tr>\n",
       "      <th>14</th>\n",
       "      <td>0.024208</td>\n",
       "      <td>0.00</td>\n",
       "    </tr>\n",
       "    <tr>\n",
       "      <th>15</th>\n",
       "      <td>0.129508</td>\n",
       "      <td>0.00</td>\n",
       "    </tr>\n",
       "    <tr>\n",
       "      <th>16</th>\n",
       "      <td>0.511636</td>\n",
       "      <td>0.00</td>\n",
       "    </tr>\n",
       "    <tr>\n",
       "      <th>17</th>\n",
       "      <td>111.308632</td>\n",
       "      <td>87.44</td>\n",
       "    </tr>\n",
       "    <tr>\n",
       "      <th>18</th>\n",
       "      <td>352.544342</td>\n",
       "      <td>429.21</td>\n",
       "    </tr>\n",
       "    <tr>\n",
       "      <th>19</th>\n",
       "      <td>672.668213</td>\n",
       "      <td>701.00</td>\n",
       "    </tr>\n",
       "  </tbody>\n",
       "</table>\n",
       "</div>"
      ],
      "text/plain": [
       "    Val Predictions  Actuals\n",
       "0        907.285828   915.12\n",
       "1        693.185486   731.26\n",
       "2        482.781799   491.41\n",
       "3        218.373962   224.16\n",
       "4         16.355951     0.00\n",
       "5          0.259330     0.00\n",
       "6          0.218103     0.00\n",
       "7          0.176310     0.00\n",
       "8          0.147037     0.00\n",
       "9          0.091007     0.00\n",
       "10         0.028615     0.00\n",
       "11        -0.019768     0.00\n",
       "12        -0.041001     0.00\n",
       "13        -0.024488     0.00\n",
       "14         0.024208     0.00\n",
       "15         0.129508     0.00\n",
       "16         0.511636     0.00\n",
       "17       111.308632    87.44\n",
       "18       352.544342   429.21\n",
       "19       672.668213   701.00"
      ]
     },
     "execution_count": 48,
     "metadata": {},
     "output_type": "execute_result"
    }
   ],
   "source": [
    "\n",
    "val_predictions = model1.predict(X_val1).flatten()\n",
    "val_results = pd.DataFrame(data={'Val Predictions':val_predictions, 'Actuals':y_val1.flatten()})\n",
    "val_results.head(20)"
   ]
  },
  {
   "cell_type": "code",
   "execution_count": 52,
   "id": "f535c6a7",
   "metadata": {},
   "outputs": [
    {
     "data": {
      "text/plain": [
       "<matplotlib.legend.Legend at 0x214c5e48670>"
      ]
     },
     "execution_count": 52,
     "metadata": {},
     "output_type": "execute_result"
    },
    {
     "data": {
      "image/png": "[encoded data removed]",
      "text/plain": [
       "<Figure size 640x480 with 1 Axes>"
      ]
     },
     "metadata": {},
     "output_type": "display_data"
    }
   ],
   "source": [
    "plt.plot(val_results['Val Predictions'][50:100],label=\"this is validation\",color=\"Orange\")\n",
    "plt.plot(val_results['Actuals'][50:100],label=\"this is Actuals\",color=\"Blue\")\n",
    "plt.legend()"
   ]
  },
  {
   "cell_type": "code",
   "execution_count": 53,
   "id": "d68a14e7",
   "metadata": {},
   "outputs": [
    {
     "name": "stdout",
     "output_type": "stream",
     "text": [
      "822/822 [==============================] - 2s 3ms/step\n"
     ]
    },
    {
     "data": {
      "text/html": [
       "<div>\n",
       "<style scoped>\n",
       "    .dataframe tbody tr th:only-of-type {\n",
       "        vertical-align: middle;\n",
       "    }\n",
       "\n",
       "    .dataframe tbody tr th {\n",
       "        vertical-align: top;\n",
       "    }\n",
       "\n",
       "    .dataframe thead th {\n",
       "        text-align: right;\n",
       "    }\n",
       "</style>\n",
       "<table border=\"1\" class=\"dataframe\">\n",
       "  <thead>\n",
       "    <tr style=\"text-align: right;\">\n",
       "      <th></th>\n",
       "      <th>Test Predictions</th>\n",
       "      <th>Actuals</th>\n",
       "    </tr>\n",
       "  </thead>\n",
       "  <tbody>\n",
       "    <tr>\n",
       "      <th>0</th>\n",
       "      <td>694.877747</td>\n",
       "      <td>680.76</td>\n",
       "    </tr>\n",
       "    <tr>\n",
       "      <th>1</th>\n",
       "      <td>452.690186</td>\n",
       "      <td>510.89</td>\n",
       "    </tr>\n",
       "    <tr>\n",
       "      <th>2</th>\n",
       "      <td>229.807831</td>\n",
       "      <td>236.66</td>\n",
       "    </tr>\n",
       "    <tr>\n",
       "      <th>3</th>\n",
       "      <td>5.754004</td>\n",
       "      <td>0.00</td>\n",
       "    </tr>\n",
       "    <tr>\n",
       "      <th>4</th>\n",
       "      <td>0.268559</td>\n",
       "      <td>0.00</td>\n",
       "    </tr>\n",
       "    <tr>\n",
       "      <th>...</th>\n",
       "      <td>...</td>\n",
       "      <td>...</td>\n",
       "    </tr>\n",
       "    <tr>\n",
       "      <th>26286</th>\n",
       "      <td>0.183076</td>\n",
       "      <td>0.00</td>\n",
       "    </tr>\n",
       "    <tr>\n",
       "      <th>26287</th>\n",
       "      <td>0.147754</td>\n",
       "      <td>0.00</td>\n",
       "    </tr>\n",
       "    <tr>\n",
       "      <th>26288</th>\n",
       "      <td>0.089707</td>\n",
       "      <td>0.00</td>\n",
       "    </tr>\n",
       "    <tr>\n",
       "      <th>26289</th>\n",
       "      <td>0.027047</td>\n",
       "      <td>0.00</td>\n",
       "    </tr>\n",
       "    <tr>\n",
       "      <th>26290</th>\n",
       "      <td>-0.021463</td>\n",
       "      <td>0.00</td>\n",
       "    </tr>\n",
       "  </tbody>\n",
       "</table>\n",
       "<p>26291 rows × 2 columns</p>\n",
       "</div>"
      ],
      "text/plain": [
       "       Test Predictions  Actuals\n",
       "0            694.877747   680.76\n",
       "1            452.690186   510.89\n",
       "2            229.807831   236.66\n",
       "3              5.754004     0.00\n",
       "4              0.268559     0.00\n",
       "...                 ...      ...\n",
       "26286          0.183076     0.00\n",
       "26287          0.147754     0.00\n",
       "26288          0.089707     0.00\n",
       "26289          0.027047     0.00\n",
       "26290         -0.021463     0.00\n",
       "\n",
       "[26291 rows x 2 columns]"
      ]
     },
     "execution_count": 53,
     "metadata": {},
     "output_type": "execute_result"
    }
   ],
   "source": [
    "test_predictions = model1.predict(X_test1).flatten()\n",
    "test_results = pd.DataFrame(data={'Test Predictions':test_predictions, 'Actuals':y_test1.flatten()})\n",
    "test_results"
   ]
  },
  {
   "cell_type": "code",
   "execution_count": 54,
   "id": "91a07b9d",
   "metadata": {},
   "outputs": [],
   "source": [
    "from sklearn.metrics import mean_squared_error as mse\n",
    "\n",
    "def plot_predictions1(model, X, y, start=50, end=100):\n",
    "  predictions = model.predict(X).flatten()\n",
    "  df = pd.DataFrame(data={'Predictions': predictions, 'Actuals':y})\n",
    "  plt.plot(df['Predictions'][start:end])\n",
    "  plt.plot(df['Actuals'][start:end])\n",
    "  return df, mse(predictions, y)"
   ]
  },
  {
   "cell_type": "code",
   "execution_count": 55,
   "id": "86df6333",
   "metadata": {},
   "outputs": [
    {
     "name": "stdout",
     "output_type": "stream",
     "text": [
      "822/822 [==============================] - 2s 3ms/step\n"
     ]
    },
    {
     "data": {
      "text/plain": [
       "(       Predictions  Actuals\n",
       " 0       694.877747   680.76\n",
       " 1       452.690186   510.89\n",
       " 2       229.807831   236.66\n",
       " 3         5.754004     0.00\n",
       " 4         0.268559     0.00\n",
       " ...            ...      ...\n",
       " 26286     0.183076     0.00\n",
       " 26287     0.147754     0.00\n",
       " 26288     0.089707     0.00\n",
       " 26289     0.027047     0.00\n",
       " 26290    -0.021463     0.00\n",
       " \n",
       " [26291 rows x 2 columns],\n",
       " 5665.363914142274)"
      ]
     },
     "execution_count": 55,
     "metadata": {},
     "output_type": "execute_result"
    },
    {
     "data": {
      "image/png": "[encoded data removed]",
      "text/plain": [
       "<Figure size 640x480 with 1 Axes>"
      ]
     },
     "metadata": {},
     "output_type": "display_data"
    }
   ],
   "source": [
    "plot_predictions1(model1, X_test1, y_test1.flatten())"
   ]
  },
  {
   "cell_type": "code",
   "execution_count": 123,
   "id": "ddc56b17-f726-4fbc-842d-531cb53091a9",
   "metadata": {},
   "outputs": [
    {
     "data": {
      "text/html": [
       "<div>\n",
       "<style scoped>\n",
       "    .dataframe tbody tr th:only-of-type {\n",
       "        vertical-align: middle;\n",
       "    }\n",
       "\n",
       "    .dataframe tbody tr th {\n",
       "        vertical-align: top;\n",
       "    }\n",
       "\n",
       "    .dataframe thead th {\n",
       "        text-align: right;\n",
       "    }\n",
       "</style>\n",
       "<table border=\"1\" class=\"dataframe\">\n",
       "  <thead>\n",
       "    <tr style=\"text-align: right;\">\n",
       "      <th></th>\n",
       "      <th>G(i)</th>\n",
       "      <th>day sin</th>\n",
       "      <th>day cos</th>\n",
       "    </tr>\n",
       "    <tr>\n",
       "      <th>time</th>\n",
       "      <th></th>\n",
       "      <th></th>\n",
       "      <th></th>\n",
       "    </tr>\n",
       "  </thead>\n",
       "  <tbody>\n",
       "    <tr>\n",
       "      <th>2019-01-01 01:07:00</th>\n",
       "      <td>-0.732689</td>\n",
       "      <td>0.288196</td>\n",
       "      <td>0.957571</td>\n",
       "    </tr>\n",
       "    <tr>\n",
       "      <th>2019-01-01 02:07:00</th>\n",
       "      <td>0.000000</td>\n",
       "      <td>0.526214</td>\n",
       "      <td>0.850352</td>\n",
       "    </tr>\n",
       "    <tr>\n",
       "      <th>2019-01-01 03:07:00</th>\n",
       "      <td>0.000000</td>\n",
       "      <td>0.728371</td>\n",
       "      <td>0.685183</td>\n",
       "    </tr>\n",
       "    <tr>\n",
       "      <th>2019-01-01 04:07:00</th>\n",
       "      <td>46.980000</td>\n",
       "      <td>0.880891</td>\n",
       "      <td>0.473320</td>\n",
       "    </tr>\n",
       "    <tr>\n",
       "      <th>2019-01-01 05:07:00</th>\n",
       "      <td>449.760000</td>\n",
       "      <td>0.973379</td>\n",
       "      <td>0.229200</td>\n",
       "    </tr>\n",
       "    <tr>\n",
       "      <th>2019-01-01 06:07:00</th>\n",
       "      <td>707.260000</td>\n",
       "      <td>0.999534</td>\n",
       "      <td>-0.030539</td>\n",
       "    </tr>\n",
       "    <tr>\n",
       "      <th>2019-01-01 07:07:00</th>\n",
       "      <td>902.770000</td>\n",
       "      <td>0.957571</td>\n",
       "      <td>-0.288196</td>\n",
       "    </tr>\n",
       "    <tr>\n",
       "      <th>2019-01-01 08:07:00</th>\n",
       "      <td>1024.410000</td>\n",
       "      <td>0.850352</td>\n",
       "      <td>-0.526214</td>\n",
       "    </tr>\n",
       "    <tr>\n",
       "      <th>2019-01-01 09:07:00</th>\n",
       "      <td>1072.310000</td>\n",
       "      <td>0.685183</td>\n",
       "      <td>-0.728371</td>\n",
       "    </tr>\n",
       "    <tr>\n",
       "      <th>2019-01-01 10:07:00</th>\n",
       "      <td>1035.860000</td>\n",
       "      <td>0.473320</td>\n",
       "      <td>-0.880891</td>\n",
       "    </tr>\n",
       "    <tr>\n",
       "      <th>2019-01-01 11:07:00</th>\n",
       "      <td>926.620000</td>\n",
       "      <td>0.229200</td>\n",
       "      <td>-0.973379</td>\n",
       "    </tr>\n",
       "    <tr>\n",
       "      <th>2019-01-01 12:07:00</th>\n",
       "      <td>740.380000</td>\n",
       "      <td>-0.030539</td>\n",
       "      <td>-0.999534</td>\n",
       "    </tr>\n",
       "    <tr>\n",
       "      <th>2019-01-01 13:07:00</th>\n",
       "      <td>487.930000</td>\n",
       "      <td>-0.288196</td>\n",
       "      <td>-0.957571</td>\n",
       "    </tr>\n",
       "    <tr>\n",
       "      <th>2019-01-01 14:07:00</th>\n",
       "      <td>225.580000</td>\n",
       "      <td>-0.526214</td>\n",
       "      <td>-0.850352</td>\n",
       "    </tr>\n",
       "    <tr>\n",
       "      <th>2019-01-01 15:07:00</th>\n",
       "      <td>0.000000</td>\n",
       "      <td>-0.728371</td>\n",
       "      <td>-0.685183</td>\n",
       "    </tr>\n",
       "    <tr>\n",
       "      <th>2019-01-01 16:07:00</th>\n",
       "      <td>0.000000</td>\n",
       "      <td>-0.880891</td>\n",
       "      <td>-0.473320</td>\n",
       "    </tr>\n",
       "    <tr>\n",
       "      <th>2019-01-01 17:07:00</th>\n",
       "      <td>0.000000</td>\n",
       "      <td>-0.973379</td>\n",
       "      <td>-0.229200</td>\n",
       "    </tr>\n",
       "    <tr>\n",
       "      <th>2019-01-01 18:07:00</th>\n",
       "      <td>0.000000</td>\n",
       "      <td>-0.999534</td>\n",
       "      <td>0.030539</td>\n",
       "    </tr>\n",
       "    <tr>\n",
       "      <th>2019-01-01 19:07:00</th>\n",
       "      <td>0.000000</td>\n",
       "      <td>-0.957571</td>\n",
       "      <td>0.288196</td>\n",
       "    </tr>\n",
       "    <tr>\n",
       "      <th>2019-01-01 20:07:00</th>\n",
       "      <td>0.000000</td>\n",
       "      <td>-0.850352</td>\n",
       "      <td>0.526214</td>\n",
       "    </tr>\n",
       "    <tr>\n",
       "      <th>2019-01-01 21:07:00</th>\n",
       "      <td>0.000000</td>\n",
       "      <td>-0.685183</td>\n",
       "      <td>0.728371</td>\n",
       "    </tr>\n",
       "    <tr>\n",
       "      <th>2019-01-01 22:07:00</th>\n",
       "      <td>0.000000</td>\n",
       "      <td>-0.473320</td>\n",
       "      <td>0.880891</td>\n",
       "    </tr>\n",
       "    <tr>\n",
       "      <th>2019-01-01 23:07:00</th>\n",
       "      <td>0.000000</td>\n",
       "      <td>-0.229200</td>\n",
       "      <td>0.973379</td>\n",
       "    </tr>\n",
       "    <tr>\n",
       "      <th>2019-01-02 00:07:00</th>\n",
       "      <td>0.000000</td>\n",
       "      <td>0.030539</td>\n",
       "      <td>0.999534</td>\n",
       "    </tr>\n",
       "    <tr>\n",
       "      <th>2019-01-02 01:07:00</th>\n",
       "      <td>0.000000</td>\n",
       "      <td>0.288196</td>\n",
       "      <td>0.957571</td>\n",
       "    </tr>\n",
       "    <tr>\n",
       "      <th>2019-01-02 02:07:00</th>\n",
       "      <td>0.000000</td>\n",
       "      <td>0.526214</td>\n",
       "      <td>0.850352</td>\n",
       "    </tr>\n",
       "    <tr>\n",
       "      <th>2019-01-02 03:07:00</th>\n",
       "      <td>0.000000</td>\n",
       "      <td>0.728371</td>\n",
       "      <td>0.685183</td>\n",
       "    </tr>\n",
       "    <tr>\n",
       "      <th>2019-01-02 04:07:00</th>\n",
       "      <td>39.280000</td>\n",
       "      <td>0.880891</td>\n",
       "      <td>0.473320</td>\n",
       "    </tr>\n",
       "    <tr>\n",
       "      <th>2019-01-02 05:07:00</th>\n",
       "      <td>414.340000</td>\n",
       "      <td>0.973379</td>\n",
       "      <td>0.229200</td>\n",
       "    </tr>\n",
       "    <tr>\n",
       "      <th>2019-01-02 06:07:00</th>\n",
       "      <td>677.520000</td>\n",
       "      <td>0.999534</td>\n",
       "      <td>-0.030539</td>\n",
       "    </tr>\n",
       "    <tr>\n",
       "      <th>2019-01-02 07:07:00</th>\n",
       "      <td>870.560000</td>\n",
       "      <td>0.957571</td>\n",
       "      <td>-0.288196</td>\n",
       "    </tr>\n",
       "  </tbody>\n",
       "</table>\n",
       "</div>"
      ],
      "text/plain": [
       "                            G(i)   day sin   day cos\n",
       "time                                                \n",
       "2019-01-01 01:07:00    -0.732689  0.288196  0.957571\n",
       "2019-01-01 02:07:00     0.000000  0.526214  0.850352\n",
       "2019-01-01 03:07:00     0.000000  0.728371  0.685183\n",
       "2019-01-01 04:07:00    46.980000  0.880891  0.473320\n",
       "2019-01-01 05:07:00   449.760000  0.973379  0.229200\n",
       "2019-01-01 06:07:00   707.260000  0.999534 -0.030539\n",
       "2019-01-01 07:07:00   902.770000  0.957571 -0.288196\n",
       "2019-01-01 08:07:00  1024.410000  0.850352 -0.526214\n",
       "2019-01-01 09:07:00  1072.310000  0.685183 -0.728371\n",
       "2019-01-01 10:07:00  1035.860000  0.473320 -0.880891\n",
       "2019-01-01 11:07:00   926.620000  0.229200 -0.973379\n",
       "2019-01-01 12:07:00   740.380000 -0.030539 -0.999534\n",
       "2019-01-01 13:07:00   487.930000 -0.288196 -0.957571\n",
       "2019-01-01 14:07:00   225.580000 -0.526214 -0.850352\n",
       "2019-01-01 15:07:00     0.000000 -0.728371 -0.685183\n",
       "2019-01-01 16:07:00     0.000000 -0.880891 -0.473320\n",
       "2019-01-01 17:07:00     0.000000 -0.973379 -0.229200\n",
       "2019-01-01 18:07:00     0.000000 -0.999534  0.030539\n",
       "2019-01-01 19:07:00     0.000000 -0.957571  0.288196\n",
       "2019-01-01 20:07:00     0.000000 -0.850352  0.526214\n",
       "2019-01-01 21:07:00     0.000000 -0.685183  0.728371\n",
       "2019-01-01 22:07:00     0.000000 -0.473320  0.880891\n",
       "2019-01-01 23:07:00     0.000000 -0.229200  0.973379\n",
       "2019-01-02 00:07:00     0.000000  0.030539  0.999534\n",
       "2019-01-02 01:07:00     0.000000  0.288196  0.957571\n",
       "2019-01-02 02:07:00     0.000000  0.526214  0.850352\n",
       "2019-01-02 03:07:00     0.000000  0.728371  0.685183\n",
       "2019-01-02 04:07:00    39.280000  0.880891  0.473320\n",
       "2019-01-02 05:07:00   414.340000  0.973379  0.229200\n",
       "2019-01-02 06:07:00   677.520000  0.999534 -0.030539\n",
       "2019-01-02 07:07:00   870.560000  0.957571 -0.288196"
      ]
     },
     "execution_count": 123,
     "metadata": {},
     "output_type": "execute_result"
    }
   ],
   "source": [
    "df_multi.iloc[78889:78920,:]"
   ]
  },
  {
   "cell_type": "code",
   "execution_count": 130,
   "id": "05d10996",
   "metadata": {},
   "outputs": [
    {
     "name": "stdout",
     "output_type": "stream",
     "text": [
      "2019-01-01 01:07:00\n",
      "<class 'pandas.core.frame.DataFrame'>\n",
      "(5, 3)\n",
      "[[[-0.73268918 -0.68518299  0.72837097]\n",
      "  [-0.73268918 -0.47331967  0.88089074]\n",
      "  [-0.73268918 -0.22920039  0.97337926]\n",
      "  [-0.73268918  0.03053851  0.99953359]\n",
      "  [-0.73268918  0.28819627  0.95757136]]]\n",
      "1/1 [==============================] - 0s 19ms/step\n",
      "0.0243299\n"
     ]
    }
   ],
   "source": [
    "kkk = df_multi.iloc[78885:78890,:]\n",
    "time = str(df_multi.index[78889])\n",
    "print(time)\n",
    "print(type(kkk))\n",
    "print(kkk.shape)\n",
    "reshaped_array = np.reshape(kkk.to_numpy(), (1, 5, 3))\n",
    "preprocess(reshaped_array)\n",
    "print(reshaped_array)\n",
    "predictions = model1.predict(reshaped_array)\n",
    "print(predictions[0][0])\n",
    "\n",
    "# original= scaler.inverse_transform(predictions)\n",
    "# print(original)\n",
    "# predictions\n",
    "# inverse_data = np.zeros((len(predictions), scaler.shape[1]))"
   ]
  },
  {
   "cell_type": "code",
   "execution_count": 125,
   "id": "67b47b0b-140c-4e8b-a0d8-e5351710be09",
   "metadata": {},
   "outputs": [],
   "source": [
    "from datetime import datetime, timedelta\n",
    "\n",
    "def get_next_24_hours_from_datetime(start_datetime_str):\n",
    "    \"\"\"\n",
    "    Generate a list of strings representing the datetime for the next 24 hours,\n",
    "    given the start datetime in the format \"YYYY-MM-DD HH:MM:SS\".\n",
    "\n",
    "    Parameters:\n",
    "    - start_datetime_str (str): The starting datetime in the format \"YYYY-MM-DD HH:MM:SS\".\n",
    "\n",
    "    Returns:\n",
    "    - list of strings: Each string contains the datetime for the next 24 hours in the format \"YYYY-MM-DD HH:MM:SS\".\n",
    "    \"\"\"\n",
    "    # Convert the input string to a datetime object\n",
    "    start_datetime = datetime.strptime(start_datetime_str, \"%Y-%m-%d %H:%M:%S\")\n",
    "\n",
    "    # Initialize a list to hold the future datetimes in the desired format\n",
    "    future_datetimes_formatted = []\n",
    "    day_sin= []\n",
    "    day_cos= []\n",
    "\n",
    "    # Calculate and format the next 24 hours\n",
    "    for i in range(2, 26):  # Start from 1 to include the next hour immediately\n",
    "        future_datetime = start_datetime + timedelta(hours=i)\n",
    "        timeStamp = future_datetime.timestamp()\n",
    "        day_sin_ = np.sin(timeStamp * ( 2 * np.pi /day))\n",
    "        day_cos_ = np.cos(timeStamp * ( 2 * np.pi /day))\n",
    "        day_sin.append(day_sin_)\n",
    "        day_cos.append(day_cos_)\n",
    "        \n",
    "    return day_cos,day_sin\n"
   ]
  },
  {
   "cell_type": "code",
   "execution_count": 133,
   "id": "e15c566d-9834-41b1-a2cd-a637127727b2",
   "metadata": {},
   "outputs": [],
   "source": [
    "day_cos, day_sin = get_next_24_hours_from_datetime(time)"
   ]
  },
  {
   "cell_type": "code",
   "execution_count": null,
   "id": "04535f81-1440-4c2e-9697-9fda959112bb",
   "metadata": {},
   "outputs": [],
   "source": []
  },
  {
   "cell_type": "code",
   "execution_count": 136,
   "id": "8d388065",
   "metadata": {},
   "outputs": [
    {
     "name": "stdout",
     "output_type": "stream",
     "text": [
      "1/1 [==============================] - 0s 21ms/step\n",
      "1/1 [==============================] - 0s 17ms/step\n",
      "1/1 [==============================] - 0s 24ms/step\n",
      "1/1 [==============================] - 0s 16ms/step\n",
      "1/1 [==============================] - 0s 23ms/step\n",
      "1/1 [==============================] - 0s 13ms/step\n",
      "1/1 [==============================] - 0s 20ms/step\n",
      "1/1 [==============================] - 0s 13ms/step\n",
      "1/1 [==============================] - 0s 23ms/step\n",
      "1/1 [==============================] - 0s 13ms/step\n",
      "1/1 [==============================] - 0s 24ms/step\n",
      "1/1 [==============================] - 0s 31ms/step\n",
      "1/1 [==============================] - 0s 27ms/step\n",
      "1/1 [==============================] - 0s 16ms/step\n",
      "1/1 [==============================] - 0s 10ms/step\n",
      "1/1 [==============================] - 0s 20ms/step\n",
      "1/1 [==============================] - 0s 11ms/step\n",
      "1/1 [==============================] - 0s 19ms/step\n",
      "1/1 [==============================] - 0s 10ms/step\n",
      "1/1 [==============================] - 0s 22ms/step\n",
      "1/1 [==============================] - 0s 10ms/step\n",
      "1/1 [==============================] - 0s 19ms/step\n",
      "1/1 [==============================] - 0s 13ms/step\n",
      "1/1 [==============================] - 0s 20ms/step\n",
      "[0.0243299, -0.04566133, 112.74606, 371.20358, 616.1694, 784.54333, 869.8429, 851.312, 698.84296, 542.70715, 363.9002, 220.84758, 125.90215, 17.245089, 0.38434553, -0.01366806, -0.06906903, -0.01503253, 0.006919265, 0.007453561, -0.019474268, -0.02298379, -0.03494966, -0.02510798]\n"
     ]
    }
   ],
   "source": [
    "\n",
    "input = df_scaled[78885:78890,:]  # Initial input extracted from your original scaled DataFrame\n",
    "output_scaled = []  \n",
    "\n",
    "for i in range(24):\n",
    "    # Reshape input for the model prediction\n",
    "    reshaped_array = np.reshape(input, (1, 5, 3))\n",
    "    preprocess(reshaped_array)\n",
    "    prediction = []\n",
    "    prediction.append( model1.predict(reshaped_array)[0][0])\n",
    "    prediction.append(day_sin[i])\n",
    "    prediction.append(day_cos[i])\n",
    "    \n",
    "    \n",
    "    \n",
    "    # Reshape the prediction to match the input shape if necessary\n",
    "    # Adjust the reshaping based on the actual shape of your model's output\n",
    "    prediction_reshaped = np.reshape(prediction, (1, 3))\n",
    "    input = np.reshape(input, (5, 3))  # Ensure input is in the correct shape before appending\n",
    "    # Append the new prediction at the end of the input array\n",
    "    input = np.vstack([input, prediction_reshaped])  # Stack vertically to add as a new row\n",
    "    \n",
    "    # Remove the oldest entry to maintain the sliding window of input data\n",
    "    input = input[1:, :]  # Keep the last 5 entries, including the newly added prediction\n",
    "    \n",
    "    output_scaled.append(prediction[0])\n",
    "\n",
    "\n",
    "# print(output_scaled)  # Remains empty, uncomment if needed\n",
    "print(output_scaled)  # Print or process the predictions as \n",
    "\n",
    "\n"
   ]
  },
  {
   "cell_type": "code",
   "execution_count": 137,
   "id": "0c262722",
   "metadata": {},
   "outputs": [
    {
     "name": "stdout",
     "output_type": "stream",
     "text": [
      "this is the real scaled output\n",
      "0.0243299\n",
      "-0.04566133\n",
      "112.74606\n",
      "371.20358\n",
      "616.1694\n",
      "784.54333\n",
      "869.8429\n",
      "851.312\n",
      "698.84296\n",
      "542.70715\n",
      "363.9002\n",
      "220.84758\n",
      "125.90215\n",
      "17.245089\n",
      "0.38434553\n",
      "-0.01366806\n",
      "-0.06906903\n",
      "-0.01503253\n",
      "0.006919265\n",
      "0.007453561\n",
      "-0.019474268\n",
      "-0.02298379\n",
      "-0.03494966\n",
      "-0.02510798\n"
     ]
    }
   ],
   "source": [
    "print(\"this is the real scaled output\")\n",
    "for i in output_scaled:\n",
    "    print(i)"
   ]
  },
  {
   "cell_type": "code",
   "execution_count": null,
   "id": "dc28c8eb",
   "metadata": {},
   "outputs": [],
   "source": []
  },
  {
   "cell_type": "code",
   "execution_count": null,
   "id": "2709c5a1",
   "metadata": {},
   "outputs": [],
   "source": []
  },
  {
   "cell_type": "code",
   "execution_count": null,
   "id": "2c3d49a3",
   "metadata": {},
   "outputs": [],
   "source": []
  },
  {
   "cell_type": "code",
   "execution_count": null,
   "id": "1dc124bd",
   "metadata": {},
   "outputs": [],
   "source": []
  },
  {
   "cell_type": "code",
   "execution_count": null,
   "id": "96f37ea1",
   "metadata": {},
   "outputs": [],
   "source": []
  },
  {
   "cell_type": "code",
   "execution_count": null,
   "id": "eba8093b",
   "metadata": {},
   "outputs": [],
   "source": []
  }
 ],
 "metadata": {
  "kernelspec": {
   "display_name": "Python 3 (ipykernel)",
   "language": "python",
   "name": "python3"
  },
  "language_info": {
   "codemirror_mode": {
    "name": "ipython",
    "version": 3
   },
   "file_extension": ".py",
   "mimetype": "text/x-python",
   "name": "python",
   "nbconvert_exporter": "python",
   "pygments_lexer": "ipython3",
   "version": "3.8.15"
  }
 },
 "nbformat": 4,
 "nbformat_minor": 5
}
