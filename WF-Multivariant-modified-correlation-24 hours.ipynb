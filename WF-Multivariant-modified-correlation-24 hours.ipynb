{
 "cells": [
  {
   "cell_type": "code",
   "execution_count": 54,
   "id": "34bcb352",
   "metadata": {},
   "outputs": [],
   "source": [
    "import tensorflow as tf\n",
    "import os\n",
    "import pandas as pd\n",
    "import numpy as np\n",
    "import matplotlib as plt\n",
    "from sklearn.metrics import mean_squared_error as mse\n",
    "from sklearn.preprocessing import MinMaxScaler\n",
    "import warnings\n",
    "import matplotlib.pyplot as plt\n",
    "warnings.filterwarnings('ignore')\n",
    "%matplotlib inline"
   ]
  },
  {
   "cell_type": "code",
   "execution_count": 55,
   "id": "8de1d777",
   "metadata": {},
   "outputs": [],
   "source": [
    "df = pd.read_csv('timeseries.csv')\n"
   ]
  },
  {
   "cell_type": "code",
   "execution_count": 56,
   "id": "4aafd42e",
   "metadata": {},
   "outputs": [
    {
     "data": {
      "text/plain": [
       "96418                                        20201231:1007\n",
       "96419                                        20201231:1107\n",
       "96420                                        20201231:1207\n",
       "96421                                        20201231:1307\n",
       "96422                                        20201231:1407\n",
       "96423                                        20201231:1507\n",
       "96424                                        20201231:1607\n",
       "96425                                        20201231:1707\n",
       "96426                                        20201231:1807\n",
       "96427                                        20201231:1907\n",
       "96428                                        20201231:2007\n",
       "96429                                        20201231:2107\n",
       "96430                                        20201231:2207\n",
       "96431                                        20201231:2307\n",
       "96433    G(i): Global irradiance on the inclined plane ...\n",
       "96434                           H_sun: Sun height (degree)\n",
       "96435            T2m: 2-m air temperature (degree Celsius)\n",
       "96436                   WS10m: 10-m total wind speed (m/s)\n",
       "96437    Int: 1 means solar radiation values are recons...\n",
       "96441                             PVGIS (c) European Union\n",
       "Name: time, dtype: object"
      ]
     },
     "execution_count": 56,
     "metadata": {},
     "output_type": "execute_result"
    }
   ],
   "source": [
    "df = df.dropna(subset=['time']) \n",
    "df['time'].tail(20)\n",
    "# df['time'][78886]"
   ]
  },
  {
   "cell_type": "code",
   "execution_count": 57,
   "id": "e031791d",
   "metadata": {
    "scrolled": true
   },
   "outputs": [
    {
     "name": "stdout",
     "output_type": "stream",
     "text": [
      "       H_sun    T2m  WS10m\n",
      "96421   24.3  28.01   3.72\n",
      "96422   11.9  26.94   3.59\n",
      "96423    0.0  24.97   2.55\n",
      "96424    0.0  23.19   1.86\n",
      "96425    0.0  20.98   1.45\n",
      "96426    0.0  19.31   1.38\n",
      "96427    0.0  17.90   1.45\n",
      "96428    0.0  16.52   1.52\n",
      "96429    0.0  15.39   1.59\n",
      "96430    0.0  14.28   1.59\n",
      "H_sun    float64\n",
      "T2m      float64\n",
      "WS10m    float64\n",
      "dtype: object\n"
     ]
    }
   ],
   "source": [
    "df = df[:96431:]\n",
    "df_multi = df.iloc[:,2:5] # removing the time column \n",
    "df.tail(30)\n",
    "print(df_multi.tail(10))\n",
    "print(df_multi.dtypes)\n",
    "# y = [x for x in df['Int'] if x == 0.0]\n",
    "# print(y)b\n",
    "# type(df_multi)\n"
   ]
  },
  {
   "cell_type": "code",
   "execution_count": 58,
   "id": "028a46da",
   "metadata": {},
   "outputs": [
    {
     "name": "stdout",
     "output_type": "stream",
     "text": [
      "(96431, 3)\n",
      "[[0.         0.15526224 0.26194399]\n",
      " [0.         0.13581105 0.29489292]\n",
      " [0.         0.12782216 0.30642504]\n",
      " [0.03197405 0.12400139 0.31795717]\n",
      " [0.18153383 0.18339701 0.28336079]\n",
      " [0.32228916 0.32025009 0.28336079]\n",
      " [0.44775255 0.44911428 0.28336079]\n",
      " [0.54622335 0.51684613 0.27347611]\n",
      " [0.59905005 0.55331712 0.20428336]]\n"
     ]
    }
   ],
   "source": [
    "# Initialize the Min-Max Scaler\n",
    "\n",
    "scaler = MinMaxScaler(feature_range=(0, 1))\n",
    "\n",
    "# Fit and transform the data\n",
    "scaled_data = scaler.fit_transform(df_multi)\n",
    "print(scaled_data.shape)\n",
    "print(scaled_data[1:10,:])"
   ]
  },
  {
   "cell_type": "code",
   "execution_count": 59,
   "id": "545c72b0",
   "metadata": {},
   "outputs": [],
   "source": [
    "df_orignal_scaled = scaled_data\n",
    "df_orignal = df_multi\n",
    "df_scaled = scaled_data[:78888:]"
   ]
  },
  {
   "cell_type": "code",
   "execution_count": 60,
   "id": "5bdc65e8",
   "metadata": {},
   "outputs": [
    {
     "name": "stdout",
     "output_type": "stream",
     "text": [
      "[[0.         0.17262939 0.26194399]\n",
      " [0.         0.15526224 0.26194399]\n",
      " [0.         0.13581105 0.29489292]\n",
      " [0.         0.12782216 0.30642504]\n",
      " [0.03197405 0.12400139 0.31795717]]\n",
      "[0.18153383 0.18339701 0.28336079]\n"
     ]
    }
   ],
   "source": [
    "\n",
    "print(df_scaled[0:5,:]) # this it the input\n",
    "print(df_scaled[5,:]) # this is the output"
   ]
  },
  {
   "cell_type": "code",
   "execution_count": 61,
   "id": "3de6a076",
   "metadata": {},
   "outputs": [],
   "source": [
    "def df_to_X_y(df_as_np, window_size=5):\n",
    "#   df_as_np = df.to_numpy()\n",
    "  X = []\n",
    "  y = []\n",
    "  for i in range(len(df_as_np)-window_size):\n",
    "    row = [a for a in df_as_np[i:i+window_size,:]]\n",
    "    X.append(row)\n",
    "    label = df_as_np[i+window_size,:]\n",
    "    y.append(label)\n",
    "  return np.array(X), np.array(y)"
   ]
  },
  {
   "cell_type": "code",
   "execution_count": 62,
   "id": "0ea1be1c",
   "metadata": {},
   "outputs": [
    {
     "name": "stdout",
     "output_type": "stream",
     "text": [
      "[[0.         0.15526224 0.26194399]\n",
      " [0.         0.13581105 0.29489292]\n",
      " [0.         0.12782216 0.30642504]\n",
      " [0.03197405 0.12400139 0.31795717]\n",
      " [0.18153383 0.18339701 0.28336079]\n",
      " [0.32228916 0.32025009 0.28336079]\n",
      " [0.44775255 0.44911428 0.28336079]\n",
      " [0.54622335 0.51684613 0.27347611]\n",
      " [0.59905005 0.55331712 0.20428336]\n",
      " [0.58978221 0.59569295 0.12520593]]\n",
      "slfejlksdjlfkjdslkjfjlk\n",
      "[0.52201112 0.61653352 0.0461285 ]\n"
     ]
    },
    {
     "data": {
      "text/plain": [
       "((78878, 10, 3), (78878, 3))"
      ]
     },
     "execution_count": 62,
     "metadata": {},
     "output_type": "execute_result"
    }
   ],
   "source": [
    "WINDOW_SIZE = 10\n",
    "X1, y1 = df_to_X_y(df_scaled, WINDOW_SIZE)\n",
    "print(X1[1])\n",
    "print(\"slfejlksdjlfkjdslkjfjlk\")\n",
    "print(y1[1])\n",
    "X1.shape, y1.shape"
   ]
  },
  {
   "cell_type": "code",
   "execution_count": 63,
   "id": "8d26efb8",
   "metadata": {},
   "outputs": [
    {
     "data": {
      "text/plain": [
       "((61367, 10, 3),\n",
       " (61367, 3),\n",
       " (8760, 10, 3),\n",
       " (8760, 3),\n",
       " (8750, 10, 3),\n",
       " (8750, 3))"
      ]
     },
     "execution_count": 63,
     "metadata": {},
     "output_type": "execute_result"
    }
   ],
   "source": [
    "X_train1, y_train1 = X1[:61367], y1[:61367]\n",
    "X_val1, y_val1 = X1[61367:70127], y1[61367:70127] # 1 year for validation [61,367 , 70127]\n",
    "X_test1, y_test1 = X1[70128:], y1[70128:] #  1 year testing [70,128 , 78887]\n",
    "X_train1.shape, y_train1.shape, X_val1.shape, y_val1.shape, X_test1.shape, y_test1.shape\n"
   ]
  },
  {
   "cell_type": "code",
   "execution_count": 64,
   "id": "890206a4",
   "metadata": {},
   "outputs": [
    {
     "name": "stdout",
     "output_type": "stream",
     "text": [
      "Model: \"sequential_2\"\n",
      "_________________________________________________________________\n",
      " Layer (type)                Output Shape              Param #   \n",
      "=================================================================\n",
      " lstm_2 (LSTM)               (None, 64)                17408     \n",
      "                                                                 \n",
      " dense_4 (Dense)             (None, 8)                 520       \n",
      "                                                                 \n",
      " dense_5 (Dense)             (None, 3)                 27        \n",
      "                                                                 \n",
      "=================================================================\n",
      "Total params: 17,955\n",
      "Trainable params: 17,955\n",
      "Non-trainable params: 0\n",
      "_________________________________________________________________\n"
     ]
    }
   ],
   "source": [
    "from tensorflow.keras.models import Sequential\n",
    "from tensorflow.keras.layers import *\n",
    "from tensorflow.keras.callbacks import ModelCheckpoint\n",
    "from tensorflow.keras.losses import MeanSquaredError\n",
    "from tensorflow.keras.metrics import RootMeanSquaredError\n",
    "from tensorflow.keras.optimizers import Adam\n",
    "\n",
    "model1 = Sequential()\n",
    "model1.add(InputLayer((10, 3)))\n",
    "model1.add(LSTM(64))\n",
    "model1.add(Dense(8, 'relu'))\n",
    "model1.add(Dense(3, 'linear'))\n",
    "\n",
    "model1.summary()"
   ]
  },
  {
   "cell_type": "code",
   "execution_count": 65,
   "id": "19972ed9",
   "metadata": {},
   "outputs": [],
   "source": [
    "from tensorflow.keras.callbacks import EarlyStopping"
   ]
  },
  {
   "cell_type": "code",
   "execution_count": 66,
   "id": "7addce40",
   "metadata": {},
   "outputs": [],
   "source": [
    "early_stopping = EarlyStopping(monitor='val_loss', min_delta=0.01, patience=6, verbose=1, mode='min')"
   ]
  },
  {
   "cell_type": "code",
   "execution_count": 67,
   "id": "d8219317",
   "metadata": {},
   "outputs": [],
   "source": [
    "cp1 = ModelCheckpoint('model_correlation_24/', save_best_only=True)\n",
    "# metrics , learning rate, loss  can be changed \n",
    "model1.compile(loss=MeanSquaredError(), optimizer=Adam(learning_rate=0.001), metrics=[RootMeanSquaredError()])"
   ]
  },
  {
   "cell_type": "code",
   "execution_count": 81,
   "id": "dc237de2",
   "metadata": {
    "scrolled": true
   },
   "outputs": [
    {
     "name": "stdout",
     "output_type": "stream",
     "text": [
      "Epoch 1/100\n",
      "1911/1918 [============================>.] - ETA: 0s - loss: 0.0014 - root_mean_squared_error: 0.0373"
     ]
    },
    {
     "name": "stderr",
     "output_type": "stream",
     "text": [
      "WARNING:absl:Found untraced functions such as lstm_cell_5_layer_call_fn, lstm_cell_5_layer_call_and_return_conditional_losses while saving (showing 2 of 2). These functions will not be directly callable after loading.\n"
     ]
    },
    {
     "name": "stdout",
     "output_type": "stream",
     "text": [
      "INFO:tensorflow:Assets written to: model_correlation_24\\assets\n"
     ]
    },
    {
     "name": "stderr",
     "output_type": "stream",
     "text": [
      "INFO:tensorflow:Assets written to: model_correlation_24\\assets\n"
     ]
    },
    {
     "name": "stdout",
     "output_type": "stream",
     "text": [
      "1918/1918 [==============================] - 24s 11ms/step - loss: 0.0014 - root_mean_squared_error: 0.0374 - val_loss: 0.0016 - val_root_mean_squared_error: 0.0402\n",
      "Epoch 2/100\n",
      "1918/1918 [==============================] - ETA: 0s - loss: 0.0014 - root_mean_squared_error: 0.0368"
     ]
    },
    {
     "name": "stderr",
     "output_type": "stream",
     "text": [
      "WARNING:absl:Found untraced functions such as lstm_cell_5_layer_call_fn, lstm_cell_5_layer_call_and_return_conditional_losses while saving (showing 2 of 2). These functions will not be directly callable after loading.\n"
     ]
    },
    {
     "name": "stdout",
     "output_type": "stream",
     "text": [
      "INFO:tensorflow:Assets written to: model_correlation_24\\assets\n"
     ]
    },
    {
     "name": "stderr",
     "output_type": "stream",
     "text": [
      "INFO:tensorflow:Assets written to: model_correlation_24\\assets\n"
     ]
    },
    {
     "name": "stdout",
     "output_type": "stream",
     "text": [
      "1918/1918 [==============================] - 23s 12ms/step - loss: 0.0014 - root_mean_squared_error: 0.0368 - val_loss: 0.0016 - val_root_mean_squared_error: 0.0396\n",
      "Epoch 3/100\n",
      "1918/1918 [==============================] - 15s 8ms/step - loss: 0.0013 - root_mean_squared_error: 0.0364 - val_loss: 0.0016 - val_root_mean_squared_error: 0.0401\n",
      "Epoch 4/100\n",
      "1914/1918 [============================>.] - ETA: 0s - loss: 0.0013 - root_mean_squared_error: 0.0360"
     ]
    },
    {
     "name": "stderr",
     "output_type": "stream",
     "text": [
      "WARNING:absl:Found untraced functions such as lstm_cell_5_layer_call_fn, lstm_cell_5_layer_call_and_return_conditional_losses while saving (showing 2 of 2). These functions will not be directly callable after loading.\n"
     ]
    },
    {
     "name": "stdout",
     "output_type": "stream",
     "text": [
      "INFO:tensorflow:Assets written to: model_correlation_24\\assets\n"
     ]
    },
    {
     "name": "stderr",
     "output_type": "stream",
     "text": [
      "INFO:tensorflow:Assets written to: model_correlation_24\\assets\n"
     ]
    },
    {
     "name": "stdout",
     "output_type": "stream",
     "text": [
      "1918/1918 [==============================] - 24s 12ms/step - loss: 0.0013 - root_mean_squared_error: 0.0360 - val_loss: 0.0015 - val_root_mean_squared_error: 0.0384\n",
      "Epoch 5/100\n",
      "1918/1918 [==============================] - 15s 8ms/step - loss: 0.0013 - root_mean_squared_error: 0.0357 - val_loss: 0.0015 - val_root_mean_squared_error: 0.0387\n",
      "Epoch 6/100\n",
      "1918/1918 [==============================] - 16s 8ms/step - loss: 0.0012 - root_mean_squared_error: 0.0353 - val_loss: 0.0015 - val_root_mean_squared_error: 0.0385\n",
      "Epoch 7/100\n",
      "1914/1918 [============================>.] - ETA: 0s - loss: 0.0012 - root_mean_squared_error: 0.0351"
     ]
    },
    {
     "name": "stderr",
     "output_type": "stream",
     "text": [
      "WARNING:absl:Found untraced functions such as lstm_cell_5_layer_call_fn, lstm_cell_5_layer_call_and_return_conditional_losses while saving (showing 2 of 2). These functions will not be directly callable after loading.\n"
     ]
    },
    {
     "name": "stdout",
     "output_type": "stream",
     "text": [
      "INFO:tensorflow:Assets written to: model_correlation_24\\assets\n"
     ]
    },
    {
     "name": "stderr",
     "output_type": "stream",
     "text": [
      "INFO:tensorflow:Assets written to: model_correlation_24\\assets\n"
     ]
    },
    {
     "name": "stdout",
     "output_type": "stream",
     "text": [
      "1918/1918 [==============================] - 23s 12ms/step - loss: 0.0012 - root_mean_squared_error: 0.0351 - val_loss: 0.0014 - val_root_mean_squared_error: 0.0379\n",
      "Epoch 7: early stopping\n"
     ]
    }
   ],
   "source": [
    "history=model1.fit(X_train1, y_train1, validation_data=(X_val1, y_val1), epochs=100, callbacks=[cp1,early_stopping])"
   ]
  },
  {
   "cell_type": "code",
   "execution_count": 88,
   "id": "7673a361-2647-43a7-a4f2-d0b510883b1c",
   "metadata": {},
   "outputs": [
    {
     "data": {
      "image/png": "[encoded data removed]",
      "text/plain": [
       "<Figure size 1000x600 with 1 Axes>"
      ]
     },
     "metadata": {},
     "output_type": "display_data"
    }
   ],
   "source": [
    "plt.figure(figsize=(10, 6))\n",
    "plt.plot(history.history['loss'], label='Training Loss')\n",
    "plt.plot(history.history['val_loss'], label='Validation Loss')\n",
    "plt.title('Model Loss Over Epochs')\n",
    "plt.xlabel('Epochs')\n",
    "plt.ylabel('Loss')\n",
    "plt.legend()\n",
    "plt.grid(True)\n",
    "\n",
    "\n",
    "\n",
    "min_loss = min(min(history.history['loss']), min(history.history['val_loss']))\n",
    "max_loss = max(max(history.history['loss']), max(history.history['val_loss']))\n",
    "interval = 0.005  # Adjust the interval based on your specific needs\n",
    "ticks = np.arange(min_loss, max_loss + interval, interval)\n",
    "plt.yticks(ticks)\n",
    "\n",
    "\n",
    "\n",
    "plt.show()\n"
   ]
  },
  {
   "cell_type": "code",
   "execution_count": 69,
   "id": "a454c7f1",
   "metadata": {},
   "outputs": [],
   "source": [
    "from tensorflow.keras.models import load_model\n",
    "model1 = load_model('model_correlation_/')"
   ]
  },
  {
   "cell_type": "code",
   "execution_count": 70,
   "id": "bdda30eb",
   "metadata": {},
   "outputs": [
    {
     "name": "stdout",
     "output_type": "stream",
     "text": [
      "1918/1918 [==============================] - 6s 3ms/step\n"
     ]
    },
    {
     "data": {
      "text/html": [
       "<div>\n",
       "<style scoped>\n",
       "    .dataframe tbody tr th:only-of-type {\n",
       "        vertical-align: middle;\n",
       "    }\n",
       "\n",
       "    .dataframe tbody tr th {\n",
       "        vertical-align: top;\n",
       "    }\n",
       "\n",
       "    .dataframe thead th {\n",
       "        text-align: right;\n",
       "    }\n",
       "</style>\n",
       "<table border=\"1\" class=\"dataframe\">\n",
       "  <thead>\n",
       "    <tr style=\"text-align: right;\">\n",
       "      <th></th>\n",
       "      <th>Train Predictions</th>\n",
       "      <th>Actuals</th>\n",
       "    </tr>\n",
       "  </thead>\n",
       "  <tbody>\n",
       "    <tr>\n",
       "      <th>0</th>\n",
       "      <td>0.610289</td>\n",
       "      <td>0.589782</td>\n",
       "    </tr>\n",
       "    <tr>\n",
       "      <th>1</th>\n",
       "      <td>0.606678</td>\n",
       "      <td>0.595693</td>\n",
       "    </tr>\n",
       "    <tr>\n",
       "      <th>2</th>\n",
       "      <td>0.245379</td>\n",
       "      <td>0.125206</td>\n",
       "    </tr>\n",
       "    <tr>\n",
       "      <th>3</th>\n",
       "      <td>0.532137</td>\n",
       "      <td>0.522011</td>\n",
       "    </tr>\n",
       "    <tr>\n",
       "      <th>4</th>\n",
       "      <td>0.634707</td>\n",
       "      <td>0.616534</td>\n",
       "    </tr>\n",
       "    <tr>\n",
       "      <th>5</th>\n",
       "      <td>0.178306</td>\n",
       "      <td>0.046129</td>\n",
       "    </tr>\n",
       "    <tr>\n",
       "      <th>6</th>\n",
       "      <td>0.419119</td>\n",
       "      <td>0.414157</td>\n",
       "    </tr>\n",
       "    <tr>\n",
       "      <th>7</th>\n",
       "      <td>0.631062</td>\n",
       "      <td>0.623480</td>\n",
       "    </tr>\n",
       "    <tr>\n",
       "      <th>8</th>\n",
       "      <td>0.098811</td>\n",
       "      <td>0.034596</td>\n",
       "    </tr>\n",
       "    <tr>\n",
       "      <th>9</th>\n",
       "      <td>0.289756</td>\n",
       "      <td>0.283480</td>\n",
       "    </tr>\n",
       "    <tr>\n",
       "      <th>10</th>\n",
       "      <td>0.612300</td>\n",
       "      <td>0.613407</td>\n",
       "    </tr>\n",
       "    <tr>\n",
       "      <th>11</th>\n",
       "      <td>0.110554</td>\n",
       "      <td>0.079077</td>\n",
       "    </tr>\n",
       "    <tr>\n",
       "      <th>12</th>\n",
       "      <td>0.142901</td>\n",
       "      <td>0.139713</td>\n",
       "    </tr>\n",
       "    <tr>\n",
       "      <th>13</th>\n",
       "      <td>0.584015</td>\n",
       "      <td>0.589788</td>\n",
       "    </tr>\n",
       "    <tr>\n",
       "      <th>14</th>\n",
       "      <td>0.150507</td>\n",
       "      <td>0.102142</td>\n",
       "    </tr>\n",
       "    <tr>\n",
       "      <th>15</th>\n",
       "      <td>0.015951</td>\n",
       "      <td>0.000000</td>\n",
       "    </tr>\n",
       "    <tr>\n",
       "      <th>16</th>\n",
       "      <td>0.553093</td>\n",
       "      <td>0.535603</td>\n",
       "    </tr>\n",
       "    <tr>\n",
       "      <th>17</th>\n",
       "      <td>0.145995</td>\n",
       "      <td>0.136738</td>\n",
       "    </tr>\n",
       "    <tr>\n",
       "      <th>18</th>\n",
       "      <td>0.001204</td>\n",
       "      <td>0.000000</td>\n",
       "    </tr>\n",
       "    <tr>\n",
       "      <th>19</th>\n",
       "      <td>0.480469</td>\n",
       "      <td>0.472039</td>\n",
       "    </tr>\n",
       "    <tr>\n",
       "      <th>20</th>\n",
       "      <td>0.197053</td>\n",
       "      <td>0.227348</td>\n",
       "    </tr>\n",
       "    <tr>\n",
       "      <th>21</th>\n",
       "      <td>-0.002466</td>\n",
       "      <td>0.000000</td>\n",
       "    </tr>\n",
       "    <tr>\n",
       "      <th>22</th>\n",
       "      <td>0.411907</td>\n",
       "      <td>0.420285</td>\n",
       "    </tr>\n",
       "    <tr>\n",
       "      <th>23</th>\n",
       "      <td>0.265024</td>\n",
       "      <td>0.273476</td>\n",
       "    </tr>\n",
       "    <tr>\n",
       "      <th>24</th>\n",
       "      <td>-0.000580</td>\n",
       "      <td>0.000000</td>\n",
       "    </tr>\n",
       "    <tr>\n",
       "      <th>25</th>\n",
       "      <td>0.371800</td>\n",
       "      <td>0.364015</td>\n",
       "    </tr>\n",
       "    <tr>\n",
       "      <th>26</th>\n",
       "      <td>0.279694</td>\n",
       "      <td>0.273476</td>\n",
       "    </tr>\n",
       "    <tr>\n",
       "      <th>27</th>\n",
       "      <td>0.001119</td>\n",
       "      <td>0.000000</td>\n",
       "    </tr>\n",
       "    <tr>\n",
       "      <th>28</th>\n",
       "      <td>0.330713</td>\n",
       "      <td>0.303230</td>\n",
       "    </tr>\n",
       "    <tr>\n",
       "      <th>29</th>\n",
       "      <td>0.270360</td>\n",
       "      <td>0.317957</td>\n",
       "    </tr>\n",
       "  </tbody>\n",
       "</table>\n",
       "</div>"
      ],
      "text/plain": [
       "    Train Predictions   Actuals\n",
       "0            0.610289  0.589782\n",
       "1            0.606678  0.595693\n",
       "2            0.245379  0.125206\n",
       "3            0.532137  0.522011\n",
       "4            0.634707  0.616534\n",
       "5            0.178306  0.046129\n",
       "6            0.419119  0.414157\n",
       "7            0.631062  0.623480\n",
       "8            0.098811  0.034596\n",
       "9            0.289756  0.283480\n",
       "10           0.612300  0.613407\n",
       "11           0.110554  0.079077\n",
       "12           0.142901  0.139713\n",
       "13           0.584015  0.589788\n",
       "14           0.150507  0.102142\n",
       "15           0.015951  0.000000\n",
       "16           0.553093  0.535603\n",
       "17           0.145995  0.136738\n",
       "18           0.001204  0.000000\n",
       "19           0.480469  0.472039\n",
       "20           0.197053  0.227348\n",
       "21          -0.002466  0.000000\n",
       "22           0.411907  0.420285\n",
       "23           0.265024  0.273476\n",
       "24          -0.000580  0.000000\n",
       "25           0.371800  0.364015\n",
       "26           0.279694  0.273476\n",
       "27           0.001119  0.000000\n",
       "28           0.330713  0.303230\n",
       "29           0.270360  0.317957"
      ]
     },
     "execution_count": 70,
     "metadata": {},
     "output_type": "execute_result"
    }
   ],
   "source": [
    "train_predictions = model1.predict(X_train1).flatten()\n",
    "train_results = pd.DataFrame(data={'Train Predictions':train_predictions, 'Actuals':y_train1.flatten()})\n",
    "train_results.head(20)"
   ]
  },
  {
   "cell_type": "code",
   "execution_count": 71,
   "id": "50fdd92d",
   "metadata": {},
   "outputs": [
    {
     "data": {
      "text/plain": [
       "[<matplotlib.lines.Line2D at 0x12de83f5700>]"
      ]
     },
     "execution_count": 71,
     "metadata": {},
     "output_type": "execute_result"
    },
    {
     "data": {
      "image/png": "[encoded data removed]",
      "text/plain": [
       "<Figure size 640x480 with 1 Axes>"
      ]
     },
     "metadata": {},
     "output_type": "display_data"
    }
   ],
   "source": [
    "%matplotlib inline\n",
    "\n",
    "import matplotlib.pyplot as plt\n",
    "plt.plot(train_results['Train Predictions'][1:400:3])\n",
    "plt.plot(train_results['Actuals'][1:400:3])"
   ]
  },
  {
   "cell_type": "code",
   "execution_count": 72,
   "id": "479e2029",
   "metadata": {},
   "outputs": [
    {
     "name": "stdout",
     "output_type": "stream",
     "text": [
      "274/274 [==============================] - 1s 3ms/step\n"
     ]
    },
    {
     "data": {
      "text/html": [
       "<div>\n",
       "<style scoped>\n",
       "    .dataframe tbody tr th:only-of-type {\n",
       "        vertical-align: middle;\n",
       "    }\n",
       "\n",
       "    .dataframe tbody tr th {\n",
       "        vertical-align: top;\n",
       "    }\n",
       "\n",
       "    .dataframe thead th {\n",
       "        text-align: right;\n",
       "    }\n",
       "</style>\n",
       "<table border=\"1\" class=\"dataframe\">\n",
       "  <thead>\n",
       "    <tr style=\"text-align: right;\">\n",
       "      <th></th>\n",
       "      <th>Val Predictions</th>\n",
       "      <th>Actuals</th>\n",
       "    </tr>\n",
       "  </thead>\n",
       "  <tbody>\n",
       "    <tr>\n",
       "      <th>0</th>\n",
       "      <td>0.589563</td>\n",
       "      <td>0.599050</td>\n",
       "    </tr>\n",
       "    <tr>\n",
       "      <th>1</th>\n",
       "      <td>0.649648</td>\n",
       "      <td>0.641890</td>\n",
       "    </tr>\n",
       "    <tr>\n",
       "      <th>2</th>\n",
       "      <td>0.764986</td>\n",
       "      <td>0.772652</td>\n",
       "    </tr>\n",
       "    <tr>\n",
       "      <th>3</th>\n",
       "      <td>0.574409</td>\n",
       "      <td>0.589782</td>\n",
       "    </tr>\n",
       "    <tr>\n",
       "      <th>4</th>\n",
       "      <td>0.693126</td>\n",
       "      <td>0.689823</td>\n",
       "    </tr>\n",
       "    <tr>\n",
       "      <th>...</th>\n",
       "      <td>...</td>\n",
       "      <td>...</td>\n",
       "    </tr>\n",
       "    <tr>\n",
       "      <th>26275</th>\n",
       "      <td>0.539304</td>\n",
       "      <td>0.528656</td>\n",
       "    </tr>\n",
       "    <tr>\n",
       "      <th>26276</th>\n",
       "      <td>0.148329</td>\n",
       "      <td>0.090610</td>\n",
       "    </tr>\n",
       "    <tr>\n",
       "      <th>26277</th>\n",
       "      <td>0.554922</td>\n",
       "      <td>0.546223</td>\n",
       "    </tr>\n",
       "    <tr>\n",
       "      <th>26278</th>\n",
       "      <td>0.597952</td>\n",
       "      <td>0.595346</td>\n",
       "    </tr>\n",
       "    <tr>\n",
       "      <th>26279</th>\n",
       "      <td>0.124686</td>\n",
       "      <td>0.056013</td>\n",
       "    </tr>\n",
       "  </tbody>\n",
       "</table>\n",
       "<p>26280 rows × 2 columns</p>\n",
       "</div>"
      ],
      "text/plain": [
       "       Val Predictions   Actuals\n",
       "0             0.589563  0.599050\n",
       "1             0.649648  0.641890\n",
       "2             0.764986  0.772652\n",
       "3             0.574409  0.589782\n",
       "4             0.693126  0.689823\n",
       "...                ...       ...\n",
       "26275         0.539304  0.528656\n",
       "26276         0.148329  0.090610\n",
       "26277         0.554922  0.546223\n",
       "26278         0.597952  0.595346\n",
       "26279         0.124686  0.056013\n",
       "\n",
       "[26280 rows x 2 columns]"
      ]
     },
     "execution_count": 72,
     "metadata": {},
     "output_type": "execute_result"
    }
   ],
   "source": [
    "\n",
    "val_predictions = model1.predict(X_val1).flatten()\n",
    "val_results = pd.DataFrame(data={'Val Predictions':val_predictions, 'Actuals':y_val1.flatten()})\n",
    "val_results"
   ]
  },
  {
   "cell_type": "code",
   "execution_count": 73,
   "id": "f535c6a7",
   "metadata": {},
   "outputs": [
    {
     "data": {
      "text/plain": [
       "[<matplotlib.lines.Line2D at 0x12de7f73fa0>]"
      ]
     },
     "execution_count": 73,
     "metadata": {},
     "output_type": "execute_result"
    },
    {
     "data": {
      "image/png": "[encoded data removed]",
      "text/plain": [
       "<Figure size 640x480 with 1 Axes>"
      ]
     },
     "metadata": {},
     "output_type": "display_data"
    }
   ],
   "source": [
    "plt.plot(val_results['Val Predictions'][1:200:3])\n",
    "plt.plot(val_results['Actuals'][1:200:3])"
   ]
  },
  {
   "cell_type": "code",
   "execution_count": 74,
   "id": "d68a14e7",
   "metadata": {},
   "outputs": [
    {
     "name": "stdout",
     "output_type": "stream",
     "text": [
      "274/274 [==============================] - 1s 3ms/step\n"
     ]
    },
    {
     "data": {
      "text/html": [
       "<div>\n",
       "<style scoped>\n",
       "    .dataframe tbody tr th:only-of-type {\n",
       "        vertical-align: middle;\n",
       "    }\n",
       "\n",
       "    .dataframe tbody tr th {\n",
       "        vertical-align: top;\n",
       "    }\n",
       "\n",
       "    .dataframe thead th {\n",
       "        text-align: right;\n",
       "    }\n",
       "</style>\n",
       "<table border=\"1\" class=\"dataframe\">\n",
       "  <thead>\n",
       "    <tr style=\"text-align: right;\">\n",
       "      <th></th>\n",
       "      <th>Test Predictions</th>\n",
       "      <th>Actuals</th>\n",
       "    </tr>\n",
       "  </thead>\n",
       "  <tbody>\n",
       "    <tr>\n",
       "      <th>0</th>\n",
       "      <td>0.628783</td>\n",
       "      <td>0.589782</td>\n",
       "    </tr>\n",
       "    <tr>\n",
       "      <th>1</th>\n",
       "      <td>0.691749</td>\n",
       "      <td>0.687391</td>\n",
       "    </tr>\n",
       "    <tr>\n",
       "      <th>2</th>\n",
       "      <td>0.350283</td>\n",
       "      <td>0.341021</td>\n",
       "    </tr>\n",
       "    <tr>\n",
       "      <th>3</th>\n",
       "      <td>0.540319</td>\n",
       "      <td>0.522011</td>\n",
       "    </tr>\n",
       "    <tr>\n",
       "      <th>4</th>\n",
       "      <td>0.714456</td>\n",
       "      <td>0.709969</td>\n",
       "    </tr>\n",
       "    <tr>\n",
       "      <th>...</th>\n",
       "      <td>...</td>\n",
       "      <td>...</td>\n",
       "    </tr>\n",
       "    <tr>\n",
       "      <th>26245</th>\n",
       "      <td>0.314498</td>\n",
       "      <td>0.308093</td>\n",
       "    </tr>\n",
       "    <tr>\n",
       "      <th>26246</th>\n",
       "      <td>0.379330</td>\n",
       "      <td>0.375618</td>\n",
       "    </tr>\n",
       "    <tr>\n",
       "      <th>26247</th>\n",
       "      <td>0.005778</td>\n",
       "      <td>0.000000</td>\n",
       "    </tr>\n",
       "    <tr>\n",
       "      <th>26248</th>\n",
       "      <td>0.285444</td>\n",
       "      <td>0.278569</td>\n",
       "    </tr>\n",
       "    <tr>\n",
       "      <th>26249</th>\n",
       "      <td>0.388365</td>\n",
       "      <td>0.385502</td>\n",
       "    </tr>\n",
       "  </tbody>\n",
       "</table>\n",
       "<p>26250 rows × 2 columns</p>\n",
       "</div>"
      ],
      "text/plain": [
       "       Test Predictions   Actuals\n",
       "0              0.628783  0.589782\n",
       "1              0.691749  0.687391\n",
       "2              0.350283  0.341021\n",
       "3              0.540319  0.522011\n",
       "4              0.714456  0.709969\n",
       "...                 ...       ...\n",
       "26245          0.314498  0.308093\n",
       "26246          0.379330  0.375618\n",
       "26247          0.005778  0.000000\n",
       "26248          0.285444  0.278569\n",
       "26249          0.388365  0.385502\n",
       "\n",
       "[26250 rows x 2 columns]"
      ]
     },
     "execution_count": 74,
     "metadata": {},
     "output_type": "execute_result"
    }
   ],
   "source": [
    "test_predictions = model1.predict(X_test1).flatten()\n",
    "test_results = pd.DataFrame(data={'Test Predictions':test_predictions, 'Actuals':y_test1.flatten()})\n",
    "test_results"
   ]
  },
  {
   "cell_type": "code",
   "execution_count": 75,
   "id": "91a07b9d",
   "metadata": {},
   "outputs": [],
   "source": [
    "from sklearn.metrics import mean_squared_error as mse\n",
    "\n",
    "def plot_predictions1(model, X, y, start=1, end=400):\n",
    "  predictions = model.predict(X).flatten()\n",
    "  df = pd.DataFrame(data={'Predictions': predictions, 'Actuals':y})\n",
    "  plt.plot(df['Predictions'][start:end:3])\n",
    "  plt.plot(df['Actuals'][start:end:3])\n",
    "  return df, mse(predictions, y)"
   ]
  },
  {
   "cell_type": "code",
   "execution_count": 76,
   "id": "86df6333",
   "metadata": {},
   "outputs": [
    {
     "name": "stdout",
     "output_type": "stream",
     "text": [
      "274/274 [==============================] - 1s 3ms/step\n"
     ]
    },
    {
     "data": {
      "text/plain": [
       "(       Predictions   Actuals\n",
       " 0         0.628783  0.589782\n",
       " 1         0.691749  0.687391\n",
       " 2         0.350283  0.341021\n",
       " 3         0.540319  0.522011\n",
       " 4         0.714456  0.709969\n",
       " ...            ...       ...\n",
       " 26245     0.314498  0.308093\n",
       " 26246     0.379330  0.375618\n",
       " 26247     0.005778  0.000000\n",
       " 26248     0.285444  0.278569\n",
       " 26249     0.388365  0.385502\n",
       " \n",
       " [26250 rows x 2 columns],\n",
       " 0.001157619941666659)"
      ]
     },
     "execution_count": 76,
     "metadata": {},
     "output_type": "execute_result"
    },
    {
     "data": {
      "image/png": "[encoded data removed]",
      "text/plain": [
       "<Figure size 640x480 with 1 Axes>"
      ]
     },
     "metadata": {},
     "output_type": "display_data"
    }
   ],
   "source": [
    "plot_predictions1(model1, X_test1, y_test1.flatten())"
   ]
  },
  {
   "cell_type": "code",
   "execution_count": 77,
   "id": "05d10996",
   "metadata": {},
   "outputs": [
    {
     "name": "stdout",
     "output_type": "stream",
     "text": [
      "<class 'numpy.ndarray'>\n",
      "(10, 3)\n",
      "[[[0.         0.42097951 0.31795717]\n",
      "  [0.         0.37408823 0.34102142]\n",
      "  [0.         0.34560611 0.36408567]\n",
      "  [0.         0.30809309 0.37561779]\n",
      "  [0.         0.27856895 0.38550247]\n",
      "  [0.         0.25946509 0.3970346 ]\n",
      "  [0.         0.24175061 0.3970346 ]\n",
      "  [0.         0.22681487 0.3970346 ]\n",
      "  [0.         0.21048975 0.40856672]\n",
      "  [0.03197405 0.19590135 0.40856672]]]\n",
      "1/1 [==============================] - 0s 18ms/step\n",
      "[[0.13638443 0.23978274 0.4123229 ]]\n",
      "[[11.772704 13.103345  2.5028  ]]\n"
     ]
    }
   ],
   "source": [
    "kkk = df_orignal_scaled[78883:78893,:]\n",
    "print(type(kkk))\n",
    "print(kkk.shape)\n",
    "reshaped_array = np.reshape(kkk, (1, 10, 3))\n",
    "print(reshaped_array)\n",
    "predictions = model1.predict(reshaped_array)\n",
    "print(predictions)\n",
    " \n",
    "original= scaler.inverse_transform(predictions)\n",
    "print(original)\n",
    "# predictions\n",
    "# inverse_data = np.zeros((len(predictions), scaler.shape[1]))"
   ]
  },
  {
   "cell_type": "code",
   "execution_count": 78,
   "id": "8d388065",
   "metadata": {},
   "outputs": [
    {
     "name": "stdout",
     "output_type": "stream",
     "text": [
      "1/1 [==============================] - 0s 18ms/step\n",
      "1/1 [==============================] - 0s 24ms/step\n",
      "1/1 [==============================] - 0s 24ms/step\n",
      "1/1 [==============================] - 0s 22ms/step\n",
      "1/1 [==============================] - 0s 31ms/step\n",
      "1/1 [==============================] - 0s 25ms/step\n",
      "1/1 [==============================] - 0s 23ms/step\n",
      "1/1 [==============================] - 0s 24ms/step\n",
      "1/1 [==============================] - 0s 23ms/step\n",
      "1/1 [==============================] - 0s 20ms/step\n",
      "1/1 [==============================] - 0s 22ms/step\n",
      "1/1 [==============================] - 0s 23ms/step\n",
      "1/1 [==============================] - 0s 17ms/step\n",
      "1/1 [==============================] - 0s 24ms/step\n",
      "1/1 [==============================] - 0s 20ms/step\n",
      "1/1 [==============================] - 0s 20ms/step\n",
      "1/1 [==============================] - 0s 23ms/step\n",
      "1/1 [==============================] - 0s 26ms/step\n",
      "1/1 [==============================] - 0s 26ms/step\n",
      "1/1 [==============================] - 0s 24ms/step\n",
      "1/1 [==============================] - 0s 25ms/step\n",
      "1/1 [==============================] - 0s 20ms/step\n",
      "1/1 [==============================] - 0s 29ms/step\n",
      "1/1 [==============================] - 0s 25ms/step\n",
      "[array([[0.13638443, 0.23978274, 0.4123229 ]], dtype=float32), array([[0.29315057, 0.3534329 , 0.43934605]], dtype=float32), array([[0.45646694, 0.485999  , 0.51713324]], dtype=float32), array([[0.5875768 , 0.5859454 , 0.58420897]], dtype=float32), array([[0.68751466, 0.6622773 , 0.55174106]], dtype=float32), array([[0.7267205 , 0.71479905, 0.45779875]], dtype=float32), array([[0.6728509 , 0.74719554, 0.37608656]], dtype=float32), array([[0.5580768, 0.7618171, 0.330287 ]], dtype=float32), array([[0.4293008 , 0.758544  , 0.31585154]], dtype=float32), array([[0.29208112, 0.739002  , 0.32195762]], dtype=float32), array([[0.14213178, 0.7032147 , 0.31981865]], dtype=float32), array([[0.01164162, 0.64790046, 0.29780018]], dtype=float32), array([[0.00118009, 0.5846263 , 0.2963304 ]], dtype=float32), array([[-3.2110140e-04,  5.1987058e-01,  3.0223766e-01]], dtype=float32), array([[2.5822781e-05, 4.6758837e-01, 3.0408454e-01]], dtype=float32), array([[3.2756152e-04, 4.2570031e-01, 3.0406800e-01]], dtype=float32), array([[-2.2412278e-04,  3.8824970e-01,  3.0670270e-01]], dtype=float32), array([[0.00076499, 0.3543707 , 0.31413537]], dtype=float32), array([[0.00079948, 0.3246001 , 0.3234967 ]], dtype=float32), array([[-1.8680654e-04,  2.9857194e-01,  3.3219469e-01]], dtype=float32), array([[0.00864962, 0.28262258, 0.33883476]], dtype=float32), array([[0.04591916, 0.28864616, 0.3444394 ]], dtype=float32), array([[0.12036012, 0.3271129 , 0.3565895 ]], dtype=float32), array([[0.22699666, 0.3970434 , 0.38752946]], dtype=float32)]\n"
     ]
    }
   ],
   "source": [
    "\n",
    "input = df_orignal_scaled[78883:78893,:]  # Initial input extracted from your original scaled DataFrame\n",
    "output_scaled = []  \n",
    "output_not_scaled = [] \n",
    "\n",
    "for i in range(24):\n",
    "    # Reshape input for the model prediction\n",
    "    reshaped_array = np.reshape(input, (1, 10, 3))\n",
    "    scaled_prediction = model1.predict(reshaped_array)\n",
    "    \n",
    "    # Reshape the prediction to match the input shape if necessary\n",
    "    # This example assumes the model returns a prediction with shape (1, 4)\n",
    "    # Adjust the reshaping based on the actual shape of your model's output\n",
    "    scaled_prediction_reshaped = np.reshape(scaled_prediction, (1, 3))\n",
    "    input = np.reshape(input, (10, 3))  # Ensure input is in the correct shape before appending\n",
    "    # Append the new prediction at the end of the input array\n",
    "    input = np.vstack([input, scaled_prediction_reshaped])  # Stack vertically to add as a new row\n",
    "    \n",
    "    # Remove the oldest entry to maintain the sliding window of input data\n",
    "    input = input[1:, :]  # Keep the last 5 entries, including the newly added prediction\n",
    " \n",
    "    output_scaled.append(scaled_prediction)\n",
    "\n",
    "\n",
    "# print(output_scaled)  # Remains empty, uncomment if needed\n",
    "print(output_scaled)  # Print or process the predictions as \n",
    "\n",
    "\n"
   ]
  },
  {
   "cell_type": "code",
   "execution_count": 79,
   "id": "0c262722",
   "metadata": {},
   "outputs": [
    {
     "name": "stdout",
     "output_type": "stream",
     "text": [
      "this is the real scaled output\n",
      "[[11.772704 13.103345  2.5028  ]]\n",
      "[[25.304758  16.375332   2.6668305]]\n",
      "[[39.402225  20.19191    3.1389987]]\n",
      "[[50.71963   23.069368   3.5461485]]\n",
      "[[59.346264  25.266962   3.3490682]]\n",
      "[[62.730515  26.779064   2.7788384]]\n",
      "[[58.08049   27.71176    2.2828455]]\n",
      "[[48.17319  28.132713  2.004842]]\n",
      "[[37.057247  28.038483   1.9172188]]\n",
      "[[25.212442  27.475866   1.9542828]]\n",
      "[[12.268815  26.44555    1.9412992]]\n",
      "[[ 1.0049045 24.853054   1.8076471]]\n",
      "[[ 0.10186557 23.031391    1.7987255 ]]\n",
      "[[-0.02771747 21.167074    1.8345826 ]]\n",
      "[[2.2290226e-03 1.9661869e+01 1.8457931e+00]]\n",
      "[[ 0.02827511 18.455912    1.8456928 ]]\n",
      "[[-0.01934628 17.377708    1.8616854 ]]\n",
      "[[ 0.06603376 16.402332    1.9068017 ]]\n",
      "[[ 0.0690107 15.545237   1.963625 ]]\n",
      "[[-0.01612514 14.795886    2.0164218 ]]\n",
      "[[ 0.7466349 14.336704   2.056727 ]]\n",
      "[[ 3.963742 14.510122  2.090747]]\n",
      "[[10.389485  15.61758    2.1644983]]\n",
      "[[19.59435   17.630878   2.3523037]]\n"
     ]
    }
   ],
   "source": [
    "print(\"this is the real scaled output\")\n",
    "for i in output_scaled:\n",
    "    original= scaler.inverse_transform(i)\n",
    "    print(original)"
   ]
  },
  {
   "cell_type": "code",
   "execution_count": null,
   "id": "dc28c8eb",
   "metadata": {},
   "outputs": [],
   "source": []
  },
  {
   "cell_type": "code",
   "execution_count": null,
   "id": "2709c5a1",
   "metadata": {},
   "outputs": [],
   "source": []
  },
  {
   "cell_type": "code",
   "execution_count": null,
   "id": "2c3d49a3",
   "metadata": {},
   "outputs": [],
   "source": []
  },
  {
   "cell_type": "code",
   "execution_count": null,
   "id": "1dc124bd",
   "metadata": {},
   "outputs": [],
   "source": []
  },
  {
   "cell_type": "code",
   "execution_count": null,
   "id": "96f37ea1",
   "metadata": {},
   "outputs": [],
   "source": []
  },
  {
   "cell_type": "code",
   "execution_count": null,
   "id": "eba8093b",
   "metadata": {},
   "outputs": [],
   "source": []
  }
 ],
 "metadata": {
  "kernelspec": {
   "display_name": "Python 3 (ipykernel)",
   "language": "python",
   "name": "python3"
  },
  "language_info": {
   "codemirror_mode": {
    "name": "ipython",
    "version": 3
   },
   "file_extension": ".py",
   "mimetype": "text/x-python",
   "name": "python",
   "nbconvert_exporter": "python",
   "pygments_lexer": "ipython3",
   "version": "3.8.15"
  }
 },
 "nbformat": 4,
 "nbformat_minor": 5
}
