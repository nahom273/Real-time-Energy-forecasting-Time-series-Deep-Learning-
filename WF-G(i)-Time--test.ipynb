{
 "cells": [
  {
   "cell_type": "code",
   "execution_count": 2,
   "id": "34bcb352",
   "metadata": {},
   "outputs": [],
   "source": [
    "import tensorflow as tf\n",
    "import os\n",
    "import pandas as pd\n",
    "import numpy as np\n",
    "import matplotlib as plt\n",
    "from sklearn.metrics import mean_squared_error as mse\n",
    "from sklearn.preprocessing import MinMaxScaler\n",
    "import warnings\n",
    "import matplotlib.pyplot as plt\n",
    "warnings.filterwarnings('ignore')\n",
    "%matplotlib inline"
   ]
  },
  {
   "cell_type": "code",
   "execution_count": 3,
   "id": "8de1d777",
   "metadata": {},
   "outputs": [],
   "source": [
    "df = pd.read_csv('timeseries.csv')\n"
   ]
  },
  {
   "cell_type": "code",
   "execution_count": 4,
   "id": "4aafd42e",
   "metadata": {
    "scrolled": true
   },
   "outputs": [
    {
     "data": {
      "text/html": [
       "<div>\n",
       "<style scoped>\n",
       "    .dataframe tbody tr th:only-of-type {\n",
       "        vertical-align: middle;\n",
       "    }\n",
       "\n",
       "    .dataframe tbody tr th {\n",
       "        vertical-align: top;\n",
       "    }\n",
       "\n",
       "    .dataframe thead th {\n",
       "        text-align: right;\n",
       "    }\n",
       "</style>\n",
       "<table border=\"1\" class=\"dataframe\">\n",
       "  <thead>\n",
       "    <tr style=\"text-align: right;\">\n",
       "      <th></th>\n",
       "      <th>G(i)</th>\n",
       "    </tr>\n",
       "    <tr>\n",
       "      <th>time</th>\n",
       "      <th></th>\n",
       "    </tr>\n",
       "  </thead>\n",
       "  <tbody>\n",
       "    <tr>\n",
       "      <th>2010-01-01 00:07:00</th>\n",
       "      <td>0</td>\n",
       "    </tr>\n",
       "    <tr>\n",
       "      <th>2010-01-01 01:07:00</th>\n",
       "      <td>0</td>\n",
       "    </tr>\n",
       "    <tr>\n",
       "      <th>2010-01-01 02:07:00</th>\n",
       "      <td>0</td>\n",
       "    </tr>\n",
       "    <tr>\n",
       "      <th>2010-01-01 03:07:00</th>\n",
       "      <td>0</td>\n",
       "    </tr>\n",
       "    <tr>\n",
       "      <th>2010-01-01 04:07:00</th>\n",
       "      <td>91.98</td>\n",
       "    </tr>\n",
       "    <tr>\n",
       "      <th>...</th>\n",
       "      <td>...</td>\n",
       "    </tr>\n",
       "    <tr>\n",
       "      <th>2020-12-31 18:07:00</th>\n",
       "      <td>0</td>\n",
       "    </tr>\n",
       "    <tr>\n",
       "      <th>2020-12-31 19:07:00</th>\n",
       "      <td>0</td>\n",
       "    </tr>\n",
       "    <tr>\n",
       "      <th>2020-12-31 20:07:00</th>\n",
       "      <td>0</td>\n",
       "    </tr>\n",
       "    <tr>\n",
       "      <th>2020-12-31 21:07:00</th>\n",
       "      <td>0</td>\n",
       "    </tr>\n",
       "    <tr>\n",
       "      <th>2020-12-31 22:07:00</th>\n",
       "      <td>0</td>\n",
       "    </tr>\n",
       "  </tbody>\n",
       "</table>\n",
       "<p>96431 rows × 1 columns</p>\n",
       "</div>"
      ],
      "text/plain": [
       "                      G(i)\n",
       "time                      \n",
       "2010-01-01 00:07:00      0\n",
       "2010-01-01 01:07:00      0\n",
       "2010-01-01 02:07:00      0\n",
       "2010-01-01 03:07:00      0\n",
       "2010-01-01 04:07:00  91.98\n",
       "...                    ...\n",
       "2020-12-31 18:07:00      0\n",
       "2020-12-31 19:07:00      0\n",
       "2020-12-31 20:07:00      0\n",
       "2020-12-31 21:07:00      0\n",
       "2020-12-31 22:07:00      0\n",
       "\n",
       "[96431 rows x 1 columns]"
      ]
     },
     "execution_count": 4,
     "metadata": {},
     "output_type": "execute_result"
    }
   ],
   "source": [
    "df = df.dropna(subset=['time']) \n",
    "df.tail(20)\n",
    "df = df[:96431:]\n",
    "# df['time'][78886]\n",
    "df.index = pd.to_datetime(df['time'], format='%Y%m%d:%H%M')\n",
    "df =  df.drop([\"time\",\"H_sun\",\"T2m\",\"WS10m\",\"Int\"], axis = 1)\n",
    "df"
   ]
  },
  {
   "cell_type": "code",
   "execution_count": 5,
   "id": "6d906f33-3d0b-4ca5-8fc8-c9764af28eb6",
   "metadata": {},
   "outputs": [
    {
     "data": {
      "text/html": [
       "<div>\n",
       "<style scoped>\n",
       "    .dataframe tbody tr th:only-of-type {\n",
       "        vertical-align: middle;\n",
       "    }\n",
       "\n",
       "    .dataframe tbody tr th {\n",
       "        vertical-align: top;\n",
       "    }\n",
       "\n",
       "    .dataframe thead th {\n",
       "        text-align: right;\n",
       "    }\n",
       "</style>\n",
       "<table border=\"1\" class=\"dataframe\">\n",
       "  <thead>\n",
       "    <tr style=\"text-align: right;\">\n",
       "      <th></th>\n",
       "      <th>G(i)</th>\n",
       "      <th>Seconds</th>\n",
       "    </tr>\n",
       "    <tr>\n",
       "      <th>time</th>\n",
       "      <th></th>\n",
       "      <th></th>\n",
       "    </tr>\n",
       "  </thead>\n",
       "  <tbody>\n",
       "    <tr>\n",
       "      <th>2010-01-01 00:07:00</th>\n",
       "      <td>0</td>\n",
       "      <td>1.262304e+09</td>\n",
       "    </tr>\n",
       "    <tr>\n",
       "      <th>2010-01-01 01:07:00</th>\n",
       "      <td>0</td>\n",
       "      <td>1.262308e+09</td>\n",
       "    </tr>\n",
       "    <tr>\n",
       "      <th>2010-01-01 02:07:00</th>\n",
       "      <td>0</td>\n",
       "      <td>1.262312e+09</td>\n",
       "    </tr>\n",
       "    <tr>\n",
       "      <th>2010-01-01 03:07:00</th>\n",
       "      <td>0</td>\n",
       "      <td>1.262315e+09</td>\n",
       "    </tr>\n",
       "    <tr>\n",
       "      <th>2010-01-01 04:07:00</th>\n",
       "      <td>91.98</td>\n",
       "      <td>1.262319e+09</td>\n",
       "    </tr>\n",
       "    <tr>\n",
       "      <th>...</th>\n",
       "      <td>...</td>\n",
       "      <td>...</td>\n",
       "    </tr>\n",
       "    <tr>\n",
       "      <th>2020-12-31 18:07:00</th>\n",
       "      <td>0</td>\n",
       "      <td>1.609438e+09</td>\n",
       "    </tr>\n",
       "    <tr>\n",
       "      <th>2020-12-31 19:07:00</th>\n",
       "      <td>0</td>\n",
       "      <td>1.609442e+09</td>\n",
       "    </tr>\n",
       "    <tr>\n",
       "      <th>2020-12-31 20:07:00</th>\n",
       "      <td>0</td>\n",
       "      <td>1.609445e+09</td>\n",
       "    </tr>\n",
       "    <tr>\n",
       "      <th>2020-12-31 21:07:00</th>\n",
       "      <td>0</td>\n",
       "      <td>1.609449e+09</td>\n",
       "    </tr>\n",
       "    <tr>\n",
       "      <th>2020-12-31 22:07:00</th>\n",
       "      <td>0</td>\n",
       "      <td>1.609452e+09</td>\n",
       "    </tr>\n",
       "  </tbody>\n",
       "</table>\n",
       "<p>96431 rows × 2 columns</p>\n",
       "</div>"
      ],
      "text/plain": [
       "                      G(i)       Seconds\n",
       "time                                    \n",
       "2010-01-01 00:07:00      0  1.262304e+09\n",
       "2010-01-01 01:07:00      0  1.262308e+09\n",
       "2010-01-01 02:07:00      0  1.262312e+09\n",
       "2010-01-01 03:07:00      0  1.262315e+09\n",
       "2010-01-01 04:07:00  91.98  1.262319e+09\n",
       "...                    ...           ...\n",
       "2020-12-31 18:07:00      0  1.609438e+09\n",
       "2020-12-31 19:07:00      0  1.609442e+09\n",
       "2020-12-31 20:07:00      0  1.609445e+09\n",
       "2020-12-31 21:07:00      0  1.609449e+09\n",
       "2020-12-31 22:07:00      0  1.609452e+09\n",
       "\n",
       "[96431 rows x 2 columns]"
      ]
     },
     "execution_count": 5,
     "metadata": {},
     "output_type": "execute_result"
    }
   ],
   "source": [
    "df[\"Seconds\"] = df.index.map(pd.Timestamp.timestamp)\n",
    "df"
   ]
  },
  {
   "cell_type": "code",
   "execution_count": 6,
   "id": "e7a10218-9a12-4785-96e5-503bee3b053b",
   "metadata": {},
   "outputs": [
    {
     "data": {
      "text/html": [
       "<div>\n",
       "<style scoped>\n",
       "    .dataframe tbody tr th:only-of-type {\n",
       "        vertical-align: middle;\n",
       "    }\n",
       "\n",
       "    .dataframe tbody tr th {\n",
       "        vertical-align: top;\n",
       "    }\n",
       "\n",
       "    .dataframe thead th {\n",
       "        text-align: right;\n",
       "    }\n",
       "</style>\n",
       "<table border=\"1\" class=\"dataframe\">\n",
       "  <thead>\n",
       "    <tr style=\"text-align: right;\">\n",
       "      <th></th>\n",
       "      <th>G(i)</th>\n",
       "      <th>Seconds</th>\n",
       "      <th>day sin</th>\n",
       "      <th>day cos</th>\n",
       "    </tr>\n",
       "    <tr>\n",
       "      <th>time</th>\n",
       "      <th></th>\n",
       "      <th></th>\n",
       "      <th></th>\n",
       "      <th></th>\n",
       "    </tr>\n",
       "  </thead>\n",
       "  <tbody>\n",
       "    <tr>\n",
       "      <th>2010-01-01 00:07:00</th>\n",
       "      <td>0</td>\n",
       "      <td>1.262304e+09</td>\n",
       "      <td>0.030539</td>\n",
       "      <td>0.999534</td>\n",
       "    </tr>\n",
       "    <tr>\n",
       "      <th>2010-01-01 01:07:00</th>\n",
       "      <td>0</td>\n",
       "      <td>1.262308e+09</td>\n",
       "      <td>0.288196</td>\n",
       "      <td>0.957571</td>\n",
       "    </tr>\n",
       "    <tr>\n",
       "      <th>2010-01-01 02:07:00</th>\n",
       "      <td>0</td>\n",
       "      <td>1.262312e+09</td>\n",
       "      <td>0.526214</td>\n",
       "      <td>0.850352</td>\n",
       "    </tr>\n",
       "    <tr>\n",
       "      <th>2010-01-01 03:07:00</th>\n",
       "      <td>0</td>\n",
       "      <td>1.262315e+09</td>\n",
       "      <td>0.728371</td>\n",
       "      <td>0.685183</td>\n",
       "    </tr>\n",
       "    <tr>\n",
       "      <th>2010-01-01 04:07:00</th>\n",
       "      <td>91.98</td>\n",
       "      <td>1.262319e+09</td>\n",
       "      <td>0.880891</td>\n",
       "      <td>0.473320</td>\n",
       "    </tr>\n",
       "    <tr>\n",
       "      <th>...</th>\n",
       "      <td>...</td>\n",
       "      <td>...</td>\n",
       "      <td>...</td>\n",
       "      <td>...</td>\n",
       "    </tr>\n",
       "    <tr>\n",
       "      <th>2020-12-31 18:07:00</th>\n",
       "      <td>0</td>\n",
       "      <td>1.609438e+09</td>\n",
       "      <td>-0.999534</td>\n",
       "      <td>0.030539</td>\n",
       "    </tr>\n",
       "    <tr>\n",
       "      <th>2020-12-31 19:07:00</th>\n",
       "      <td>0</td>\n",
       "      <td>1.609442e+09</td>\n",
       "      <td>-0.957571</td>\n",
       "      <td>0.288196</td>\n",
       "    </tr>\n",
       "    <tr>\n",
       "      <th>2020-12-31 20:07:00</th>\n",
       "      <td>0</td>\n",
       "      <td>1.609445e+09</td>\n",
       "      <td>-0.850352</td>\n",
       "      <td>0.526214</td>\n",
       "    </tr>\n",
       "    <tr>\n",
       "      <th>2020-12-31 21:07:00</th>\n",
       "      <td>0</td>\n",
       "      <td>1.609449e+09</td>\n",
       "      <td>-0.685183</td>\n",
       "      <td>0.728371</td>\n",
       "    </tr>\n",
       "    <tr>\n",
       "      <th>2020-12-31 22:07:00</th>\n",
       "      <td>0</td>\n",
       "      <td>1.609452e+09</td>\n",
       "      <td>-0.473320</td>\n",
       "      <td>0.880891</td>\n",
       "    </tr>\n",
       "  </tbody>\n",
       "</table>\n",
       "<p>96431 rows × 4 columns</p>\n",
       "</div>"
      ],
      "text/plain": [
       "                      G(i)       Seconds   day sin   day cos\n",
       "time                                                        \n",
       "2010-01-01 00:07:00      0  1.262304e+09  0.030539  0.999534\n",
       "2010-01-01 01:07:00      0  1.262308e+09  0.288196  0.957571\n",
       "2010-01-01 02:07:00      0  1.262312e+09  0.526214  0.850352\n",
       "2010-01-01 03:07:00      0  1.262315e+09  0.728371  0.685183\n",
       "2010-01-01 04:07:00  91.98  1.262319e+09  0.880891  0.473320\n",
       "...                    ...           ...       ...       ...\n",
       "2020-12-31 18:07:00      0  1.609438e+09 -0.999534  0.030539\n",
       "2020-12-31 19:07:00      0  1.609442e+09 -0.957571  0.288196\n",
       "2020-12-31 20:07:00      0  1.609445e+09 -0.850352  0.526214\n",
       "2020-12-31 21:07:00      0  1.609449e+09 -0.685183  0.728371\n",
       "2020-12-31 22:07:00      0  1.609452e+09 -0.473320  0.880891\n",
       "\n",
       "[96431 rows x 4 columns]"
      ]
     },
     "execution_count": 6,
     "metadata": {},
     "output_type": "execute_result"
    }
   ],
   "source": [
    "day  = 60 * 60 * 24\n",
    "year =  365.2425 * day\n",
    "month = 30 * day\n",
    "\n",
    "df [\"day sin\"] = np.sin(df['Seconds'] * ( 2 * np.pi /day))\n",
    "df [\"day cos\"] = np.cos(df['Seconds'] * ( 2 * np.pi /day))\n",
    "# df [\"year sin\"] = np.sin(df['Seconds'] * ( 2 * np.pi /year))\n",
    "# df [\"year cos\"] = np.cos(df['Seconds'] * ( 2 * np.pi /year))\n",
    "df\n",
    "  "
   ]
  },
  {
   "cell_type": "code",
   "execution_count": 7,
   "id": "3edbaa41-a4b1-4530-9895-17c4b64aaf94",
   "metadata": {},
   "outputs": [
    {
     "data": {
      "text/html": [
       "<div>\n",
       "<style scoped>\n",
       "    .dataframe tbody tr th:only-of-type {\n",
       "        vertical-align: middle;\n",
       "    }\n",
       "\n",
       "    .dataframe tbody tr th {\n",
       "        vertical-align: top;\n",
       "    }\n",
       "\n",
       "    .dataframe thead th {\n",
       "        text-align: right;\n",
       "    }\n",
       "</style>\n",
       "<table border=\"1\" class=\"dataframe\">\n",
       "  <thead>\n",
       "    <tr style=\"text-align: right;\">\n",
       "      <th></th>\n",
       "      <th>G(i)</th>\n",
       "      <th>day sin</th>\n",
       "      <th>day cos</th>\n",
       "    </tr>\n",
       "    <tr>\n",
       "      <th>time</th>\n",
       "      <th></th>\n",
       "      <th></th>\n",
       "      <th></th>\n",
       "    </tr>\n",
       "  </thead>\n",
       "  <tbody>\n",
       "    <tr>\n",
       "      <th>2010-01-01 00:07:00</th>\n",
       "      <td>0</td>\n",
       "      <td>0.030539</td>\n",
       "      <td>0.999534</td>\n",
       "    </tr>\n",
       "    <tr>\n",
       "      <th>2010-01-01 01:07:00</th>\n",
       "      <td>0</td>\n",
       "      <td>0.288196</td>\n",
       "      <td>0.957571</td>\n",
       "    </tr>\n",
       "    <tr>\n",
       "      <th>2010-01-01 02:07:00</th>\n",
       "      <td>0</td>\n",
       "      <td>0.526214</td>\n",
       "      <td>0.850352</td>\n",
       "    </tr>\n",
       "    <tr>\n",
       "      <th>2010-01-01 03:07:00</th>\n",
       "      <td>0</td>\n",
       "      <td>0.728371</td>\n",
       "      <td>0.685183</td>\n",
       "    </tr>\n",
       "    <tr>\n",
       "      <th>2010-01-01 04:07:00</th>\n",
       "      <td>91.98</td>\n",
       "      <td>0.880891</td>\n",
       "      <td>0.473320</td>\n",
       "    </tr>\n",
       "    <tr>\n",
       "      <th>2010-01-01 05:07:00</th>\n",
       "      <td>432.28</td>\n",
       "      <td>0.973379</td>\n",
       "      <td>0.229200</td>\n",
       "    </tr>\n",
       "    <tr>\n",
       "      <th>2010-01-01 06:07:00</th>\n",
       "      <td>681.34</td>\n",
       "      <td>0.999534</td>\n",
       "      <td>-0.030539</td>\n",
       "    </tr>\n",
       "    <tr>\n",
       "      <th>2010-01-01 07:07:00</th>\n",
       "      <td>867.69</td>\n",
       "      <td>0.957571</td>\n",
       "      <td>-0.288196</td>\n",
       "    </tr>\n",
       "    <tr>\n",
       "      <th>2010-01-01 08:07:00</th>\n",
       "      <td>987.62</td>\n",
       "      <td>0.850352</td>\n",
       "      <td>-0.526214</td>\n",
       "    </tr>\n",
       "    <tr>\n",
       "      <th>2010-01-01 09:07:00</th>\n",
       "      <td>1034.38</td>\n",
       "      <td>0.685183</td>\n",
       "      <td>-0.728371</td>\n",
       "    </tr>\n",
       "    <tr>\n",
       "      <th>2010-01-01 10:07:00</th>\n",
       "      <td>998.94</td>\n",
       "      <td>0.473320</td>\n",
       "      <td>-0.880891</td>\n",
       "    </tr>\n",
       "    <tr>\n",
       "      <th>2010-01-01 11:07:00</th>\n",
       "      <td>887.09</td>\n",
       "      <td>0.229200</td>\n",
       "      <td>-0.973379</td>\n",
       "    </tr>\n",
       "    <tr>\n",
       "      <th>2010-01-01 12:07:00</th>\n",
       "      <td>702.6</td>\n",
       "      <td>-0.030539</td>\n",
       "      <td>-0.999534</td>\n",
       "    </tr>\n",
       "    <tr>\n",
       "      <th>2010-01-01 13:07:00</th>\n",
       "      <td>472.43</td>\n",
       "      <td>-0.288196</td>\n",
       "      <td>-0.957571</td>\n",
       "    </tr>\n",
       "    <tr>\n",
       "      <th>2010-01-01 14:07:00</th>\n",
       "      <td>208.97</td>\n",
       "      <td>-0.526214</td>\n",
       "      <td>-0.850352</td>\n",
       "    </tr>\n",
       "    <tr>\n",
       "      <th>2010-01-01 15:07:00</th>\n",
       "      <td>0</td>\n",
       "      <td>-0.728371</td>\n",
       "      <td>-0.685183</td>\n",
       "    </tr>\n",
       "    <tr>\n",
       "      <th>2010-01-01 16:07:00</th>\n",
       "      <td>0</td>\n",
       "      <td>-0.880891</td>\n",
       "      <td>-0.473320</td>\n",
       "    </tr>\n",
       "    <tr>\n",
       "      <th>2010-01-01 17:07:00</th>\n",
       "      <td>0</td>\n",
       "      <td>-0.973379</td>\n",
       "      <td>-0.229200</td>\n",
       "    </tr>\n",
       "    <tr>\n",
       "      <th>2010-01-01 18:07:00</th>\n",
       "      <td>0</td>\n",
       "      <td>-0.999534</td>\n",
       "      <td>0.030539</td>\n",
       "    </tr>\n",
       "    <tr>\n",
       "      <th>2010-01-01 19:07:00</th>\n",
       "      <td>0</td>\n",
       "      <td>-0.957571</td>\n",
       "      <td>0.288196</td>\n",
       "    </tr>\n",
       "  </tbody>\n",
       "</table>\n",
       "</div>"
      ],
      "text/plain": [
       "                        G(i)   day sin   day cos\n",
       "time                                            \n",
       "2010-01-01 00:07:00        0  0.030539  0.999534\n",
       "2010-01-01 01:07:00        0  0.288196  0.957571\n",
       "2010-01-01 02:07:00        0  0.526214  0.850352\n",
       "2010-01-01 03:07:00        0  0.728371  0.685183\n",
       "2010-01-01 04:07:00    91.98  0.880891  0.473320\n",
       "2010-01-01 05:07:00   432.28  0.973379  0.229200\n",
       "2010-01-01 06:07:00   681.34  0.999534 -0.030539\n",
       "2010-01-01 07:07:00   867.69  0.957571 -0.288196\n",
       "2010-01-01 08:07:00   987.62  0.850352 -0.526214\n",
       "2010-01-01 09:07:00  1034.38  0.685183 -0.728371\n",
       "2010-01-01 10:07:00   998.94  0.473320 -0.880891\n",
       "2010-01-01 11:07:00   887.09  0.229200 -0.973379\n",
       "2010-01-01 12:07:00    702.6 -0.030539 -0.999534\n",
       "2010-01-01 13:07:00   472.43 -0.288196 -0.957571\n",
       "2010-01-01 14:07:00   208.97 -0.526214 -0.850352\n",
       "2010-01-01 15:07:00        0 -0.728371 -0.685183\n",
       "2010-01-01 16:07:00        0 -0.880891 -0.473320\n",
       "2010-01-01 17:07:00        0 -0.973379 -0.229200\n",
       "2010-01-01 18:07:00        0 -0.999534  0.030539\n",
       "2010-01-01 19:07:00        0 -0.957571  0.288196"
      ]
     },
     "execution_count": 7,
     "metadata": {},
     "output_type": "execute_result"
    }
   ],
   "source": [
    "df = df.drop([\"Seconds\"], axis = 1)\n",
    "df.head(20)"
   ]
  },
  {
   "cell_type": "code",
   "execution_count": 8,
   "id": "e031791d",
   "metadata": {},
   "outputs": [
    {
     "name": "stdout",
     "output_type": "stream",
     "text": [
      "                        G(i)   day sin   day cos\n",
      "time                                            \n",
      "2010-01-01 00:07:00        0  0.030539  0.999534\n",
      "2010-01-01 01:07:00        0  0.288196  0.957571\n",
      "2010-01-01 02:07:00        0  0.526214  0.850352\n",
      "2010-01-01 03:07:00        0  0.728371  0.685183\n",
      "2010-01-01 04:07:00    91.98  0.880891  0.473320\n",
      "2010-01-01 05:07:00   432.28  0.973379  0.229200\n",
      "2010-01-01 06:07:00   681.34  0.999534 -0.030539\n",
      "2010-01-01 07:07:00   867.69  0.957571 -0.288196\n",
      "2010-01-01 08:07:00   987.62  0.850352 -0.526214\n",
      "2010-01-01 09:07:00  1034.38  0.685183 -0.728371\n",
      "G(i)        object\n",
      "day sin    float64\n",
      "day cos    float64\n",
      "dtype: object\n"
     ]
    }
   ],
   "source": [
    "df = df[:96431:]\n",
    "df_multi = df.iloc[:,0:5] # removing the time column \n",
    "df.tail(30)\n",
    "print(df_multi.head(10))\n",
    "print(df_multi.dtypes)\n",
    "# y = [x for x in df['Int'] if x == 0.0]\n",
    "# print(y)b\n",
    "# type(df_multi)\n"
   ]
  },
  {
   "cell_type": "code",
   "execution_count": 9,
   "id": "d0e5f1b4-1616-49ea-99c4-e2be20b9a56f",
   "metadata": {},
   "outputs": [
    {
     "name": "stdout",
     "output_type": "stream",
     "text": [
      "[<class 'float'>]\n"
     ]
    }
   ],
   "source": [
    "\n",
    "df_multi['G(i)'] = pd.to_numeric(df_multi['G(i)'], errors='coerce')\n",
    "unique_types = df_multi['G(i)'].apply(type).unique()\n",
    "\n",
    "print(unique_types)"
   ]
  },
  {
   "cell_type": "code",
   "execution_count": 10,
   "id": "2773ca88-86dc-441c-be2d-202967cc2462",
   "metadata": {},
   "outputs": [],
   "source": [
    "\n",
    "df_scaled = df_multi.to_numpy()\n"
   ]
  },
  {
   "cell_type": "code",
   "execution_count": 11,
   "id": "5bdc65e8",
   "metadata": {},
   "outputs": [
    {
     "name": "stdout",
     "output_type": "stream",
     "text": [
      "[[0.00000000e+00 3.05385132e-02 9.99533591e-01]\n",
      " [0.00000000e+00 2.88196268e-01 9.57571361e-01]\n",
      " [0.00000000e+00 5.26213924e-01 8.50352225e-01]\n",
      " [0.00000000e+00 7.28370970e-01 6.85182990e-01]\n",
      " [9.19800000e+01 8.80890738e-01 4.73319667e-01]]\n",
      "[4.32280000e+02 9.73379258e-01 2.29200391e-01]\n"
     ]
    }
   ],
   "source": [
    "\n",
    "print(df_scaled[0:5,:]) # this it the input\n",
    "print(df_scaled[5,:]) # this is the output"
   ]
  },
  {
   "cell_type": "code",
   "execution_count": 12,
   "id": "3de6a076",
   "metadata": {},
   "outputs": [],
   "source": [
    "def df_to_X_y(df_as_np, window_size=5):\n",
    "#   df_as_np = df.to_numpy()\n",
    "  X = []\n",
    "  y = []\n",
    "  for i in range(len(df_as_np)-window_size):\n",
    "    row = [a for a in df_as_np[i:i+window_size,:]]\n",
    "    X.append(row)\n",
    "    label = df_as_np[i+window_size,0]\n",
    "    y.append(label)\n",
    "  return np.array(X), np.array(y)"
   ]
  },
  {
   "cell_type": "code",
   "execution_count": 13,
   "id": "0ea1be1c",
   "metadata": {},
   "outputs": [
    {
     "name": "stdout",
     "output_type": "stream",
     "text": [
      "[[0.00000000e+00 2.88196268e-01 9.57571361e-01]\n",
      " [0.00000000e+00 5.26213924e-01 8.50352225e-01]\n",
      " [0.00000000e+00 7.28370970e-01 6.85182990e-01]\n",
      " [9.19800000e+01 8.80890738e-01 4.73319667e-01]\n",
      " [4.32280000e+02 9.73379258e-01 2.29200391e-01]]\n",
      "slfejlksdjlfkjdslkjfjlk\n",
      "432.28\n"
     ]
    },
    {
     "data": {
      "text/plain": [
       "((96426, 5, 3), (96426,))"
      ]
     },
     "execution_count": 13,
     "metadata": {},
     "output_type": "execute_result"
    }
   ],
   "source": [
    "WINDOW_SIZE = 5\n",
    "X1, y1 = df_to_X_y(df_scaled, WINDOW_SIZE)\n",
    "print(X1[1])\n",
    "print(\"slfejlksdjlfkjdslkjfjlk\")\n",
    "print(y1[0])\n",
    "X1.shape, y1.shape"
   ]
  },
  {
   "cell_type": "code",
   "execution_count": 14,
   "id": "8d26efb8",
   "metadata": {},
   "outputs": [
    {
     "data": {
      "text/plain": [
       "((61367, 5, 3), (61367,), (8760, 5, 3), (8760,), (26298, 5, 3), (26298,))"
      ]
     },
     "execution_count": 14,
     "metadata": {},
     "output_type": "execute_result"
    }
   ],
   "source": [
    "X_train1, y_train1 = X1[:61367], y1[:61367]\n",
    "X_val1, y_val1 = X1[61367:70127], y1[61367:70127] # 1 year for validation [61,367 , 70127]\n",
    "X_test1, y_test1 = X1[70128:], y1[70128:] #  1 year testing [70,128 , 78887]\n",
    "X_train1.shape, y_train1.shape, X_val1.shape, y_val1.shape, X_test1.shape, y_test1.shape\n"
   ]
  },
  {
   "cell_type": "code",
   "execution_count": 21,
   "id": "3afa5f1f-9502-4cf0-81e0-40492052e5f9",
   "metadata": {
    "scrolled": true
   },
   "outputs": [
    {
     "data": {
      "text/plain": [
       "array([[  0.  ,   0.  ,   0.  ,   0.  ,  91.98],\n",
       "       [  0.  ,   0.  ,   0.  ,  91.98, 432.28],\n",
       "       [  0.  ,   0.  ,  91.98, 432.28, 681.34],\n",
       "       ...,\n",
       "       [  0.  ,   0.  ,   0.  ,   0.  ,   0.  ],\n",
       "       [  0.  ,   0.  ,   0.  ,   0.  ,   0.  ],\n",
       "       [  0.  ,   0.  ,   0.  ,   0.  ,   0.  ]])"
      ]
     },
     "execution_count": 21,
     "metadata": {},
     "output_type": "execute_result"
    }
   ],
   "source": [
    "X_train1[:,:,0]"
   ]
  },
  {
   "cell_type": "code",
   "execution_count": null,
   "id": "f7abb9be-a8ed-44b6-8028-ce5330c3821a",
   "metadata": {
    "scrolled": true
   },
   "outputs": [],
   "source": [
    "print(np.mean(X_train1[:,:,0]))\n",
    "np.std((X_train1[:,:,0]))\n",
    "#  91.98, => -0.48\n",
    "# 432.28 =>0.44"
   ]
  },
  {
   "cell_type": "code",
   "execution_count": null,
   "id": "04baa602-ed11-4259-a4c2-27a82f630f6a",
   "metadata": {},
   "outputs": [],
   "source": [
    "g_training_mean = np.mean( X_train1[ : ,: ,0])\n",
    "g_training_std = np.std( X_train1[ : ,: ,0])\n",
    "def preprocess(X):\n",
    "    X[:,:,0] = (X[:,:,0] - g_training_mean)/ g_training_std\n",
    "    return X\n"
   ]
  },
  {
   "cell_type": "code",
   "execution_count": null,
   "id": "19a73e61-bb83-43b8-aea8-4b3bc219b451",
   "metadata": {},
   "outputs": [],
   "source": [
    "preprocess(X_train1)\n",
    "preprocess(X_val1)\n",
    "preprocess(X_test1)\n"
   ]
  },
  {
   "cell_type": "code",
   "execution_count": null,
   "id": "890206a4",
   "metadata": {
    "scrolled": true
   },
   "outputs": [],
   "source": [
    "from tensorflow.keras.models import Sequential\n",
    "from tensorflow.keras.layers import *\n",
    "from tensorflow.keras.callbacks import ModelCheckpoint\n",
    "from tensorflow.keras.losses import MeanSquaredError\n",
    "from tensorflow.keras.metrics import RootMeanSquaredError\n",
    "from tensorflow.keras.optimizers import Adam\n",
    "\n",
    "model1 = Sequential()\n",
    "model1.add(InputLayer((5, 3)))\n",
    "model1.add(LSTM(64))\n",
    "model1.add(Dense(8, 'relu'))\n",
    "model1.add(Dense(1, 'linear'))\n",
    "\n",
    "model1.summary()"
   ]
  },
  {
   "cell_type": "code",
   "execution_count": null,
   "id": "19972ed9",
   "metadata": {},
   "outputs": [],
   "source": [
    "from tensorflow.keras.callbacks import EarlyStopping"
   ]
  },
  {
   "cell_type": "code",
   "execution_count": null,
   "id": "7addce40",
   "metadata": {},
   "outputs": [],
   "source": [
    "early_stopping = EarlyStopping(monitor='val_loss', min_delta=0.01, patience=10, verbose=1, mode='min')"
   ]
  },
  {
   "cell_type": "code",
   "execution_count": null,
   "id": "d8219317",
   "metadata": {},
   "outputs": [],
   "source": [
    "cp1 = ModelCheckpoint('model_G(I)_TIME/', save_best_only=True)\n",
    "# metrics , learning rate, loss  can be changed \n",
    "model1.compile(loss=MeanSquaredError(), optimizer=Adam(learning_rate=0.001), metrics=[RootMeanSquaredError()])"
   ]
  },
  {
   "cell_type": "code",
   "execution_count": null,
   "id": "dc237de2",
   "metadata": {
    "scrolled": true
   },
   "outputs": [],
   "source": [
    "model1.fit(X_train1, y_train1, validation_data=(X_val1, y_val1), epochs=50, callbacks=[cp1,early_stopping])"
   ]
  },
  {
   "cell_type": "code",
   "execution_count": null,
   "id": "a454c7f1",
   "metadata": {},
   "outputs": [],
   "source": [
    "from tensorflow.keras.models import load_model\n",
    "model1 = load_model('model_G(I)_TIME/')"
   ]
  },
  {
   "cell_type": "code",
   "execution_count": null,
   "id": "bdda30eb",
   "metadata": {},
   "outputs": [],
   "source": [
    "train_predictions = model1.predict(X_train1).flatten()\n",
    "train_results = pd.DataFrame(data={'Train Predictions':train_predictions, 'Actuals':y_train1.flatten()})\n",
    "train_results.head(30)"
   ]
  },
  {
   "cell_type": "code",
   "execution_count": null,
   "id": "50fdd92d",
   "metadata": {},
   "outputs": [],
   "source": [
    "%matplotlib inline\n",
    "\n",
    "import matplotlib.pyplot as plt\n",
    "plt.plot(train_results['Train Predictions'][50:100])\n",
    "plt.plot(train_results['Actuals'][50:100])"
   ]
  },
  {
   "cell_type": "code",
   "execution_count": null,
   "id": "479e2029",
   "metadata": {},
   "outputs": [],
   "source": [
    "\n",
    "val_predictions = model1.predict(X_val1).flatten()\n",
    "val_results = pd.DataFrame(data={'Val Predictions':val_predictions, 'Actuals':y_val1.flatten()})\n",
    "val_results.head(20)"
   ]
  },
  {
   "cell_type": "code",
   "execution_count": null,
   "id": "f535c6a7",
   "metadata": {},
   "outputs": [],
   "source": [
    "plt.plot(val_results['Val Predictions'][50:100],label)\n",
    "plt.plot(val_results['Actuals'][50:100])"
   ]
  },
  {
   "cell_type": "code",
   "execution_count": null,
   "id": "d68a14e7",
   "metadata": {},
   "outputs": [],
   "source": [
    "test_predictions = model1.predict(X_test1).flatten()\n",
    "test_results = pd.DataFrame(data={'Test Predictions':test_predictions, 'Actuals':y_test1.flatten()})\n",
    "test_results"
   ]
  },
  {
   "cell_type": "code",
   "execution_count": null,
   "id": "91a07b9d",
   "metadata": {},
   "outputs": [],
   "source": [
    "from sklearn.metrics import mean_squared_error as mse\n",
    "\n",
    "def plot_predictions1(model, X, y, start=50, end=100):\n",
    "  predictions = model.predict(X).flatten()\n",
    "  df = pd.DataFrame(data={'Predictions': predictions, 'Actuals':y})\n",
    "  plt.plot(df['Predictions'][start:end])\n",
    "  plt.plot(df['Actuals'][start:end])\n",
    "  return df, mse(predictions, y)"
   ]
  },
  {
   "cell_type": "code",
   "execution_count": null,
   "id": "86df6333",
   "metadata": {},
   "outputs": [],
   "source": [
    "plot_predictions1(model1, X_test1, y_test1.flatten())"
   ]
  },
  {
   "cell_type": "code",
   "execution_count": null,
   "id": "ddc56b17-f726-4fbc-842d-531cb53091a9",
   "metadata": {},
   "outputs": [],
   "source": [
    "df_multi.iloc[78889:78920,:]"
   ]
  },
  {
   "cell_type": "code",
   "execution_count": null,
   "id": "05d10996",
   "metadata": {},
   "outputs": [],
   "source": [
    "kkk = df_multi.iloc[78885:78890,:]\n",
    "time = str(df_multi.index[78889])\n",
    "print(time)\n",
    "print(type(kkk))\n",
    "print(kkk.shape)\n",
    "reshaped_array = np.reshape(kkk.to_numpy(), (1, 5, 3))\n",
    "preprocess(reshaped_array)\n",
    "print(reshaped_array)\n",
    "predictions = model1.predict(reshaped_array)\n",
    "print(predictions[0][0])\n",
    "\n",
    "# original= scaler.inverse_transform(predictions)\n",
    "# print(original)\n",
    "# predictions\n",
    "# inverse_data = np.zeros((len(predictions), scaler.shape[1]))"
   ]
  },
  {
   "cell_type": "code",
   "execution_count": null,
   "id": "67b47b0b-140c-4e8b-a0d8-e5351710be09",
   "metadata": {},
   "outputs": [],
   "source": [
    "from datetime import datetime, timedelta\n",
    "\n",
    "def get_next_24_hours_from_datetime(start_datetime_str):\n",
    "    \"\"\"\n",
    "    Generate a list of strings representing the datetime for the next 24 hours,\n",
    "    given the start datetime in the format \"YYYY-MM-DD HH:MM:SS\".\n",
    "\n",
    "    Parameters:\n",
    "    - start_datetime_str (str): The starting datetime in the format \"YYYY-MM-DD HH:MM:SS\".\n",
    "\n",
    "    Returns:\n",
    "    - list of strings: Each string contains the datetime for the next 24 hours in the format \"YYYY-MM-DD HH:MM:SS\".\n",
    "    \"\"\"\n",
    "    # Convert the input string to a datetime object\n",
    "    start_datetime = datetime.strptime(start_datetime_str, \"%Y-%m-%d %H:%M:%S\")\n",
    "\n",
    "    # Initialize a list to hold the future datetimes in the desired format\n",
    "    future_datetimes_formatted = []\n",
    "    day_sin= []\n",
    "    day_cos= []\n",
    "\n",
    "    # Calculate and format the next 24 hours\n",
    "    for i in range(2, 26):  # Start from 1 to include the next hour immediately\n",
    "        future_datetime = start_datetime + timedelta(hours=i)\n",
    "        timeStamp = future_datetime.timestamp()\n",
    "        day_sin_ = np.sin(timeStamp * ( 2 * np.pi /day))\n",
    "        day_cos_ = np.cos(timeStamp * ( 2 * np.pi /day))\n",
    "        day_sin.append(day_sin_)\n",
    "        day_cos.append(day_cos_)\n",
    "        \n",
    "    return day_cos,day_sin\n"
   ]
  },
  {
   "cell_type": "code",
   "execution_count": null,
   "id": "e15c566d-9834-41b1-a2cd-a637127727b2",
   "metadata": {},
   "outputs": [],
   "source": [
    "day_cos, day_sin = get_next_24_hours_from_datetime(time)"
   ]
  },
  {
   "cell_type": "code",
   "execution_count": null,
   "id": "8d388065",
   "metadata": {},
   "outputs": [],
   "source": [
    "\n",
    "input = df_scaled[78885:78890,:]  # Initial input extracted from your original scaled DataFrame\n",
    "output_scaled = []  \n",
    "output_not_scaled = [] \n",
    "\n",
    "for i in range(24):\n",
    "    # Reshape input for the model prediction\n",
    "    reshaped_array = np.reshape(input, (1, 5, 3))\n",
    "    preprocess(reshaped_array)\n",
    "    prediction = []\n",
    "    prediction.append( model1.predict(reshaped_array)[0][0])\n",
    "    prediction.append(day_sin[i])\n",
    "    prediction.append(day_cos[i])\n",
    "    \n",
    "    \n",
    "    \n",
    "    # Reshape the prediction to match the input shape if necessary\n",
    "    # Adjust the reshaping based on the actual shape of your model's output\n",
    "    prediction_reshaped = np.reshape(prediction, (1, 3))\n",
    "    input = np.reshape(input, (5, 3))  # Ensure input is in the correct shape before appending\n",
    "    # Append the new prediction at the end of the input array\n",
    "    input = np.vstack([input, prediction_reshaped])  # Stack vertically to add as a new row\n",
    "    \n",
    "    # Remove the oldest entry to maintain the sliding window of input data\n",
    "    input = input[1:, :]  # Keep the last 5 entries, including the newly added prediction\n",
    "    \n",
    "    output_scaled.append(prediction[0])\n",
    "\n",
    "\n",
    "# print(output_scaled)  # Remains empty, uncomment if needed\n",
    "print(output_scaled)  # Print or process the predictions as \n",
    "\n",
    "\n"
   ]
  },
  {
   "cell_type": "code",
   "execution_count": null,
   "id": "0c262722",
   "metadata": {},
   "outputs": [],
   "source": [
    "print(\"this is the real scaled output\")\n",
    "for i in output_scaled:\n",
    "    print(i)"
   ]
  },
  {
   "cell_type": "code",
   "execution_count": null,
   "id": "dc28c8eb",
   "metadata": {},
   "outputs": [],
   "source": []
  },
  {
   "cell_type": "code",
   "execution_count": null,
   "id": "2709c5a1",
   "metadata": {},
   "outputs": [],
   "source": []
  },
  {
   "cell_type": "code",
   "execution_count": null,
   "id": "2c3d49a3",
   "metadata": {},
   "outputs": [],
   "source": []
  },
  {
   "cell_type": "code",
   "execution_count": null,
   "id": "1dc124bd",
   "metadata": {},
   "outputs": [],
   "source": []
  },
  {
   "cell_type": "code",
   "execution_count": null,
   "id": "96f37ea1",
   "metadata": {},
   "outputs": [],
   "source": []
  },
  {
   "cell_type": "code",
   "execution_count": null,
   "id": "eba8093b",
   "metadata": {},
   "outputs": [],
   "source": []
  }
 ],
 "metadata": {
  "kernelspec": {
   "display_name": "Python 3 (ipykernel)",
   "language": "python",
   "name": "python3"
  },
  "language_info": {
   "codemirror_mode": {
    "name": "ipython",
    "version": 3
   },
   "file_extension": ".py",
   "mimetype": "text/x-python",
   "name": "python",
   "nbconvert_exporter": "python",
   "pygments_lexer": "ipython3",
   "version": "3.8.15"
  }
 },
 "nbformat": 4,
 "nbformat_minor": 5
}
